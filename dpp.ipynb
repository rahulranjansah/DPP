{
 "cells": [
  {
   "cell_type": "code",
   "execution_count": 2,
   "metadata": {},
   "outputs": [],
   "source": [
    "haystack = \"sadbutsad\"\n",
    "needle = \"sad\""
   ]
  },
  {
   "cell_type": "code",
   "execution_count": 8,
   "metadata": {},
   "outputs": [
    {
     "data": {
      "text/plain": [
       "0"
      ]
     },
     "execution_count": 8,
     "metadata": {},
     "output_type": "execute_result"
    }
   ],
   "source": [
    "haystack.index(\"s\")"
   ]
  },
  {
   "cell_type": "code",
   "execution_count": 9,
   "metadata": {},
   "outputs": [
    {
     "data": {
      "text/plain": [
       "'dbu'"
      ]
     },
     "execution_count": 9,
     "metadata": {},
     "output_type": "execute_result"
    }
   ],
   "source": [
    "haystack[2:5]"
   ]
  },
  {
   "cell_type": "code",
   "execution_count": 7,
   "metadata": {},
   "outputs": [
    {
     "name": "stdout",
     "output_type": "stream",
     "text": [
      "s\n",
      "0\n",
      "a\n",
      "1\n",
      "d\n",
      "2\n",
      "b\n",
      "3\n",
      "u\n",
      "4\n",
      "t\n",
      "5\n",
      "s\n",
      "6\n",
      "a\n",
      "7\n",
      "d\n",
      "8\n"
     ]
    }
   ],
   "source": [
    "for index, char in enumerate(haystack):\n",
    "    # index = haystack.index(char)\n",
    "    print(char)\n",
    "    print(index)"
   ]
  },
  {
   "cell_type": "code",
   "execution_count": 90,
   "metadata": {},
   "outputs": [
    {
     "name": "stdout",
     "output_type": "stream",
     "text": [
      "flow\n"
     ]
    }
   ],
   "source": [
    "string = [\"flower\",\"flow\", \"flight\"]\n",
    "# minimum = \"a\" * 200\n",
    "# for word in string:\n",
    "#     if len(word) < len(minimum):\n",
    "#         minimum = word\n",
    "# print(minimum)\n",
    "minimum = min(string, key=len)\n",
    "print(minimum)\n"
   ]
  },
  {
   "cell_type": "code",
   "execution_count": 106,
   "metadata": {},
   "outputs": [
    {
     "name": "stdout",
     "output_type": "stream",
     "text": [
      "fl\n"
     ]
    }
   ],
   "source": [
    "# check\n",
    "dic = {'flow': 2, 'flig': 1, 'flo': 2, 'fli': 1, 'fl': 3, 'f': 3}\n",
    "possible_prefix = []\n",
    "max_val = max(dic.values())\n",
    "\n",
    "for k, i in dic.items():\n",
    "    if i == max_val:\n",
    "        possible_prefix.append(k)\n",
    "\n",
    "final_prefix = max(possible_prefix, key=len)\n",
    "\n",
    "print(final_prefix)"
   ]
  },
  {
   "cell_type": "code",
   "execution_count": 120,
   "metadata": {},
   "outputs": [
    {
     "name": "stdout",
     "output_type": "stream",
     "text": [
      "\n"
     ]
    }
   ],
   "source": [
    "strs = [\"\"]\n",
    "all_prefix_counter = {}\n",
    "prefixSum = []\n",
    "minimum = min(strs, key=len)\n",
    "prefix_length = len(minimum)\n",
    "while prefix_length != 0:\n",
    "    for word in strs:\n",
    "        root = \"\"\n",
    "        root += word[:prefix_length]\n",
    "        prefixSum.append(root)\n",
    "        all_prefix_counter[root] = all_prefix_counter.get(root, 0) + 1\n",
    "\n",
    "    prefix_length -= 1\n",
    "\n",
    "possible_prefix = []\n",
    "if all_prefix_counter:\n",
    "    maximum = max(all_prefix_counter.values())\n",
    "if maximum == len(strs):\n",
    "    for k,i in all_prefix_counter.items():\n",
    "        if i == maximum:\n",
    "            possible_prefix.append(k)\n",
    "if possible_prefix:\n",
    "    final_prefix = max(possible_prefix, key=len)\n",
    "    print (final_prefix)\n",
    "else:\n",
    "    print(\"\")\n",
    "\n",
    "# print(final_prefix)\n",
    "# print(all_prefix_counter)\n",
    "# print(prefix)\n"
   ]
  },
  {
   "cell_type": "code",
   "execution_count": 66,
   "metadata": {},
   "outputs": [
    {
     "name": "stdout",
     "output_type": "stream",
     "text": [
      "flow\n"
     ]
    }
   ],
   "source": [
    "string = [\"flower\",\"flow\",\"flight\"]\n",
    "minimum_word = min(string, key=len)\n",
    "\n",
    "\n",
    "# string = [\"racecar\", \"dog\", \"car\"]\n",
    "count = {}\n",
    "prefixSum = []\n",
    "for word in string:\n",
    "    root = \"\"\n",
    "    root += word[:len(minimum_word)]\n",
    "    prefixSum.append(root)\n",
    "\n",
    "    count[root] = count.get(root, 0) + 1\n",
    "\n",
    "maximum = max(count.values())\n",
    "\n",
    "if maximum == len(string):\n",
    "    print (f\"{prefixSum[0]}\")\n",
    "else:\n",
    "    print (\"empty\")\n",
    "# if string[]"
   ]
  },
  {
   "cell_type": "code",
   "execution_count": 88,
   "metadata": {},
   "outputs": [
    {
     "name": "stdout",
     "output_type": "stream",
     "text": [
      "\n"
     ]
    }
   ],
   "source": [
    "import os\n",
    "\n",
    "string = [\"flower\",\"flow\", \"dfo\"]\n",
    "common_prefix = os.path.commonprefix(string)\n",
    "print(common_prefix)"
   ]
  },
  {
   "cell_type": "code",
   "execution_count": 114,
   "metadata": {},
   "outputs": [
    {
     "name": "stdout",
     "output_type": "stream",
     "text": [
      "False\n"
     ]
    }
   ],
   "source": [
    "my_list = []\n",
    "if my_list:\n",
    "    print(True)\n",
    "else:\n",
    "    print(False)"
   ]
  },
  {
   "cell_type": "code",
   "execution_count": 70,
   "metadata": {},
   "outputs": [
    {
     "name": "stdout",
     "output_type": "stream",
     "text": [
      "fl\n"
     ]
    }
   ],
   "source": [
    "string = [\"flower\",\"flow\", \"flight\"]\n",
    "minimum_word = min(string, key=len)\n",
    "\n",
    "# string = [\"racecar\", \"dog\", \"car\"]\n",
    "count = {}\n",
    "prefixSum = []\n",
    "for word in string:\n",
    "    root = \"\"\n",
    "    root += word[:2]\n",
    "    # single_root +=\n",
    "    prefixSum.append(root)\n",
    "\n",
    "    count[root] = count.get(root, 0) + 1\n",
    "\n",
    "maximum = max(count.values())\n",
    "\n",
    "if maximum == len(string):\n",
    "    print (f\"{prefixSum[0]}\")\n",
    "else:\n",
    "    print (\"empty\")\n",
    "# if string[]\n",
    "\n",
    "# print (prefix)\n",
    "# for word in string[]:\n",
    "#     count[word] = count.get(word, 0) + 1\n",
    "# print (count)"
   ]
  },
  {
   "cell_type": "code",
   "execution_count": 161,
   "metadata": {},
   "outputs": [],
   "source": [
    "string = [\"flower\",\"flow\", \"flight\"]\n",
    "string = sorted(string)\n",
    "# print(string)"
   ]
  },
  {
   "cell_type": "code",
   "execution_count": 162,
   "metadata": {},
   "outputs": [],
   "source": [
    "first = string[0]\n",
    "last = string[-1]\n",
    "count = \"\""
   ]
  },
  {
   "cell_type": "code",
   "execution_count": 166,
   "metadata": {},
   "outputs": [
    {
     "name": "stdout",
     "output_type": "stream",
     "text": [
      "fl\n"
     ]
    }
   ],
   "source": [
    "string = [\"flower\",\"flow\", \"flight\"]\n",
    "string = sorted(string)\n",
    "\n",
    "first = string[0]\n",
    "last = string[-1]\n",
    "count = \"\"\n",
    "\n",
    "for i in range(min(len(first), len(last))):\n",
    "\n",
    "    if (first[i] != last[i]):\n",
    "        break\n",
    "\n",
    "    else:\n",
    "        count += first[i]\n",
    "\n",
    "print(count)\n"
   ]
  },
  {
   "cell_type": "markdown",
   "metadata": {},
   "source": [
    "# problem 1: two sum"
   ]
  },
  {
   "cell_type": "code",
   "execution_count": 56,
   "metadata": {},
   "outputs": [
    {
     "data": {
      "text/plain": [
       "[0, 0]"
      ]
     },
     "execution_count": 56,
     "metadata": {},
     "output_type": "execute_result"
    }
   ],
   "source": [
    "\n",
    "def two_sum(nums, target):\n",
    "    i = 0\n",
    "    j = len(nums) - 1\n",
    "    nums_sort = sorted(nums)\n",
    "    pairs = {}\n",
    "    for k, num in enumerate(nums):\n",
    "        if num in pairs:\n",
    "            pairs[num].append(k)\n",
    "        else:\n",
    "            pairs[num] = [k]\n",
    "\n",
    "    while i < j:\n",
    "\n",
    "        if nums_sort[i] + nums_sort[j] == target:\n",
    "            first, second = nums_sort[i], nums_sort[j]\n",
    "            if len(pairs[first]) >= 3:\n",
    "                return pairs[first][0]\n",
    "            else:\n",
    "                return [pairs[first][0], pairs[second][0]]\n",
    "        elif nums[i] + nums[j] > target:\n",
    "            j -= 1\n",
    "\n",
    "        elif nums[i] + nums[j] < target:\n",
    "            i += 1\n",
    "\n",
    "# two_sum([2,7,11,15], 9)\n",
    "# two_sum([3,2,4], 6)\n",
    "two_sum([3,3], 6)\n",
    "# two_sum([0, 2, 4, 5], 5)\n",
    "# assert two_sum([2,7,11,15], 9) == [0, 1], \"Test case 1 failed\"\n",
    "# assert two_sum([3,2,4], 6) == [1, 2], \"Test case 2 failed\"\n",
    "# assert two_sum([3,3], 6) == [0, 1], \"Test case 3 failed\"\n",
    "# assert two_sum([0, 2, 4, 5], 5) == [0, 3], \"Test case 4 failed\"\n"
   ]
  },
  {
   "cell_type": "code",
   "execution_count": 15,
   "metadata": {},
   "outputs": [
    {
     "name": "stdout",
     "output_type": "stream",
     "text": [
      "{1: [0, 1], 2: [2]}\n"
     ]
    }
   ],
   "source": [
    "nums = [1,1,2]\n",
    "pairs = {}\n",
    "for k, num in enumerate(nums):\n",
    "    if num in pairs:\n",
    "        pairs[num].append(k)\n",
    "    else:\n",
    "        pairs[num] = [k]\n",
    "print(pairs)"
   ]
  },
  {
   "cell_type": "code",
   "execution_count": 61,
   "metadata": {},
   "outputs": [
    {
     "data": {
      "text/plain": [
       "[0, 0]"
      ]
     },
     "execution_count": 61,
     "metadata": {},
     "output_type": "execute_result"
    }
   ],
   "source": [
    "def twoSum(nums, target):\n",
    "    nums_with_indices = [(num, i) for i, num in enumerate(nums)]\n",
    "\n",
    "    nums_with_indices.sort(key=lambda x: x[0])\n",
    "\n",
    "    left, right = 0, len(nums) - 1\n",
    "\n",
    "    while left < right:\n",
    "        current_sum = nums_with_indices[left][0] + nums_with_indices[right][0]\n",
    "        if current_sum == target:\n",
    "            return [nums_with_indices[left][1], nums_with_indices[right][1]]\n",
    "        elif current_sum < target:\n",
    "            left += 1\n",
    "        else:\n",
    "            right -= 1\n",
    "\n",
    "    return []\n",
    "\n",
    "def findIndex(nums, target):\n",
    "    for i, num in enumerate(nums):\n",
    "        if num == target:\n",
    "            return i\n",
    "\n",
    "    return -1\n",
    "\n",
    "\n",
    "\n",
    "# two_sum([2,7,11,15], 9)\n",
    "# two_sum([3,2,4], 6)\n",
    "two_sum([3,3], 6)\n",
    "# two_sum([0, 2, 4, 5], 5)\n",
    "# assert two_sum([2,7,11,15], 9) == [0, 1], \"Test case 1 failed\"\n",
    "# assert two_sum([3,2,4], 6) == [1, 2], \"Test case 2 failed\"\n",
    "# assert two_sum([3,3], 6) == [0, 1], \"Test case 3 failed\"\n",
    "# assert two_sum([0, 2, 4, 5], 5) == [0, 3], \"Test case 4 failed\""
   ]
  },
  {
   "cell_type": "code",
   "execution_count": null,
   "metadata": {},
   "outputs": [],
   "source": [
    "# Parenthesis closing and opening"
   ]
  },
  {
   "cell_type": "code",
   "execution_count": 68,
   "metadata": {},
   "outputs": [
    {
     "name": "stdout",
     "output_type": "stream",
     "text": [
      "[91, 91, 91, 93]\n"
     ]
    }
   ],
   "source": [
    "s = \"[[[]\"\n",
    "parentheses = []\n",
    "for symbols in s:\n",
    "    parentheses.append(ord(symbols))\n",
    "\n",
    "print(parentheses)"
   ]
  },
  {
   "cell_type": "code",
   "execution_count": 69,
   "metadata": {},
   "outputs": [
    {
     "name": "stdout",
     "output_type": "stream",
     "text": [
      "False\n"
     ]
    }
   ],
   "source": [
    "i = 0\n",
    "output = True\n",
    "while i < len(parentheses) - 1:\n",
    "\n",
    "    if (parentheses[i] + parentheses[i+1] == 81) or (parentheses[i] + parentheses[i+1] == 248) or (parentheses[i] + parentheses[i+1] == 184):\n",
    "        if (parentheses[i] == 40) or (parentheses[i] == 123) or (parentheses[i] == 91):\n",
    "            i += 2\n",
    "        else:\n",
    "            output = False\n",
    "            print(output)\n",
    "            break\n",
    "\n",
    "    elif (parentheses[i] + parentheses[-(i+1)] == 81) or (parentheses[i] == 91 + parentheses[-(i+1)] == 184) or (parentheses[i] + parentheses[-(i+1)] == 248):\n",
    "        if (parentheses[i] == 40) or (parentheses[i] == 123) or (parentheses[i] == 91):\n",
    "            i += 1\n",
    "        else:\n",
    "            output = False\n",
    "            print(output)\n",
    "            break\n",
    "    else:\n",
    "        output = False\n",
    "        print(output)\n",
    "        break\n",
    "\n",
    "\n",
    "    print (output)"
   ]
  },
  {
   "cell_type": "code",
   "execution_count": 47,
   "metadata": {},
   "outputs": [
    {
     "ename": "IndexError",
     "evalue": "list index out of range",
     "output_type": "error",
     "traceback": [
      "\u001b[0;31m---------------------------------------------------------------------------\u001b[0m",
      "\u001b[0;31mIndexError\u001b[0m                                Traceback (most recent call last)",
      "Cell \u001b[0;32mIn[47], line 22\u001b[0m\n\u001b[1;32m     19\u001b[0m     output \u001b[38;5;241m=\u001b[39m \u001b[38;5;28;01mFalse\u001b[39;00m\n\u001b[1;32m     20\u001b[0m     \u001b[38;5;28;01mbreak\u001b[39;00m\n\u001b[0;32m---> 22\u001b[0m \u001b[38;5;28;01mif\u001b[39;00m (\u001b[43mparentheses\u001b[49m\u001b[43m[\u001b[49m\u001b[43mi\u001b[49m\u001b[43m]\u001b[49m \u001b[38;5;241m+\u001b[39m parentheses[i\u001b[38;5;241m+\u001b[39m\u001b[38;5;241m1\u001b[39m] \u001b[38;5;241m==\u001b[39m \u001b[38;5;241m248\u001b[39m):\n\u001b[1;32m     23\u001b[0m     \u001b[38;5;28;01mif\u001b[39;00m (parentheses[i] \u001b[38;5;241m==\u001b[39m \u001b[38;5;241m123\u001b[39m):\n\u001b[1;32m     24\u001b[0m         i \u001b[38;5;241m+\u001b[39m\u001b[38;5;241m=\u001b[39m \u001b[38;5;241m2\u001b[39m\n",
      "\u001b[0;31mIndexError\u001b[0m: list index out of range"
     ]
    }
   ],
   "source": [
    "i = 0\n",
    "output = True\n",
    "\n",
    "if len(parentheses) % 2 == 1:\n",
    "    output = False\n",
    "    print (output)\n",
    "\n",
    "\n",
    "while i < len(parentheses) - 1:\n",
    "\n",
    "    if (parentheses[i] + parentheses[i+1] == 81):\n",
    "        if (parentheses[i] == 40):\n",
    "            i += 2\n",
    "\n",
    "    elif (parentheses[i] + parentheses[-(i+1)] == 81):\n",
    "        if (parentheses[i] == 40):\n",
    "            i += 1\n",
    "    else:\n",
    "        output = False\n",
    "        break\n",
    "\n",
    "    if (parentheses[i] + parentheses[i+1] == 248):\n",
    "        if (parentheses[i] == 123):\n",
    "            i += 2\n",
    "    elif (parentheses[i] + parentheses[-(i+1)] == 248):\n",
    "        if (parentheses[i] == 123):\n",
    "            i += 1\n",
    "    else:\n",
    "        output = False\n",
    "        break\n",
    "\n",
    "    if (parentheses[i] + parentheses[i+1] == 184):\n",
    "        if (parentheses[i] == 91):\n",
    "            i += 2\n",
    "    elif (parentheses[i] + parentheses[-(i+1)] == 184):\n",
    "        if (parentheses[i] == 91):\n",
    "            i += 1\n",
    "    else:\n",
    "        output = False\n",
    "        break\n",
    "\n",
    "print (output)"
   ]
  },
  {
   "cell_type": "code",
   "execution_count": 20,
   "metadata": {},
   "outputs": [
    {
     "name": "stdout",
     "output_type": "stream",
     "text": [
      "4\n"
     ]
    }
   ],
   "source": [
    "a = [1,2,3,4,5]\n",
    "i = 2\n",
    "print(a[(i+1)])"
   ]
  },
  {
   "cell_type": "code",
   "execution_count": 84,
   "metadata": {},
   "outputs": [],
   "source": [
    "check_stack = []\n",
    "s = \"(([]){}])\""
   ]
  },
  {
   "cell_type": "code",
   "execution_count": 86,
   "metadata": {},
   "outputs": [
    {
     "name": "stdout",
     "output_type": "stream",
     "text": [
      "False\n"
     ]
    }
   ],
   "source": [
    "check_dict = {\")\": \"(\", \"}\":\"{\", \"]\":\"[\"}\n",
    "check_dict = {\")\": \"(\", \"}\":\"{\", \"]\":\"[\"}\n",
    "for char in s:\n",
    "    if char in check_dict:\n",
    "        if check_stack and check_stack[-1] == check_dict[char]:\n",
    "            check_stack.pop()\n",
    "        else:\n",
    "            print(False)\n",
    "    else:\n",
    "        check_stack.append(char)"
   ]
  },
  {
   "cell_type": "code",
   "execution_count": 87,
   "metadata": {},
   "outputs": [
    {
     "name": "stdout",
     "output_type": "stream",
     "text": [
      "[]\n"
     ]
    }
   ],
   "source": [
    "print(check_stack)"
   ]
  },
  {
   "cell_type": "code",
   "execution_count": 88,
   "metadata": {},
   "outputs": [],
   "source": [
    "# internet solution\n",
    "\n",
    "class Solution(object):\n",
    "    def isValid(self, s):\n",
    "        # Create a pair of opening and closing parrenthesis...\n",
    "        opcl = dict(('()', '[]', '{}'))\n",
    "        # Create stack data structure...\n",
    "        stack = []\n",
    "        # Traverse each charater in input string...\n",
    "        for idx in s:\n",
    "            # If open parentheses are present, append it to stack...\n",
    "            if idx in '([{':\n",
    "                stack.append(idx)\n",
    "            # If the character is closing parentheses, check that the same type opening parentheses is being pushed to the stack or not...\n",
    "            # If not, we need to return false...\n",
    "            elif len(stack) == 0 or idx != opcl[stack.pop()]:\n",
    "                return False\n",
    "        # At last, we check if the stack is empty or not...\n",
    "        # If the stack is empty it means every opened parenthesis is being closed and we can return true, otherwise we return false...\n",
    "        return len(stack) == 0"
   ]
  },
  {
   "cell_type": "markdown",
   "metadata": {},
   "source": [
    "# count the number elements in a function"
   ]
  },
  {
   "cell_type": "code",
   "execution_count": 13,
   "metadata": {},
   "outputs": [
    {
     "name": "stdout",
     "output_type": "stream",
     "text": [
      "{4: 2, 2: 2, 3: 1}\n"
     ]
    }
   ],
   "source": [
    "nums = [4,4,2,2,3]\n",
    "count = {}\n",
    "for values in nums:\n",
    "    count[values] = count.get(values,0) + 1\n",
    "\n",
    "print(count)\n"
   ]
  },
  {
   "cell_type": "code",
   "execution_count": 29,
   "metadata": {},
   "outputs": [
    {
     "name": "stdout",
     "output_type": "stream",
     "text": [
      "3\n"
     ]
    }
   ],
   "source": [
    "minimum = min(count.items(), key=lambda x: x[1])\n",
    "\n",
    "print(minimum[0])"
   ]
  },
  {
   "cell_type": "code",
   "execution_count": 60,
   "metadata": {},
   "outputs": [
    {
     "name": "stdout",
     "output_type": "stream",
     "text": [
      "3 [2, 2]\n"
     ]
    }
   ],
   "source": [
    "# this is not in-place\n",
    "\n",
    "nums = [3,2,2,3]\n",
    "val = 3\n",
    "expectednums = []\n",
    "for num in nums:\n",
    "    if num != val:\n",
    "        expectednums.append(num)\n",
    "k = len(expectednums) + 1\n",
    "print (k, expectednums)\n"
   ]
  },
  {
   "cell_type": "code",
   "execution_count": 61,
   "metadata": {},
   "outputs": [
    {
     "name": "stdout",
     "output_type": "stream",
     "text": [
      "4\n"
     ]
    }
   ],
   "source": [
    "# this is in-place solution\n",
    "k = 0\n",
    "nums = [1,2,3,3,4,3,4]\n",
    "for i in range(len(nums)):\n",
    "    if nums[i] != val:\n",
    "        nums[k] = nums[i]\n",
    "        k += 1\n",
    "\n",
    "print (k)"
   ]
  },
  {
   "cell_type": "code",
   "execution_count": null,
   "metadata": {},
   "outputs": [],
   "source": [
    "# p 344 reverse string"
   ]
  },
  {
   "cell_type": "code",
   "execution_count": null,
   "metadata": {},
   "outputs": [],
   "source": [
    "s = [\"h\",\"e\",\"l\",\"l\",\"o\"]\n",
    "s = s.reverse()\n",
    "print (s)"
   ]
  },
  {
   "cell_type": "code",
   "execution_count": null,
   "metadata": {},
   "outputs": [],
   "source": [
    "# 345 Reverse Vowels of a String"
   ]
  },
  {
   "cell_type": "code",
   "execution_count": 19,
   "metadata": {},
   "outputs": [
    {
     "name": "stdout",
     "output_type": "stream",
     "text": [
      "{0: 'h', 1: 'e', 2: 'l', 3: 'l', 4: 'o'}\n",
      "[0, 1, 2, 3, 4]\n"
     ]
    }
   ],
   "source": [
    "s = \"hello\"\n",
    "dict = {}\n",
    "key_list = []\n",
    "for key, val in enumerate(s):\n",
    "    dict[key] = val\n",
    "    key_list.append(key)\n",
    "print(dict)\n",
    "print(key_list)"
   ]
  },
  {
   "cell_type": "code",
   "execution_count": 30,
   "metadata": {},
   "outputs": [
    {
     "name": "stdout",
     "output_type": "stream",
     "text": [
      "[1, 4]\n"
     ]
    }
   ],
   "source": [
    "vowel_keys = []\n",
    "for key, val in dict.items():\n",
    "    if val in [\"a\", \"e\", \"i\", \"o\", \"u\"]:\n",
    "        vowel_keys.append(key)\n",
    "\n",
    "print(vowel_keys)\n",
    "\n"
   ]
  },
  {
   "cell_type": "code",
   "execution_count": 56,
   "metadata": {},
   "outputs": [
    {
     "name": "stdout",
     "output_type": "stream",
     "text": [
      "leotcede\n"
     ]
    }
   ],
   "source": [
    "s = \"leetcode\"\n",
    "s = [*s]\n",
    "i = 0\n",
    "j = len(s) - 1\n",
    "vowels = [\"a\",\"e\",\"i\",\"o\",\"u\", \"A\",\"E\", \"I\", \"O\", \"U\"]\n",
    "while i <= j:\n",
    "    if (s[i] in vowels) and (s[j] in vowels):\n",
    "        holder = s[i]\n",
    "        s[i] = s[j]\n",
    "        s[j] = holder\n",
    "        i += 1\n",
    "        j -= 1\n",
    "    elif s[i] not in vowels:\n",
    "        i += 1\n",
    "    elif s[j] not in vowels:\n",
    "        j -= 1\n",
    "\n",
    "s = \"\".join(s)\n",
    "print(s)"
   ]
  },
  {
   "cell_type": "code",
   "execution_count": 43,
   "metadata": {},
   "outputs": [
    {
     "name": "stdout",
     "output_type": "stream",
     "text": [
      "['h', 'e', 'l', 'l', 'o']\n"
     ]
    }
   ],
   "source": [
    "s = \"hello\"\n",
    "k = [*s]\n",
    "print(k)"
   ]
  },
  {
   "cell_type": "code",
   "execution_count": 66,
   "metadata": {},
   "outputs": [
    {
     "name": "stdout",
     "output_type": "stream",
     "text": [
      "['c', 'o', 'd', 'e']\n"
     ]
    }
   ],
   "source": [
    "s = ['e', 't', 'c', 'o', 'd', 'e']\n",
    "s = s[2::]\n",
    "print(s)"
   ]
  },
  {
   "cell_type": "code",
   "execution_count": null,
   "metadata": {},
   "outputs": [],
   "source": []
  },
  {
   "cell_type": "code",
   "execution_count": 78,
   "metadata": {},
   "outputs": [
    {
     "name": "stdout",
     "output_type": "stream",
     "text": [
      "[1, 2, 2, 3, 5, 6]\n"
     ]
    }
   ],
   "source": [
    "nums1 = [1,2,3,0,0,0]\n",
    "nums2 = [2,5,6]\n",
    "\n",
    "nums1 = [num for num in nums1 if num != 0]\n",
    "nums2 = [num for num in nums2 if num != 0]\n",
    "merged_list = []\n",
    "i = 0\n",
    "j = 0\n",
    "\n",
    "while i < len(nums1) and j < len(nums2):\n",
    "    if nums1[i] <= nums2[j]:\n",
    "        merged_list.append(nums1[i])\n",
    "        i += 1\n",
    "    elif nums1[i] > nums2[j]:\n",
    "        merged_list.append(nums2[j])\n",
    "        j += 1\n",
    "\n",
    "    # elif nums1[i] == nums2[j]:\n",
    "    #     merged_list.append(nums1[i])\n",
    "    #     merged_list.append(nums2[j])\n",
    "\n",
    "if nums1[i::]:\n",
    "    merged_list.extend(nums1[i::])\n",
    "\n",
    "if nums2[j::]:\n",
    "    merged_list.extend(nums2[j::])\n",
    "\n",
    "print (merged_list)"
   ]
  },
  {
   "cell_type": "code",
   "execution_count": 89,
   "metadata": {},
   "outputs": [
    {
     "name": "stdout",
     "output_type": "stream",
     "text": [
      "[1, 2, 4, 1]\n"
     ]
    }
   ],
   "source": [
    "# in-place merge in list1\n",
    "nums1 = [1,2,4,1,0,0,0]\n",
    "k = 0\n",
    "for i in range(len(nums1)):\n",
    "    if nums1[i] != 0:\n",
    "        nums1[k] = (nums1[i])\n",
    "        k += 1\n",
    "\n",
    "print(nums1[:k])"
   ]
  },
  {
   "cell_type": "code",
   "execution_count": 74,
   "metadata": {},
   "outputs": [
    {
     "name": "stdout",
     "output_type": "stream",
     "text": [
      "[1, 2, 3]\n"
     ]
    }
   ],
   "source": [
    "nums1 = [1,2,3,0,0,0]\n",
    "nums2 = [2,5,6]\n",
    "\n",
    "nums1 = [num for num in nums1 if num != 0]\n",
    "print(nums1)"
   ]
  },
  {
   "cell_type": "code",
   "execution_count": 20,
   "metadata": {},
   "outputs": [
    {
     "name": "stdout",
     "output_type": "stream",
     "text": [
      "Help on built-in function get:\n",
      "\n",
      "get(key, default=None, /) method of builtins.dict instance\n",
      "    Return the value for key if key is in the dictionary, else default.\n",
      "\n"
     ]
    }
   ],
   "source": [
    "help({}.get)"
   ]
  },
  {
   "cell_type": "code",
   "execution_count": 39,
   "metadata": {},
   "outputs": [
    {
     "name": "stdout",
     "output_type": "stream",
     "text": [
      "[1, 2, 3, 0, 0, 0]\n",
      "6\n"
     ]
    }
   ],
   "source": [
    "nums1 = [1,2,3,0,0,0]\n",
    "nums2 = [2,5,6]\n",
    "\n",
    "i= 0\n",
    "for num in range(len(nums1)):\n",
    "    if nums1[num] != 0:\n",
    "        nums1[i] = nums1[num]\n",
    "        i += 1\n",
    "    # else:\n",
    "    #     nums1[v] = None\n",
    "    #     v += 1\n",
    "i += len(nums2)\n",
    "nums1 = nums1[:i]\n",
    "\n",
    "print(nums1)\n",
    "print(len(nums1))"
   ]
  },
  {
   "cell_type": "code",
   "execution_count": 38,
   "metadata": {},
   "outputs": [
    {
     "ename": "IndexError",
     "evalue": "list assignment index out of range",
     "output_type": "error",
     "traceback": [
      "\u001b[0;31m---------------------------------------------------------------------------\u001b[0m",
      "\u001b[0;31mIndexError\u001b[0m                                Traceback (most recent call last)",
      "Cell \u001b[0;32mIn[38], line 30\u001b[0m\n\u001b[1;32m     27\u001b[0m     k \u001b[38;5;241m+\u001b[39m\u001b[38;5;241m=\u001b[39m \u001b[38;5;241m1\u001b[39m\n\u001b[1;32m     29\u001b[0m \u001b[38;5;28;01mwhile\u001b[39;00m j \u001b[38;5;241m<\u001b[39m \u001b[38;5;28mlen\u001b[39m(nums2):\n\u001b[0;32m---> 30\u001b[0m     \u001b[43mnums1\u001b[49m\u001b[43m[\u001b[49m\u001b[43mk\u001b[49m\u001b[43m]\u001b[49m \u001b[38;5;241m=\u001b[39m nums2[j]\n\u001b[1;32m     31\u001b[0m     k \u001b[38;5;241m+\u001b[39m\u001b[38;5;241m=\u001b[39m \u001b[38;5;241m1\u001b[39m\n\u001b[1;32m     32\u001b[0m     j \u001b[38;5;241m+\u001b[39m\u001b[38;5;241m=\u001b[39m \u001b[38;5;241m1\u001b[39m\n",
      "\u001b[0;31mIndexError\u001b[0m: list assignment index out of range"
     ]
    }
   ],
   "source": [
    "nums1 = [1,2,3,0,0,0]\n",
    "nums2 = [2,5,6]\n",
    "\n",
    "i = 0\n",
    "j = 0\n",
    "k = 0\n",
    "\n",
    "while (i < len(nums1)) and (j < len(nums2)):\n",
    "    if nums1[i] <= nums2[j]:\n",
    "        nums1[k] = nums1[i]\n",
    "        i += 1\n",
    "        k += 1\n",
    "\n",
    "    else:\n",
    "        nums1[k] = nums2[j]\n",
    "        j += 1\n",
    "        k += 1\n",
    "\n",
    "while nums1[i] < nums2[j]:\n",
    "    nums1[i] = nums[k]\n",
    "\n",
    "\n",
    "while i < len(nums1):\n",
    "    nums1[k] = nums1[i]\n",
    "    i += 1\n",
    "    k += 1\n",
    "\n",
    "while j < len(nums2):\n",
    "    nums1[k] = nums2[j]\n",
    "    k += 1\n",
    "    j += 1\n",
    "\n",
    "print(nums1[:k])"
   ]
  },
  {
   "cell_type": "code",
   "execution_count": null,
   "metadata": {},
   "outputs": [],
   "source": []
  },
  {
   "cell_type": "code",
   "execution_count": 43,
   "metadata": {},
   "outputs": [
    {
     "ename": "NameError",
     "evalue": "name 'List' is not defined",
     "output_type": "error",
     "traceback": [
      "\u001b[0;31m---------------------------------------------------------------------------\u001b[0m",
      "\u001b[0;31mNameError\u001b[0m                                 Traceback (most recent call last)",
      "Cell \u001b[0;32mIn[43], line 1\u001b[0m\n\u001b[0;32m----> 1\u001b[0m \u001b[38;5;28;43;01mclass\u001b[39;49;00m\u001b[43m \u001b[49m\u001b[38;5;21;43;01mSolution\u001b[39;49;00m\u001b[43m:\u001b[49m\n\u001b[1;32m      2\u001b[0m \u001b[43m    \u001b[49m\u001b[38;5;28;43;01mdef\u001b[39;49;00m\u001b[43m \u001b[49m\u001b[38;5;21;43mmerge\u001b[39;49m\u001b[43m(\u001b[49m\u001b[38;5;28;43mself\u001b[39;49m\u001b[43m,\u001b[49m\u001b[43m \u001b[49m\u001b[43mnums1\u001b[49m\u001b[43m:\u001b[49m\u001b[43m \u001b[49m\u001b[43mList\u001b[49m\u001b[43m[\u001b[49m\u001b[38;5;28;43mint\u001b[39;49m\u001b[43m]\u001b[49m\u001b[43m,\u001b[49m\u001b[43m \u001b[49m\u001b[43mm\u001b[49m\u001b[43m:\u001b[49m\u001b[43m \u001b[49m\u001b[38;5;28;43mint\u001b[39;49m\u001b[43m,\u001b[49m\u001b[43m \u001b[49m\u001b[43mnums2\u001b[49m\u001b[43m:\u001b[49m\u001b[43m \u001b[49m\u001b[43mList\u001b[49m\u001b[43m[\u001b[49m\u001b[38;5;28;43mint\u001b[39;49m\u001b[43m]\u001b[49m\u001b[43m,\u001b[49m\u001b[43m \u001b[49m\u001b[43mn\u001b[49m\u001b[43m:\u001b[49m\u001b[43m \u001b[49m\u001b[38;5;28;43mint\u001b[39;49m\u001b[43m)\u001b[49m\u001b[43m \u001b[49m\u001b[38;5;241;43m-\u001b[39;49m\u001b[38;5;241;43m>\u001b[39;49m\u001b[43m \u001b[49m\u001b[38;5;28;43;01mNone\u001b[39;49;00m\u001b[43m:\u001b[49m\n\u001b[1;32m      3\u001b[0m \u001b[38;5;250;43m        \u001b[39;49m\u001b[38;5;124;43;03m\"\"\"\u001b[39;49;00m\n\u001b[1;32m      4\u001b[0m \u001b[38;5;124;43;03m        Do not return anything, modify nums1 in-place instead.\u001b[39;49;00m\n\u001b[1;32m      5\u001b[0m \u001b[38;5;124;43;03m        \"\"\"\u001b[39;49;00m\n",
      "Cell \u001b[0;32mIn[43], line 2\u001b[0m, in \u001b[0;36mSolution\u001b[0;34m()\u001b[0m\n\u001b[1;32m      1\u001b[0m \u001b[38;5;28;01mclass\u001b[39;00m \u001b[38;5;21;01mSolution\u001b[39;00m:\n\u001b[0;32m----> 2\u001b[0m     \u001b[38;5;28;01mdef\u001b[39;00m \u001b[38;5;21mmerge\u001b[39m(\u001b[38;5;28mself\u001b[39m, nums1: \u001b[43mList\u001b[49m[\u001b[38;5;28mint\u001b[39m], m: \u001b[38;5;28mint\u001b[39m, nums2: List[\u001b[38;5;28mint\u001b[39m], n: \u001b[38;5;28mint\u001b[39m) \u001b[38;5;241m-\u001b[39m\u001b[38;5;241m>\u001b[39m \u001b[38;5;28;01mNone\u001b[39;00m:\n\u001b[1;32m      3\u001b[0m \u001b[38;5;250m        \u001b[39m\u001b[38;5;124;03m\"\"\"\u001b[39;00m\n\u001b[1;32m      4\u001b[0m \u001b[38;5;124;03m        Do not return anything, modify nums1 in-place instead.\u001b[39;00m\n\u001b[1;32m      5\u001b[0m \u001b[38;5;124;03m        \"\"\"\u001b[39;00m\n\u001b[1;32m      6\u001b[0m         p \u001b[38;5;241m=\u001b[39m m \u001b[38;5;241m+\u001b[39m n \u001b[38;5;241m-\u001b[39m \u001b[38;5;241m1\u001b[39m\n",
      "\u001b[0;31mNameError\u001b[0m: name 'List' is not defined"
     ]
    }
   ],
   "source": [
    "class Solution:\n",
    "    def merge(self, nums1: List[int], m: int, nums2: List[int], n: int) -> None:\n",
    "        \"\"\"\n",
    "        Do not return anything, modify nums1 in-place instead.\n",
    "        \"\"\"\n",
    "        p = m + n - 1\n",
    "        m = m - 1\n",
    "        n = n - 1\n",
    "        while n >= 0 and m >= 0:\n",
    "            if nums1[m] > nums2[n]:\n",
    "                nums1[p] = nums1[m]\n",
    "                p -= 1\n",
    "                m -= 1\n",
    "            else:\n",
    "                nums1[p] = nums2[n]\n",
    "                p -= 1\n",
    "                n -= 1\n",
    "\n",
    "        while n >= 0:\n",
    "            nums1[p] = nums2[n]\n",
    "            p -= 1\n",
    "            n -= 1\n",
    "\n",
    "        while m >= 0:\n",
    "            nums1[p] = nums1[m]\n",
    "            p -= 1\n",
    "            m -= 1\n",
    "\n",
    "        return nums1"
   ]
  },
  {
   "cell_type": "code",
   "execution_count": 44,
   "metadata": {},
   "outputs": [
    {
     "name": "stdout",
     "output_type": "stream",
     "text": [
      "[0, 1, 2, 3, 4]\n"
     ]
    }
   ],
   "source": [
    "# p  26\n",
    "\n",
    "nums = [0,0,1,1,1,2,2,3,3,4]\n",
    "nums = set(nums)\n",
    "print (list(nums))"
   ]
  },
  {
   "cell_type": "code",
   "execution_count": 55,
   "metadata": {},
   "outputs": [
    {
     "name": "stdout",
     "output_type": "stream",
     "text": [
      "[0, 1, 2, 3, 4]\n"
     ]
    }
   ],
   "source": [
    "nums = [0,0,1,1,1,2,2,3,3,4]\n",
    "k = 0\n",
    "\n",
    "for i in range(len(nums)-1):\n",
    "    if nums[i] == nums[i+1]:\n",
    "        i += 1\n",
    "    else:\n",
    "        nums[k] = nums[i]\n",
    "        i += 1\n",
    "        k += 1\n",
    "\n",
    "\n",
    "nums[k] = nums[-1]\n",
    "k += 1\n",
    "\n",
    "print(nums[:k])"
   ]
  },
  {
   "cell_type": "code",
   "execution_count": null,
   "metadata": {},
   "outputs": [],
   "source": [
    "# p 67\n"
   ]
  },
  {
   "cell_type": "code",
   "execution_count": 63,
   "metadata": {},
   "outputs": [
    {
     "name": "stdout",
     "output_type": "stream",
     "text": [
      "1101011\n"
     ]
    }
   ],
   "source": [
    "a = \"1101010\"\n",
    "b = \"1\"\n",
    "\n",
    "def binarytodec(s):\n",
    "    sum = 0\n",
    "    s = s[::-1]\n",
    "    power = 0\n",
    "    for num in s:\n",
    "        sum += (int(num)* (2 ** power))\n",
    "        power += 1\n",
    "    return sum\n",
    "\n",
    "def dectobin(s):\n",
    "    num = s\n",
    "    sum = \"\"\n",
    "\n",
    "    while s != 0:\n",
    "        c = s % 2\n",
    "        s = s // 2\n",
    "        c = str(c)\n",
    "        sum += c\n",
    "\n",
    "    sum = sum[::-1]\n",
    "\n",
    "    return sum\n",
    "\n",
    "dec_sum = binarytodec(a) + binarytodec(b)\n",
    "\n",
    "bin_sum = dectobin(dec_sum)\n",
    "\n",
    "print (bin_sum)"
   ]
  },
  {
   "cell_type": "code",
   "execution_count": 75,
   "metadata": {},
   "outputs": [
    {
     "name": "stdout",
     "output_type": "stream",
     "text": [
      "100\n"
     ]
    }
   ],
   "source": [
    "a = \"11\"\n",
    "b = \"1\"\n",
    "\n",
    "a = int(a,2)\n",
    "b = int(b,2)\n",
    "\n",
    "print(f\"{(a+b):b}\")\n"
   ]
  },
  {
   "cell_type": "code",
   "execution_count": null,
   "metadata": {},
   "outputs": [],
   "source": [
    "#70 climbing stairs problem"
   ]
  },
  {
   "cell_type": "code",
   "execution_count": 45,
   "metadata": {},
   "outputs": [
    {
     "name": "stdout",
     "output_type": "stream",
     "text": [
      "5\n"
     ]
    }
   ],
   "source": [
    "s = \"aaabbced\"\n",
    "count = {}\n",
    "size = 0\n",
    "\n",
    "for char in s:\n",
    "    count[char] = count.get(char, 0) + 1\n",
    "\n",
    "if len(s) == max(count.values()):\n",
    "    print(len(s))\n",
    "\n",
    "for values in count.values():\n",
    "    if (values % 2 == 0):\n",
    "        size += values\n",
    "\n",
    "odd_val = [value for value in count.values() if value % 2 == 1]\n",
    "odd_val = max(odd_val, default=0)\n",
    "size += odd_val\n",
    "\n",
    "print(size)"
   ]
  },
  {
   "cell_type": "code",
   "execution_count": 66,
   "metadata": {},
   "outputs": [
    {
     "name": "stdout",
     "output_type": "stream",
     "text": [
      "5\n"
     ]
    }
   ],
   "source": [
    "s = \"aaabbbc\"\n",
    "count = {}\n",
    "size = 0\n",
    "\n",
    "for char in s:\n",
    "    count[char] = count.get(char, 0) + 1\n",
    "\n",
    "for values in count.values():\n",
    "    if values % 2 == 0:\n",
    "        size += values\n",
    "    else:\n",
    "        size += values - 1\n",
    "\n",
    "if size < len(s):\n",
    "    size += 1\n",
    "\n",
    "print(size)\n",
    "# print(len(s))\n",
    "      # Output: 7"
   ]
  },
  {
   "cell_type": "code",
   "execution_count": 63,
   "metadata": {},
   "outputs": [
    {
     "name": "stdout",
     "output_type": "stream",
     "text": [
      "aaa\n"
     ]
    }
   ],
   "source": [
    "s = \"aaabbbc\"\n",
    "res = \"\"\n",
    "res_len = 0\n",
    "# j = len(s) - 1\n",
    "for i in range(len(s)):\n",
    "    # odd length\n",
    "    l, r = i, i\n",
    "    while l >= 0 and r < len(s) and s[l] == s[r]:\n",
    "        if (r - l + 1) > res_len:\n",
    "            res = s[l:r+1]\n",
    "            res_len = r - l + 1\n",
    "\n",
    "        l -= 1\n",
    "        r += 1\n",
    "\n",
    "    # even length\n",
    "    l, r = i, i + 1\n",
    "    while l >= 0 and r < len(s) and s[l] == s[r]:\n",
    "        if (r - l + 1) > res_len:\n",
    "            res = s[l:r+1]\n",
    "            res_len = r - l + 1\n",
    "\n",
    "        l -= 1\n",
    "        r += 1\n",
    "\n",
    "print(res)\n",
    "\n",
    "\n",
    "\n"
   ]
  },
  {
   "cell_type": "code",
   "execution_count": null,
   "metadata": {},
   "outputs": [],
   "source": [
    "# end of 70"
   ]
  },
  {
   "cell_type": "code",
   "execution_count": 82,
   "metadata": {},
   "outputs": [
    {
     "name": "stdout",
     "output_type": "stream",
     "text": [
      "[1, 2, 4, 5]\n"
     ]
    }
   ],
   "source": [
    "nums = [2,1,4,5]\n",
    "squared_nums = sorted(nums, key= lambda x: x)\n",
    "print(squared_nums)"
   ]
  },
  {
   "cell_type": "code",
   "execution_count": 87,
   "metadata": {},
   "outputs": [
    {
     "name": "stdout",
     "output_type": "stream",
     "text": [
      "['1', '2', '4']\n"
     ]
    }
   ],
   "source": [
    "digits = [1,2,3]\n",
    "s = \"\"\n",
    "for num in digits:\n",
    "    s += str(num)\n",
    "s = str(int(s) + 1)\n",
    "s = [*s]\n",
    "\n",
    "print (s)"
   ]
  },
  {
   "cell_type": "code",
   "execution_count": 100,
   "metadata": {},
   "outputs": [
    {
     "name": "stdout",
     "output_type": "stream",
     "text": [
      "['1', '2', '3']\n",
      "{'1': 1, '2': 2, '3': 3}\n"
     ]
    }
   ],
   "source": [
    "digits = [1,2,3]\n",
    "# mapping = dict(map(str, digits))\n",
    "print(mapping)\n",
    "\n",
    "# mapping\n",
    "digits = [1,2,3]\n",
    "mapping = dict(map(lambda x: (str(x), x), digits))\n",
    "print(mapping)  # Output: {'1': 1, '2': 2, '3': 3}\n"
   ]
  },
  {
   "cell_type": "code",
   "execution_count": null,
   "metadata": {},
   "outputs": [],
   "source": [
    "# 169 majority element\n"
   ]
  },
  {
   "cell_type": "code",
   "execution_count": 78,
   "metadata": {},
   "outputs": [
    {
     "name": "stdout",
     "output_type": "stream",
     "text": [
      "(2, 4)\n"
     ]
    }
   ],
   "source": [
    "nums = [2,2,1,1,1,2,2]\n",
    "count = {}\n",
    "for majority in nums:\n",
    "    count[majority] = count.get(majority, 0) + 1\n",
    "\n",
    "maximum = max(count.items(), key = lambda x: x[1]/2)\n",
    "\n",
    "print (maximum)"
   ]
  },
  {
   "cell_type": "code",
   "execution_count": 88,
   "metadata": {},
   "outputs": [
    {
     "name": "stdout",
     "output_type": "stream",
     "text": [
      "7\n",
      "3\n",
      "2\n"
     ]
    }
   ],
   "source": [
    "nums.sort()\n",
    "x = len(nums)\n",
    "print(x)\n",
    "x = n // 2\n",
    "print(x)\n",
    "majority = nums[n // 2]\n",
    "print(majority)\n",
    "\n",
    "# y = sorted(nums)\n",
    "# print(y)\n",
    "# print(x)\n"
   ]
  },
  {
   "cell_type": "code",
   "execution_count": null,
   "metadata": {},
   "outputs": [],
   "source": [
    "n=len(nums)\n",
    "print (nums[n//2])"
   ]
  },
  {
   "cell_type": "code",
   "execution_count": null,
   "metadata": {},
   "outputs": [],
   "source": [
    "# p 33"
   ]
  },
  {
   "cell_type": "code",
   "execution_count": null,
   "metadata": {},
   "outputs": [],
   "source": [
    "nums = [4,5,6,0,1,2]\n",
    "k = 3\n",
    "target = 2\n",
    "left = 0\n",
    "right = len(nums) - 1\n",
    "while left <= right:\n",
    "\n",
    "    mid_val = ((left + right) // 2)\n",
    "\n",
    "    if nums[mid_val] == target:\n",
    "        return mid_val\n",
    "\n",
    "    # left-sorted portion\n",
    "    if nums[left] <= nums[mid_val]:\n",
    "        if target > nums[mid_val] or target < nums[left]:\n",
    "            left = mid_val + 1\n",
    "        else:\n",
    "            right = mid_val - 1\n",
    "    # right-sorted portion\n",
    "    else:\n",
    "        if target < nums[mid_val] or target > nums[right]:\n",
    "            right = mid_val - 1\n",
    "        else:\n",
    "            left = mid_val - 1\n",
    "\n",
    "    return -1"
   ]
  },
  {
   "cell_type": "code",
   "execution_count": null,
   "metadata": {},
   "outputs": [],
   "source": [
    "# final solution\n",
    "l = 0\n",
    "r = len(nums) - 1\n",
    "\n",
    "while l <= r:\n",
    "    mid = (l + r) // 2\n",
    "\n",
    "    if nums[mid] == target:\n",
    "        return mid\n",
    "\n",
    "    # left sorted portion\n",
    "    elif nums[mid] >= nums[l]:\n",
    "        if nums[l] <= target <= nums[mid]:\n",
    "            r = mid - 1\n",
    "        else:\n",
    "            l = mid + 1\n",
    "\n",
    "    # right sorted portion\n",
    "    else:\n",
    "        if nums[mid] <= target <= nums[r]:\n",
    "            l = mid + 1\n",
    "        else:\n",
    "            r = mid - 1\n",
    "\n",
    "return -1"
   ]
  },
  {
   "cell_type": "code",
   "execution_count": 1,
   "metadata": {},
   "outputs": [],
   "source": [
    "# p 33 - end"
   ]
  },
  {
   "cell_type": "code",
   "execution_count": 92,
   "metadata": {},
   "outputs": [
    {
     "data": {
      "text/plain": [
       "5"
      ]
     },
     "execution_count": 92,
     "metadata": {},
     "output_type": "execute_result"
    }
   ],
   "source": [
    "# def fibonacci(n):\n",
    "#     i = 0\n",
    "#     j = 1\n",
    "#     print(j)\n",
    "#     while n != 1:\n",
    "#         sum = i + j\n",
    "#         i = j\n",
    "#         j = sum\n",
    "#         n -= 1\n",
    "#         print(sum)\n",
    "\n",
    "# fibonacci(5)\n",
    "\n",
    "# strucutral errors in it\n",
    "# def fibonacci(n, i=0, j=1):\n",
    "#     if n == 0:\n",
    "#         return i\n",
    "#     elif n == 1:\n",
    "#         return j\n",
    "#     else:\n",
    "#         sum = i + j\n",
    "#         i = j\n",
    "#         j = sum\n",
    "#         return fibonacci(n-1, j, sum)\n",
    "\n",
    "\n",
    "    # return sum\n",
    "\n",
    "# correct way\n",
    "\n",
    "def fibonacci(n, i=0, j=1):\n",
    "    if n == 0:\n",
    "        return i\n",
    "    elif n == 1:\n",
    "        return j\n",
    "    else:\n",
    "        sum = i + j\n",
    "        return fibonacci(n-1, j, sum)\n",
    "\n",
    "\n",
    "fibonacci(5)"
   ]
  },
  {
   "cell_type": "code",
   "execution_count": 56,
   "metadata": {},
   "outputs": [
    {
     "data": {
      "text/plain": [
       "1"
      ]
     },
     "execution_count": 56,
     "metadata": {},
     "output_type": "execute_result"
    }
   ],
   "source": [
    "def fibonacci(n, i, j):\n",
    "    if n == 1:\n",
    "        return 1\n",
    "\n",
    "    else:\n",
    "        sum = i + j\n",
    "        i = j\n",
    "        j = sum\n",
    "        fibonacci(n-1, i, j)\n",
    "    return sum\n",
    "\n",
    "fibonacci(5, 0, 1)"
   ]
  },
  {
   "cell_type": "code",
   "execution_count": 8,
   "metadata": {},
   "outputs": [
    {
     "name": "stdout",
     "output_type": "stream",
     "text": [
      "4\n",
      "6\n",
      "8\n"
     ]
    }
   ],
   "source": [
    "def loop(start, end, step):\n",
    "    if start < end and step > 0:\n",
    "        loopUp(start, end, step)\n",
    "    elif start > end and step < 0:\n",
    "        loopDown(start, end, step)\n",
    "\n",
    "def loopUp(start, end, step):\n",
    "    if start >= end:\n",
    "        return\n",
    "    else:\n",
    "        print(start)\n",
    "        loopUp(start+step, end, step)\n",
    "\n",
    "def loopDown(start, end, step):\n",
    "    if start <= end:\n",
    "        return\n",
    "    else:\n",
    "        print(start)\n",
    "        loopDown(start-step, end, step)\n",
    "\n",
    "loop(4,10,2)"
   ]
  },
  {
   "cell_type": "code",
   "execution_count": 13,
   "metadata": {},
   "outputs": [
    {
     "data": {
      "text/plain": [
       "6"
      ]
     },
     "execution_count": 13,
     "metadata": {},
     "output_type": "execute_result"
    }
   ],
   "source": [
    "def max_head(data):\n",
    "    for i in range(len(data)-1):\n",
    "        if data[i] > data[i+1]:\n",
    "            max = data[i]\n",
    "        else:\n",
    "            max = data[i+1]\n",
    "\n",
    "    return max\n",
    "\n",
    "max_head([1,2,4,5,6])"
   ]
  },
  {
   "cell_type": "code",
   "execution_count": 164,
   "metadata": {},
   "outputs": [
    {
     "name": "stdout",
     "output_type": "stream",
     "text": [
      "[1, 0, 0]\n",
      "[1, 0, 0, 1]\n"
     ]
    },
    {
     "ename": "IndexError",
     "evalue": "list index out of range",
     "output_type": "error",
     "traceback": [
      "\u001b[0;31m---------------------------------------------------------------------------\u001b[0m",
      "\u001b[0;31mIndexError\u001b[0m                                Traceback (most recent call last)",
      "Cell \u001b[0;32mIn[164], line 24\u001b[0m\n\u001b[1;32m     22\u001b[0m     \u001b[38;5;28;01mif\u001b[39;00m col[j] \u001b[38;5;241m==\u001b[39m \u001b[38;5;241m1\u001b[39m:\n\u001b[1;32m     23\u001b[0m         \u001b[38;5;28;01mfor\u001b[39;00m i \u001b[38;5;129;01min\u001b[39;00m \u001b[38;5;28mrange\u001b[39m(\u001b[38;5;28mlen\u001b[39m(matrix[\u001b[38;5;241m0\u001b[39m])):\n\u001b[0;32m---> 24\u001b[0m             \u001b[43mmatrix\u001b[49m\u001b[43m[\u001b[49m\u001b[43mi\u001b[49m\u001b[43m]\u001b[49m[j] \u001b[38;5;241m=\u001b[39m \u001b[38;5;241m0\u001b[39m\n\u001b[1;32m     26\u001b[0m \u001b[38;5;66;03m# for i in range(len(matrix)):\u001b[39;00m\n\u001b[1;32m     27\u001b[0m \u001b[38;5;66;03m#     for j in range(len(matrix[0])):\u001b[39;00m\n\u001b[1;32m     28\u001b[0m \u001b[38;5;66;03m#         if row[i] or col[j]:\u001b[39;00m\n\u001b[1;32m     29\u001b[0m \u001b[38;5;66;03m#             matrix[i][j] = 0\u001b[39;00m\n\u001b[1;32m     31\u001b[0m \u001b[38;5;28mprint\u001b[39m(matrix)\n",
      "\u001b[0;31mIndexError\u001b[0m: list index out of range"
     ]
    }
   ],
   "source": [
    "matrix = [[0,1,2,0],[3,4,5,2],[1,3,1,5]]\n",
    "\n",
    "\n",
    "row = [0] * len(matrix)\n",
    "col = [0] * len(matrix[0])\n",
    "\n",
    "for i in range(len(matrix)):\n",
    "    for j in range(len(matrix[0])):\n",
    "        if matrix[i][j] == 0:\n",
    "            row[i] = 1\n",
    "            col[j] = 1\n",
    "\n",
    "for i in range(len(matrix)):\n",
    "    for j in range(len(matrix[0])):\n",
    "        if row[i] or col[j]:\n",
    "            matrix[i][j] = 0\n",
    "\n",
    "print(matrix)\n"
   ]
  },
  {
   "cell_type": "code",
   "execution_count": 210,
   "metadata": {},
   "outputs": [
    {
     "name": "stdout",
     "output_type": "stream",
     "text": [
      "[[7, 8, 9], [4, 5, 6], [1, 2, 3]]\n",
      "⎡7  4  1⎤\n",
      "⎢       ⎥\n",
      "⎢8  5  2⎥\n",
      "⎢       ⎥\n",
      "⎣9  6  3⎦\n"
     ]
    },
    {
     "name": "stderr",
     "output_type": "stream",
     "text": [
      "/tmp/ipykernel_22076/1712855543.py:4: SymPyDeprecationWarning: \n",
      "\n",
      "non-Expr objects in a Matrix is deprecated. Matrix represents\n",
      "a mathematical matrix. To represent a container of non-numeric\n",
      "entities, Use a list of lists, TableForm, NumPy array, or some\n",
      "other data structure instead.\n",
      "\n",
      "See https://docs.sympy.org/latest/explanation/active-deprecations.html#deprecated-non-expr-in-matrix\n",
      "for details.\n",
      "\n",
      "This has been deprecated since SymPy version 1.9. It\n",
      "will be removed in a future version of SymPy.\n",
      "\n",
      "  matrix = Matrix([[[1,2,3],[4,5,6],[7,8,9]]])\n"
     ]
    }
   ],
   "source": [
    "from sympy import Matrix, pprint\n",
    "\n",
    "\n",
    "matrix = Matrix([[[1,2,3],[4,5,6],[7,8,9]]])\n",
    "\n",
    "for i in matrix:\n",
    "    matrix = matrix[::-1]\n",
    "\n",
    "print(matrix)\n",
    "matrix = Matrix(matrix)\n",
    "\n",
    "matrix = matrix.transpose()\n",
    "pprint(matrix)"
   ]
  },
  {
   "cell_type": "code",
   "execution_count": null,
   "metadata": {},
   "outputs": [],
   "source": [
    "matrix = [[[1,2,3],[4,5,6],[7,8,9]]]\n",
    "\n",
    "for i in range(len(matrix)):\n",
    "    for j in range(i, len(matrix[0])):\n"
   ]
  },
  {
   "cell_type": "code",
   "execution_count": 208,
   "metadata": {},
   "outputs": [
    {
     "name": "stdout",
     "output_type": "stream",
     "text": [
      "[[1, 4, 7], [2, 5, 8], [3, 6, 9]]\n"
     ]
    }
   ],
   "source": [
    "matrix = [[1,2,3],[4,5,6],[7,8,9]]\n",
    "\n",
    "for i in range(len(matrix)):\n",
    "    for j in range(i, len(matrix[0])):\n",
    "        matrix[i][j], matrix[j][i] = matrix[j][i], matrix[i][j]\n",
    "\n",
    "# for i in range(len(matrix)):\n",
    "#     for j in range(len(matrix[0]) // 2):\n",
    "#         matrix[i][j], matrix[j][i] = matrix[i][len(i) - len(j) - 1], matrix[i][j]\n",
    "\n",
    "print(matrix)\n"
   ]
  },
  {
   "cell_type": "code",
   "execution_count": 1,
   "metadata": {},
   "outputs": [
    {
     "name": "stdout",
     "output_type": "stream",
     "text": [
      "[[7, 8, 9], [4, 5, 6], [1, 2, 3]]\n"
     ]
    }
   ],
   "source": [
    "matrix = [[1,2,3],[4,5,6],[7,8,9]]\n",
    "for i in range(len(matrix)):\n",
    "    for j in range(i, len(matrix[0])):\n",
    "        matrix[i][j], matrix[j][i] = matrix[i][j], matrix[j][i]\n",
    "\n",
    "for _ in matrix:\n",
    "    matrix = matrix[::-1]\n",
    "\n",
    "for i in range(len(matrix)):\n",
    "    for j in range(i, len(matrix[0])):\n",
    "        matrix[i][j], matrix[j][i] = matrix[i][j], matrix[j][i]\n",
    "\n",
    "print(matrix)"
   ]
  },
  {
   "cell_type": "code",
   "execution_count": 1,
   "metadata": {},
   "outputs": [
    {
     "data": {
      "text/plain": [
       "2"
      ]
     },
     "execution_count": 1,
     "metadata": {},
     "output_type": "execute_result"
    }
   ],
   "source": [
    "# smallest sum sub-array with time complexity of O(n^2)\n",
    "# dynamic variant problem\n",
    "\n",
    "\n",
    "s = 8\n",
    "nums = [2,3,4,5,6,2,2,1]\n",
    "def smallestsumarr(s, nums):\n",
    "    start = 0\n",
    "    arr_sum = 0\n",
    "    end = 0\n",
    "    min_len = float(\"inf\")\n",
    "    while end < len(nums):\n",
    "        arr_sum += nums[end]\n",
    "\n",
    "        while arr_sum >= s:\n",
    "            min_len = min(min_len, end-start+1)\n",
    "            arr_sum -= nums[start]\n",
    "            start += 1\n",
    "\n",
    "        end += 1\n",
    "\n",
    "    if min_len == float(\"inf\"):\n",
    "        return 0\n",
    "\n",
    "    return min_len\n",
    "\n",
    "smallestsumarr(s, nums)"
   ]
  },
  {
   "cell_type": "code",
   "execution_count": 16,
   "metadata": {},
   "outputs": [
    {
     "name": "stdout",
     "output_type": "stream",
     "text": [
      "5\n"
     ]
    }
   ],
   "source": [
    "# dynamic variant with use of auxillary data structure\n",
    "\n",
    "# longest substring length with K distinct characters\n",
    "\n",
    "arr = [\"a\",\"a\",\"a\",\"s\",\"s\",\"i\",\"b\",\"e\"]\n",
    "start = 0\n",
    "max_length = 0\n",
    "arr_freq = {}\n",
    "\n",
    "for end in range(len(arr)):\n",
    "    letter = arr[end]\n",
    "    arr_freq[letter] = arr_freq.get(letter, 0) + 1\n",
    "\n",
    "    # moving the pointers\n",
    "    while len(arr_freq.keys()) > 2:\n",
    "        left_char = arr[start]\n",
    "        arr_freq[left_char] -= 1\n",
    "        if arr_freq[left_char] == 0:\n",
    "            del arr_freq[left_char]\n",
    "        start += 1\n",
    "\n",
    "    max_length = max(max_length, end-start+1)\n",
    "\n",
    "print(max_length)\n",
    "\n",
    "\n",
    "\n",
    "# print(arr_dict)\n"
   ]
  },
  {
   "cell_type": "code",
   "execution_count": 7,
   "metadata": {},
   "outputs": [
    {
     "name": "stdout",
     "output_type": "stream",
     "text": [
      "5\n"
     ]
    }
   ],
   "source": [
    "sample_dict = {\"A\": 2, \"C\": 3, \"D\": 2}\n",
    "\n",
    "sample_dict.popitem()\n",
    "print(sum(sample_dict.values()))"
   ]
  },
  {
   "cell_type": "code",
   "execution_count": 8,
   "metadata": {},
   "outputs": [
    {
     "ename": "TypeError",
     "evalue": "'NoneType' object is not iterable",
     "output_type": "error",
     "traceback": [
      "\u001b[0;31m---------------------------------------------------------------------------\u001b[0m",
      "\u001b[0;31mTypeError\u001b[0m                                 Traceback (most recent call last)",
      "Cell \u001b[0;32mIn[8], line 5\u001b[0m\n\u001b[1;32m      3\u001b[0m arr \u001b[38;5;241m=\u001b[39m [\u001b[38;5;124m\"\u001b[39m\u001b[38;5;124ma\u001b[39m\u001b[38;5;124m\"\u001b[39m,\u001b[38;5;124m\"\u001b[39m\u001b[38;5;124ma\u001b[39m\u001b[38;5;124m\"\u001b[39m,\u001b[38;5;124m\"\u001b[39m\u001b[38;5;124ma\u001b[39m\u001b[38;5;124m\"\u001b[39m,\u001b[38;5;124m\"\u001b[39m\u001b[38;5;124ms\u001b[39m\u001b[38;5;124m\"\u001b[39m,\u001b[38;5;124m\"\u001b[39m\u001b[38;5;124ms\u001b[39m\u001b[38;5;124m\"\u001b[39m,\u001b[38;5;124m\"\u001b[39m\u001b[38;5;124mi\u001b[39m\u001b[38;5;124m\"\u001b[39m,\u001b[38;5;124m\"\u001b[39m\u001b[38;5;124mb\u001b[39m\u001b[38;5;124m\"\u001b[39m,\u001b[38;5;124m\"\u001b[39m\u001b[38;5;124me\u001b[39m\u001b[38;5;124m\"\u001b[39m]\n\u001b[1;32m      4\u001b[0m arr \u001b[38;5;241m=\u001b[39m arr\u001b[38;5;241m.\u001b[39mreverse()\n\u001b[0;32m----> 5\u001b[0m queue \u001b[38;5;241m=\u001b[39m \u001b[43mdeque\u001b[49m\u001b[43m(\u001b[49m\u001b[43marr\u001b[49m\u001b[43m)\u001b[49m\n\u001b[1;32m      7\u001b[0m \u001b[38;5;28mprint\u001b[39m(queue)\n",
      "\u001b[0;31mTypeError\u001b[0m: 'NoneType' object is not iterable"
     ]
    }
   ],
   "source": [
    "from collections import deque\n",
    "\n",
    "arr = [\"a\",\"a\",\"a\",\"s\",\"s\",\"i\",\"b\",\"e\"]\n",
    "arr = arr.reverse()\n",
    "queue = deque(arr)\n",
    "\n",
    "print(queue)"
   ]
  },
  {
   "cell_type": "code",
   "execution_count": 4,
   "metadata": {},
   "outputs": [],
   "source": [
    "#  smallest substring with sum greater than equal to 8\n",
    "\n",
    "\n",
    "nums = [2,3,4,5,6,7,8,4,9]\n",
    "\n",
    "def smallestsubstring(nums):\n",
    "    start = 0\n",
    "    end = 0\n",
    "    max_len = 0\n",
    "    max_sum = float(\"-inf\")\n",
    "\n",
    "    for end in range(len(nums)):\n",
    "        max_sum += nums[end]\n",
    "\n",
    "        while max_sum >= 8:\n",
    "            max_len = max(max_len, end-start+1)\n",
    "            max_sum -= nums[start]\n",
    "            start += 1\n",
    "\n",
    "    if max_len == float(\"inf\"):\n",
    "        return 0\n",
    "\n",
    "    return (max_len)\n",
    "\n",
    "\n",
    "\n"
   ]
  },
  {
   "cell_type": "code",
   "execution_count": 9,
   "metadata": {},
   "outputs": [
    {
     "data": {
      "text/plain": [
       "1"
      ]
     },
     "execution_count": 9,
     "metadata": {},
     "output_type": "execute_result"
    }
   ],
   "source": [
    "# nums = [1,2,3,4,5,4,4,3,4,6,7,1]\n",
    "def minarrlen(nums):\n",
    "    start = 0\n",
    "    end = 0\n",
    "    min_len = float(\"inf\")\n",
    "    arr_sum = 0\n",
    "    while end < len(nums):\n",
    "        arr_sum += nums[end]\n",
    "        while arr_sum >= 8:\n",
    "            arr_sum -= nums[start]\n",
    "            min_len = min(min_len, end-start+1)\n",
    "            start += 1\n",
    "        end += 1\n",
    "\n",
    "    return min_len\n",
    "\n",
    "minarrlen([1,2,3,4,5,4,4,3,4,6,8,1])\n",
    "\n"
   ]
  },
  {
   "cell_type": "code",
   "execution_count": 24,
   "metadata": {},
   "outputs": [
    {
     "name": "stdout",
     "output_type": "stream",
     "text": [
      "4\n"
     ]
    }
   ],
   "source": [
    "# dynamic variant with use of auxillary data structure\n",
    "\n",
    "# longest substring length with K = 2 distinct characters\n",
    "\n",
    "arr = [\"a\",\"a\",\"a\",\"i\",\"b\",\"e\"]\n",
    "start = 0\n",
    "# end = 0\n",
    "max_len = float(\"-inf\")\n",
    "freq_dict = {}\n",
    "\n",
    "for end in range(len(arr)):\n",
    "\n",
    "    freq_dict[arr[end]] = freq_dict.get(arr[end], 0) + 1\n",
    "\n",
    "    while len(freq_dict) > 2:\n",
    "        arr_left = arr[start]\n",
    "        freq_dict[arr_left] -= 1\n",
    "        if freq_dict[arr_left] == 0:\n",
    "            del freq_dict[arr_left]\n",
    "        start += 1\n",
    "        max_len = max(max_len, end-start+1)\n",
    "\n",
    "print(max_len)\n",
    "\n",
    "# print(freq_dict)\n",
    "\n"
   ]
  },
  {
   "cell_type": "code",
   "execution_count": null,
   "metadata": {},
   "outputs": [],
   "source": [
    "# given an array of sorted intgers, find two numb sum to target\n",
    "\n",
    "nums = [2,7,11,15]\n",
    "nums = [1,1]\n",
    "target = 18\n",
    "\n",
    "\n",
    "def nums_index(nums, target):\n",
    "    val_dict = {}\n",
    "    for index in range(len(nums)):\n",
    "        val2 = target - nums[index]\n",
    "\n",
    "        if val2 in val_dict:\n",
    "            return (val_dict[val2], index)\n",
    "\n",
    "        val_dict[nums[index]] = index\n",
    "\n",
    "\n"
   ]
  },
  {
   "cell_type": "code",
   "execution_count": 45,
   "metadata": {},
   "outputs": [
    {
     "data": {
      "text/plain": [
       "True"
      ]
     },
     "execution_count": 45,
     "metadata": {},
     "output_type": "execute_result"
    }
   ],
   "source": [
    "s = \"[]{}{{{}}}\"\n",
    "stack = []\n",
    "dict_paren = {\")\":\"(\", \"}\":\"{\",\"]\":\"[\"}\n",
    "\n",
    "def valid_paren(s):\n",
    "\n",
    "    if s[0] in [\")\", \"]\", \"}\"]:\n",
    "        return False\n",
    "\n",
    "    for bracket in s:\n",
    "        if bracket in dict_paren.keys():\n",
    "            if stack[-1] == dict_paren[bracket]:\n",
    "                stack.pop()\n",
    "        else:\n",
    "            stack.append(bracket)\n",
    "\n",
    "    if stack:\n",
    "        return False\n",
    "\n",
    "    return True\n",
    "\n",
    "\n",
    "valid_paren(s)\n",
    "\n"
   ]
  },
  {
   "cell_type": "code",
   "execution_count": 53,
   "metadata": {},
   "outputs": [
    {
     "name": "stdout",
     "output_type": "stream",
     "text": [
      "True\n"
     ]
    }
   ],
   "source": [
    "s = \"0PP0\"\n",
    "word = \"\".join([char for char in s if char.isalnum()]).lower()\n",
    "\n",
    "palindorme = word[::-1]\n",
    "\n",
    "if word == palindorme:\n",
    "    print(True)\n",
    "else:\n",
    "    print(False)\n"
   ]
  },
  {
   "cell_type": "code",
   "execution_count": 4,
   "metadata": {},
   "outputs": [
    {
     "data": {
      "text/plain": [
       "31621"
      ]
     },
     "execution_count": 4,
     "metadata": {},
     "output_type": "execute_result"
    }
   ],
   "source": [
    "# finding squareroot using Newton's method (Babylonlian)\n",
    "\n",
    "def mySqrt(x):\n",
    "    \"\"\"\n",
    "    :type x: int\n",
    "    :rtype: int\n",
    "    \"\"\"\n",
    "    if x < 2:\n",
    "        return x\n",
    "\n",
    "    x0 = x\n",
    "    x1 = ((x0 + (x/x0)) / 2)\n",
    "    while abs(x0 - x1) >= 1:\n",
    "        x0 = x1\n",
    "        x1 = ((x0 + (x/x0)) / 2)\n",
    "\n",
    "    return int(x1)\n",
    "\n",
    "mySqrt(999898000)\n"
   ]
  },
  {
   "cell_type": "code",
   "execution_count": 6,
   "metadata": {},
   "outputs": [
    {
     "data": {
      "text/plain": [
       "2"
      ]
     },
     "execution_count": 6,
     "metadata": {},
     "output_type": "execute_result"
    }
   ],
   "source": [
    "def sqr_root(x):\n",
    "    left = 0\n",
    "    right = x\n",
    "\n",
    "    while left < right:\n",
    "        mid = (left + right) // 2\n",
    "\n",
    "        if (mid * mid) <= x < ((mid+1) * (mid+1)):\n",
    "            return mid\n",
    "        elif (mid * mid) > x:\n",
    "            right  = mid - 1\n",
    "        else:\n",
    "            left =  mid + 1\n",
    "\n",
    "    return left\n",
    "\n",
    "sqr_root(8)\n",
    "\n",
    "\n"
   ]
  },
  {
   "cell_type": "code",
   "execution_count": null,
   "metadata": {},
   "outputs": [],
   "source": [
    "\n",
    "sort_nums = nums.sort()\n",
    "first_element = sort_nums[0]\n",
    "ind = nums.index(first_element)\n",
    "return index"
   ]
  },
  {
   "cell_type": "code",
   "execution_count": 34,
   "metadata": {},
   "outputs": [
    {
     "ename": "KeyboardInterrupt",
     "evalue": "",
     "output_type": "error",
     "traceback": [
      "\u001b[0;31m---------------------------------------------------------------------------\u001b[0m",
      "\u001b[0;31mKeyboardInterrupt\u001b[0m                         Traceback (most recent call last)",
      "Cell \u001b[0;32mIn[34], line 9\u001b[0m\n\u001b[1;32m      6\u001b[0m l \u001b[38;5;241m=\u001b[39m \u001b[38;5;241m0\u001b[39m \n\u001b[1;32m      7\u001b[0m r \u001b[38;5;241m=\u001b[39m \u001b[38;5;28mlen\u001b[39m(nums) \u001b[38;5;241m-\u001b[39m \u001b[38;5;241m1\u001b[39m\n\u001b[0;32m----> 9\u001b[0m \u001b[38;5;28;01mwhile\u001b[39;00m l \u001b[38;5;241m<\u001b[39m\u001b[38;5;241m=\u001b[39m r:\n\u001b[1;32m     11\u001b[0m     mid \u001b[38;5;241m=\u001b[39m (l \u001b[38;5;241m+\u001b[39m r) \u001b[38;5;241m/\u001b[39m\u001b[38;5;241m/\u001b[39m \u001b[38;5;241m2\u001b[39m\n\u001b[1;32m     13\u001b[0m     \u001b[38;5;28;01mif\u001b[39;00m nums[mid] \u001b[38;5;241m==\u001b[39m target:\n",
      "\u001b[0;31mKeyboardInterrupt\u001b[0m: "
     ]
    }
   ],
   "source": [
    "# search in the rotated sorted array linear search is feaible but since it is sorted we do binary search\n",
    "\n",
    "nums = [7,8,9,1,2,3,4,5,6]\n",
    "target = 9\n",
    "\n",
    "l = 0\n",
    "r = len(nums) - 1\n",
    "\n",
    "while l <= r:\n",
    "\n",
    "    mid = (l + r) // 2\n",
    "\n",
    "    if nums[mid] == target:\n",
    "        print(mid)\n",
    "        break\n",
    "\n",
    "    elif nums[mid] > target:\n",
    "\n",
    "        if nums[r] > target:\n",
    "            if nums[r] > nums[l]:\n",
    "                r = mid - 1\n",
    "        else:\n",
    "            l = mid + 1\n",
    "\n",
    "    else: # mid < target\n",
    "\n",
    "        if nums[r] < target:\n",
    "            if nums[r] < nums[l]:\n",
    "                r = mid - 1\n",
    "            # else: # nums[r] > nums[l]\n",
    "\n",
    "        else: # nums[r] > target\n",
    "            l = mid + 1\n",
    "\n",
    "        #     elif nums[l] > target:\n",
    "\n",
    "        # elif nums[r] > target:\n",
    "        #     l = mid + 1\n",
    "\n",
    "        # elif nums[l] < target:\n",
    "\n",
    "\n",
    "\n",
    "\n",
    "\n",
    "print(mid)\n"
   ]
  },
  {
   "cell_type": "code",
   "execution_count": 40,
   "metadata": {},
   "outputs": [
    {
     "name": "stdout",
     "output_type": "stream",
     "text": [
      "3\n"
     ]
    }
   ],
   "source": [
    "# search in rotate array I\n",
    "\n",
    "nums = [7,8,9,1,2,3,4,5,6]\n",
    "target = 1\n",
    "\n",
    "l = 0\n",
    "r = len(nums) - 1\n",
    "\n",
    "while l <= r:\n",
    "    mid  = (l + r) // 2\n",
    "\n",
    "    if nums[mid] == target:\n",
    "        print(mid)\n",
    "        break\n",
    "\n",
    "    # left sorted\n",
    "    elif nums[l] <= nums[mid]:\n",
    "        if nums[l] < target <= nums[mid]:\n",
    "            r =  mid - 1\n",
    "        else:\n",
    "            l = mid + 1\n",
    "\n",
    "    # right sorted\n",
    "    if nums[mid] <= nums[r]:\n",
    "        if nums[mid] < target <= nums[r]:\n",
    "            l = mid + 1\n",
    "        else:\n",
    "            r = mid - 1"
   ]
  },
  {
   "cell_type": "code",
   "execution_count": 41,
   "metadata": {},
   "outputs": [],
   "source": [
    "# search in rotated array II with duplicates\n",
    "\n"
   ]
  },
  {
   "cell_type": "code",
   "execution_count": 6,
   "metadata": {},
   "outputs": [
    {
     "name": "stdout",
     "output_type": "stream",
     "text": [
      "1\n"
     ]
    }
   ],
   "source": [
    "# minimium in rotated sorted array\n",
    "\n",
    "arr = [4,5,1,2,3]\n",
    "\n",
    "l = 0\n",
    "r = len(arr) - 1\n",
    "min_val = float(\"inf\")\n",
    "\n",
    "while l <= r:\n",
    "    mid = (l + r) // 2\n",
    "\n",
    "    # left sorted\n",
    "    if arr[l] <= arr[mid]:\n",
    "        tmp_min = arr[l]\n",
    "        if tmp_min <= min_val:\n",
    "            min_val = tmp_min\n",
    "        l = mid + 1\n",
    "\n",
    "# print (arr[mid])\n",
    "\n",
    "    # right sorted\n",
    "    if arr[mid] <= arr[r]:\n",
    "        tmp_min = arr[mid]\n",
    "        if tmp_min <= min_val:\n",
    "            min_val = tmp_min\n",
    "        r = mid - 1\n",
    "\n",
    "print(min_val)\n",
    "\n"
   ]
  },
  {
   "cell_type": "code",
   "execution_count": 28,
   "metadata": {},
   "outputs": [
    {
     "name": "stdout",
     "output_type": "stream",
     "text": [
      "6\n"
     ]
    }
   ],
   "source": [
    "# single element in sorted array\n",
    "# nums = [1,1,2,3,3,4,4,5,5,6,6]\n",
    "nums = [1,1,2,2,3,3,4,4,5,5,6,7,7,8,8]\n",
    "l = 1\n",
    "r = len(nums) - 2\n",
    "\n",
    "if nums[0] != nums[l]:\n",
    "    print(nums[0])\n",
    "elif nums[-2] != nums[-1]:\n",
    "    print(nums[-1])\n",
    "\n",
    "while l <= r:\n",
    "\n",
    "    mid = (l + r) // 2\n",
    "\n",
    "    if nums[mid - 1] != nums[mid] and nums[mid] != nums[mid+1]:\n",
    "        print(nums[mid])\n",
    "        break\n",
    "    elif mid % 2 == 0:\n",
    "        if nums[mid] == nums[mid+1]:\n",
    "            l = mid + 1\n",
    "        else:\n",
    "            r = mid - 1\n",
    "    elif mid % 2 == 1:\n",
    "        if nums[mid] == nums[mid-1]:\n",
    "            l = mid + 1\n",
    "        else:\n",
    "            r = mid - 1\n",
    "    # elif nums[mid] == nums[mid-1]:\n",
    "    #     l = mid + 1\n",
    "    # elif nums[mid] == nums[mid+1]:\n",
    "    #     r = mid - 1\n",
    "\n",
    "# print(nums[mid])"
   ]
  },
  {
   "cell_type": "code",
   "execution_count": 1,
   "metadata": {},
   "outputs": [
    {
     "ename": "KeyboardInterrupt",
     "evalue": "",
     "output_type": "error",
     "traceback": [
      "\u001b[0;31m---------------------------------------------------------------------------\u001b[0m",
      "\u001b[0;31mKeyboardInterrupt\u001b[0m                         Traceback (most recent call last)",
      "Cell \u001b[0;32mIn[1], line 31\u001b[0m\n\u001b[1;32m     27\u001b[0m     \u001b[38;5;28;01mreturn\u001b[39;00m [primes \u001b[38;5;28;01mfor\u001b[39;00m primes \u001b[38;5;129;01min\u001b[39;00m all_primes \u001b[38;5;28;01mif\u001b[39;00m primes]\n\u001b[1;32m     30\u001b[0m \u001b[38;5;66;03m# findfactors(29)\u001b[39;00m\n\u001b[0;32m---> 31\u001b[0m \u001b[43mcountPrimes\u001b[49m\u001b[43m(\u001b[49m\u001b[38;5;241;43m499979\u001b[39;49m\u001b[43m)\u001b[49m\n",
      "Cell \u001b[0;32mIn[1], line 21\u001b[0m, in \u001b[0;36mcountPrimes\u001b[0;34m(n)\u001b[0m\n\u001b[1;32m     19\u001b[0m count_prime \u001b[38;5;241m=\u001b[39m \u001b[38;5;28mset\u001b[39m()\n\u001b[1;32m     20\u001b[0m \u001b[38;5;28;01mfor\u001b[39;00m element \u001b[38;5;129;01min\u001b[39;00m \u001b[38;5;28mrange\u001b[39m(n):\n\u001b[0;32m---> 21\u001b[0m     factors \u001b[38;5;241m=\u001b[39m \u001b[43mfindfactors\u001b[49m\u001b[43m(\u001b[49m\u001b[43melement\u001b[49m\u001b[43m)\u001b[49m\n\u001b[1;32m     22\u001b[0m     all_primes\u001b[38;5;241m.\u001b[39mappend(factors)\n\u001b[1;32m     24\u001b[0m \u001b[38;5;66;03m# for element_list in all_primes:\u001b[39;00m\n\u001b[1;32m     25\u001b[0m \u001b[38;5;66;03m#     for items in element_list:\u001b[39;00m\n\u001b[1;32m     26\u001b[0m \u001b[38;5;66;03m#         count_prime.add(items)\u001b[39;00m\n",
      "Cell \u001b[0;32mIn[1], line 5\u001b[0m, in \u001b[0;36mfindfactors\u001b[0;34m(element)\u001b[0m\n\u001b[1;32m      3\u001b[0m div \u001b[38;5;241m=\u001b[39m \u001b[38;5;241m1\u001b[39m\n\u001b[1;32m      4\u001b[0m factors \u001b[38;5;241m=\u001b[39m []\n\u001b[0;32m----> 5\u001b[0m \u001b[38;5;28;01mwhile\u001b[39;00m div \u001b[38;5;241m*\u001b[39m div \u001b[38;5;241m<\u001b[39m\u001b[38;5;241m=\u001b[39m element:\n\u001b[1;32m      6\u001b[0m     \u001b[38;5;28;01mif\u001b[39;00m element \u001b[38;5;241m%\u001b[39m div  \u001b[38;5;241m==\u001b[39m \u001b[38;5;241m0\u001b[39m:\n\u001b[1;32m      7\u001b[0m         factors\u001b[38;5;241m.\u001b[39mappend(div)\n",
      "\u001b[0;31mKeyboardInterrupt\u001b[0m: "
     ]
    }
   ],
   "source": [
    "# class Solution(object):\n",
    "def findfactors(element):\n",
    "    div = 1\n",
    "    factors = []\n",
    "    while div * div <= element:\n",
    "        if element % div  == 0:\n",
    "            factors.append(div)\n",
    "            if (element / div) != div:\n",
    "                factors.append(int(element / div))\n",
    "        div += 1\n",
    "    if len(factors) == 2:\n",
    "        return factors\n",
    "    else:\n",
    "        return []\n",
    "\n",
    "\n",
    "def countPrimes(n):\n",
    "    all_primes = []\n",
    "    count_prime = set()\n",
    "    for element in range(n):\n",
    "        factors = findfactors(element)\n",
    "        all_primes.append(factors)\n",
    "\n",
    "    # for element_list in all_primes:\n",
    "    #     for items in element_list:\n",
    "    #         count_prime.add(items)\n",
    "    return [primes for primes in all_primes if primes]\n",
    "\n",
    "\n",
    "# findfactors(29)\n",
    "countPrimes(499979)\n"
   ]
  },
  {
   "cell_type": "code",
   "execution_count": 29,
   "metadata": {},
   "outputs": [
    {
     "data": {
      "text/plain": [
       "[2,\n",
       " 3,\n",
       " 5,\n",
       " 7,\n",
       " 11,\n",
       " 13,\n",
       " 17,\n",
       " 19,\n",
       " 23,\n",
       " 29,\n",
       " 31,\n",
       " 37,\n",
       " 41,\n",
       " 43,\n",
       " 47,\n",
       " 53,\n",
       " 59,\n",
       " 61,\n",
       " 67,\n",
       " 71,\n",
       " 73,\n",
       " 79,\n",
       " 83,\n",
       " 89,\n",
       " 97,\n",
       " 101,\n",
       " 103,\n",
       " 107,\n",
       " 109,\n",
       " 113,\n",
       " 127,\n",
       " 131,\n",
       " 137,\n",
       " 139,\n",
       " 149,\n",
       " 151,\n",
       " 157,\n",
       " 163,\n",
       " 167,\n",
       " 173,\n",
       " 179,\n",
       " 181,\n",
       " 191,\n",
       " 193,\n",
       " 197,\n",
       " 199,\n",
       " 211,\n",
       " 223,\n",
       " 227,\n",
       " 229,\n",
       " 233,\n",
       " 239,\n",
       " 241,\n",
       " 251,\n",
       " 257,\n",
       " 263,\n",
       " 269,\n",
       " 271,\n",
       " 277,\n",
       " 281,\n",
       " 283,\n",
       " 293,\n",
       " 307,\n",
       " 311,\n",
       " 313,\n",
       " 317,\n",
       " 331,\n",
       " 337,\n",
       " 347,\n",
       " 349,\n",
       " 353,\n",
       " 359,\n",
       " 367,\n",
       " 373,\n",
       " 379,\n",
       " 383,\n",
       " 389,\n",
       " 397,\n",
       " 401,\n",
       " 409,\n",
       " 419,\n",
       " 421,\n",
       " 431,\n",
       " 433,\n",
       " 439,\n",
       " 443,\n",
       " 449,\n",
       " 457,\n",
       " 461,\n",
       " 463,\n",
       " 467,\n",
       " 479,\n",
       " 487,\n",
       " 491,\n",
       " 499,\n",
       " 503,\n",
       " 509,\n",
       " 521,\n",
       " 523,\n",
       " 541,\n",
       " 547,\n",
       " 557,\n",
       " 563,\n",
       " 569,\n",
       " 571,\n",
       " 577,\n",
       " 587,\n",
       " 593,\n",
       " 599,\n",
       " 601,\n",
       " 607,\n",
       " 613,\n",
       " 617,\n",
       " 619,\n",
       " 631,\n",
       " 641,\n",
       " 643,\n",
       " 647,\n",
       " 653,\n",
       " 659,\n",
       " 661,\n",
       " 673,\n",
       " 677,\n",
       " 683,\n",
       " 691,\n",
       " 701,\n",
       " 709,\n",
       " 719,\n",
       " 727,\n",
       " 733,\n",
       " 739,\n",
       " 743,\n",
       " 751,\n",
       " 757,\n",
       " 761,\n",
       " 769,\n",
       " 773,\n",
       " 787,\n",
       " 797,\n",
       " 809,\n",
       " 811,\n",
       " 821,\n",
       " 823,\n",
       " 827,\n",
       " 829,\n",
       " 839,\n",
       " 853,\n",
       " 857,\n",
       " 859,\n",
       " 863,\n",
       " 877,\n",
       " 881,\n",
       " 883,\n",
       " 887,\n",
       " 907,\n",
       " 911,\n",
       " 919,\n",
       " 929,\n",
       " 937,\n",
       " 941,\n",
       " 947,\n",
       " 953,\n",
       " 967,\n",
       " 971,\n",
       " 977,\n",
       " 983,\n",
       " 991,\n",
       " 997,\n",
       " 1009,\n",
       " 1013,\n",
       " 1019,\n",
       " 1021,\n",
       " 1031,\n",
       " 1033,\n",
       " 1039,\n",
       " 1049,\n",
       " 1051,\n",
       " 1061,\n",
       " 1063,\n",
       " 1069,\n",
       " 1087,\n",
       " 1091,\n",
       " 1093,\n",
       " 1097,\n",
       " 1103,\n",
       " 1109,\n",
       " 1117,\n",
       " 1123,\n",
       " 1129,\n",
       " 1151,\n",
       " 1153,\n",
       " 1163,\n",
       " 1171,\n",
       " 1181,\n",
       " 1187,\n",
       " 1193,\n",
       " 1201,\n",
       " 1213,\n",
       " 1217,\n",
       " 1223,\n",
       " 1229,\n",
       " 1231,\n",
       " 1237,\n",
       " 1249,\n",
       " 1259,\n",
       " 1277,\n",
       " 1279,\n",
       " 1283,\n",
       " 1289,\n",
       " 1291,\n",
       " 1297,\n",
       " 1301,\n",
       " 1303,\n",
       " 1307,\n",
       " 1319,\n",
       " 1321,\n",
       " 1327,\n",
       " 1361,\n",
       " 1367,\n",
       " 1373,\n",
       " 1381,\n",
       " 1399,\n",
       " 1409,\n",
       " 1423,\n",
       " 1427,\n",
       " 1429,\n",
       " 1433,\n",
       " 1439,\n",
       " 1447,\n",
       " 1451,\n",
       " 1453,\n",
       " 1459,\n",
       " 1471,\n",
       " 1481,\n",
       " 1483,\n",
       " 1487,\n",
       " 1489,\n",
       " 1493,\n",
       " 1499,\n",
       " 1511,\n",
       " 1523,\n",
       " 1531,\n",
       " 1543,\n",
       " 1549,\n",
       " 1553,\n",
       " 1559,\n",
       " 1567,\n",
       " 1571,\n",
       " 1579,\n",
       " 1583,\n",
       " 1597,\n",
       " 1601,\n",
       " 1607,\n",
       " 1609,\n",
       " 1613,\n",
       " 1619,\n",
       " 1621,\n",
       " 1627,\n",
       " 1637,\n",
       " 1657,\n",
       " 1663,\n",
       " 1667,\n",
       " 1669,\n",
       " 1693,\n",
       " 1697,\n",
       " 1699,\n",
       " 1709,\n",
       " 1721,\n",
       " 1723,\n",
       " 1733,\n",
       " 1741,\n",
       " 1747,\n",
       " 1753,\n",
       " 1759,\n",
       " 1777,\n",
       " 1783,\n",
       " 1787,\n",
       " 1789,\n",
       " 1801,\n",
       " 1811,\n",
       " 1823,\n",
       " 1831,\n",
       " 1847,\n",
       " 1861,\n",
       " 1867,\n",
       " 1871,\n",
       " 1873,\n",
       " 1877,\n",
       " 1879,\n",
       " 1889,\n",
       " 1901,\n",
       " 1907,\n",
       " 1913,\n",
       " 1931,\n",
       " 1933,\n",
       " 1949,\n",
       " 1951,\n",
       " 1973,\n",
       " 1979,\n",
       " 1987,\n",
       " 1993,\n",
       " 1997,\n",
       " 1999,\n",
       " 2003,\n",
       " 2011,\n",
       " 2017,\n",
       " 2027,\n",
       " 2029,\n",
       " 2039,\n",
       " 2053,\n",
       " 2063,\n",
       " 2069,\n",
       " 2081,\n",
       " 2083,\n",
       " 2087,\n",
       " 2089,\n",
       " 2099,\n",
       " 2111,\n",
       " 2113,\n",
       " 2129,\n",
       " 2131,\n",
       " 2137,\n",
       " 2141,\n",
       " 2143,\n",
       " 2153,\n",
       " 2161,\n",
       " 2179,\n",
       " 2203,\n",
       " 2207,\n",
       " 2213,\n",
       " 2221,\n",
       " 2237,\n",
       " 2239,\n",
       " 2243,\n",
       " 2251,\n",
       " 2267,\n",
       " 2269,\n",
       " 2273,\n",
       " 2281,\n",
       " 2287,\n",
       " 2293,\n",
       " 2297,\n",
       " 2309,\n",
       " 2311,\n",
       " 2333,\n",
       " 2339,\n",
       " 2341,\n",
       " 2347,\n",
       " 2351,\n",
       " 2357,\n",
       " 2371,\n",
       " 2377,\n",
       " 2381,\n",
       " 2383,\n",
       " 2389,\n",
       " 2393,\n",
       " 2399,\n",
       " 2411,\n",
       " 2417,\n",
       " 2423,\n",
       " 2437,\n",
       " 2441,\n",
       " 2447,\n",
       " 2459,\n",
       " 2467,\n",
       " 2473,\n",
       " 2477,\n",
       " 2503,\n",
       " 2521,\n",
       " 2531,\n",
       " 2539,\n",
       " 2543,\n",
       " 2549,\n",
       " 2551,\n",
       " 2557,\n",
       " 2579,\n",
       " 2591,\n",
       " 2593,\n",
       " 2609,\n",
       " 2617,\n",
       " 2621,\n",
       " 2633,\n",
       " 2647,\n",
       " 2657,\n",
       " 2659,\n",
       " 2663,\n",
       " 2671,\n",
       " 2677,\n",
       " 2683,\n",
       " 2687,\n",
       " 2689,\n",
       " 2693,\n",
       " 2699,\n",
       " 2707,\n",
       " 2711,\n",
       " 2713,\n",
       " 2719,\n",
       " 2729,\n",
       " 2731,\n",
       " 2741,\n",
       " 2749,\n",
       " 2753,\n",
       " 2767,\n",
       " 2777,\n",
       " 2789,\n",
       " 2791,\n",
       " 2797,\n",
       " 2801,\n",
       " 2803,\n",
       " 2819,\n",
       " 2833,\n",
       " 2837,\n",
       " 2843,\n",
       " 2851,\n",
       " 2857,\n",
       " 2861,\n",
       " 2879,\n",
       " 2887,\n",
       " 2897,\n",
       " 2903,\n",
       " 2909,\n",
       " 2917,\n",
       " 2927,\n",
       " 2939,\n",
       " 2953,\n",
       " 2957,\n",
       " 2963,\n",
       " 2969,\n",
       " 2971,\n",
       " 2999,\n",
       " 3001,\n",
       " 3011,\n",
       " 3019,\n",
       " 3023,\n",
       " 3037,\n",
       " 3041,\n",
       " 3049,\n",
       " 3061,\n",
       " 3067,\n",
       " 3079,\n",
       " 3083,\n",
       " 3089,\n",
       " 3109,\n",
       " 3119,\n",
       " 3121,\n",
       " 3137,\n",
       " 3163,\n",
       " 3167,\n",
       " 3169,\n",
       " 3181,\n",
       " 3187,\n",
       " 3191,\n",
       " 3203,\n",
       " 3209,\n",
       " 3217,\n",
       " 3221,\n",
       " 3229,\n",
       " 3251,\n",
       " 3253,\n",
       " 3257,\n",
       " 3259,\n",
       " 3271,\n",
       " 3299,\n",
       " 3301,\n",
       " 3307,\n",
       " 3313,\n",
       " 3319,\n",
       " 3323,\n",
       " 3329,\n",
       " 3331,\n",
       " 3343,\n",
       " 3347,\n",
       " 3359,\n",
       " 3361,\n",
       " 3371,\n",
       " 3373,\n",
       " 3389,\n",
       " 3391,\n",
       " 3407,\n",
       " 3413,\n",
       " 3433,\n",
       " 3449,\n",
       " 3457,\n",
       " 3461,\n",
       " 3463,\n",
       " 3467,\n",
       " 3469,\n",
       " 3491,\n",
       " 3499,\n",
       " 3511,\n",
       " 3517,\n",
       " 3527,\n",
       " 3529,\n",
       " 3533,\n",
       " 3539,\n",
       " 3541,\n",
       " 3547,\n",
       " 3557,\n",
       " 3559,\n",
       " 3571,\n",
       " 3581,\n",
       " 3583,\n",
       " 3593,\n",
       " 3607,\n",
       " 3613,\n",
       " 3617,\n",
       " 3623,\n",
       " 3631,\n",
       " 3637,\n",
       " 3643,\n",
       " 3659,\n",
       " 3671,\n",
       " 3673,\n",
       " 3677,\n",
       " 3691,\n",
       " 3697,\n",
       " 3701,\n",
       " 3709,\n",
       " 3719,\n",
       " 3727,\n",
       " 3733,\n",
       " 3739,\n",
       " 3761,\n",
       " 3767,\n",
       " 3769,\n",
       " 3779,\n",
       " 3793,\n",
       " 3797,\n",
       " 3803,\n",
       " 3821,\n",
       " 3823,\n",
       " 3833,\n",
       " 3847,\n",
       " 3851,\n",
       " 3853,\n",
       " 3863,\n",
       " 3877,\n",
       " 3881,\n",
       " 3889,\n",
       " 3907,\n",
       " 3911,\n",
       " 3917,\n",
       " 3919,\n",
       " 3923,\n",
       " 3929,\n",
       " 3931,\n",
       " 3943,\n",
       " 3947,\n",
       " 3967,\n",
       " 3989,\n",
       " 4001,\n",
       " 4003,\n",
       " 4007,\n",
       " 4013,\n",
       " 4019,\n",
       " 4021,\n",
       " 4027,\n",
       " 4049,\n",
       " 4051,\n",
       " 4057,\n",
       " 4073,\n",
       " 4079,\n",
       " 4091,\n",
       " 4093,\n",
       " 4099,\n",
       " 4111,\n",
       " 4127,\n",
       " 4129,\n",
       " 4133,\n",
       " 4139,\n",
       " 4153,\n",
       " 4157,\n",
       " 4159,\n",
       " 4177,\n",
       " 4201,\n",
       " 4211,\n",
       " 4217,\n",
       " 4219,\n",
       " 4229,\n",
       " 4231,\n",
       " 4241,\n",
       " 4243,\n",
       " 4253,\n",
       " 4259,\n",
       " 4261,\n",
       " 4271,\n",
       " 4273,\n",
       " 4283,\n",
       " 4289,\n",
       " 4297,\n",
       " 4327,\n",
       " 4337,\n",
       " 4339,\n",
       " 4349,\n",
       " 4357,\n",
       " 4363,\n",
       " 4373,\n",
       " 4391,\n",
       " 4397,\n",
       " 4409,\n",
       " 4421,\n",
       " 4423,\n",
       " 4441,\n",
       " 4447,\n",
       " 4451,\n",
       " 4457,\n",
       " 4463,\n",
       " 4481,\n",
       " 4483,\n",
       " 4493,\n",
       " 4507,\n",
       " 4513,\n",
       " 4517,\n",
       " 4519,\n",
       " 4523,\n",
       " 4547,\n",
       " 4549,\n",
       " 4561,\n",
       " 4567,\n",
       " 4583,\n",
       " 4591,\n",
       " 4597,\n",
       " 4603,\n",
       " 4621,\n",
       " 4637,\n",
       " 4639,\n",
       " 4643,\n",
       " 4649,\n",
       " 4651,\n",
       " 4657,\n",
       " 4663,\n",
       " 4673,\n",
       " 4679,\n",
       " 4691,\n",
       " 4703,\n",
       " 4721,\n",
       " 4723,\n",
       " 4729,\n",
       " 4733,\n",
       " 4751,\n",
       " 4759,\n",
       " 4783,\n",
       " 4787,\n",
       " 4789,\n",
       " 4793,\n",
       " 4799,\n",
       " 4801,\n",
       " 4813,\n",
       " 4817,\n",
       " 4831,\n",
       " 4861,\n",
       " 4871,\n",
       " 4877,\n",
       " 4889,\n",
       " 4903,\n",
       " 4909,\n",
       " 4919,\n",
       " 4931,\n",
       " 4933,\n",
       " 4937,\n",
       " 4943,\n",
       " 4951,\n",
       " 4957,\n",
       " 4967,\n",
       " 4969,\n",
       " 4973,\n",
       " 4987,\n",
       " 4993,\n",
       " 4999,\n",
       " 5003,\n",
       " 5009,\n",
       " 5011,\n",
       " 5021,\n",
       " 5023,\n",
       " 5039,\n",
       " 5051,\n",
       " 5059,\n",
       " 5077,\n",
       " 5081,\n",
       " 5087,\n",
       " 5099,\n",
       " 5101,\n",
       " 5107,\n",
       " 5113,\n",
       " 5119,\n",
       " 5147,\n",
       " 5153,\n",
       " 5167,\n",
       " 5171,\n",
       " 5179,\n",
       " 5189,\n",
       " 5197,\n",
       " 5209,\n",
       " 5227,\n",
       " 5231,\n",
       " 5233,\n",
       " 5237,\n",
       " 5261,\n",
       " 5273,\n",
       " 5279,\n",
       " 5281,\n",
       " 5297,\n",
       " 5303,\n",
       " 5309,\n",
       " 5323,\n",
       " 5333,\n",
       " 5347,\n",
       " 5351,\n",
       " 5381,\n",
       " 5387,\n",
       " 5393,\n",
       " 5399,\n",
       " 5407,\n",
       " 5413,\n",
       " 5417,\n",
       " 5419,\n",
       " 5431,\n",
       " 5437,\n",
       " 5441,\n",
       " 5443,\n",
       " 5449,\n",
       " 5471,\n",
       " 5477,\n",
       " 5479,\n",
       " 5483,\n",
       " 5501,\n",
       " 5503,\n",
       " 5507,\n",
       " 5519,\n",
       " 5521,\n",
       " 5527,\n",
       " 5531,\n",
       " 5557,\n",
       " 5563,\n",
       " 5569,\n",
       " 5573,\n",
       " 5581,\n",
       " 5591,\n",
       " 5623,\n",
       " 5639,\n",
       " 5641,\n",
       " 5647,\n",
       " 5651,\n",
       " 5653,\n",
       " 5657,\n",
       " 5659,\n",
       " 5669,\n",
       " 5683,\n",
       " 5689,\n",
       " 5693,\n",
       " 5701,\n",
       " 5711,\n",
       " 5717,\n",
       " 5737,\n",
       " 5741,\n",
       " 5743,\n",
       " 5749,\n",
       " 5779,\n",
       " 5783,\n",
       " 5791,\n",
       " 5801,\n",
       " 5807,\n",
       " 5813,\n",
       " 5821,\n",
       " 5827,\n",
       " 5839,\n",
       " 5843,\n",
       " 5849,\n",
       " 5851,\n",
       " 5857,\n",
       " 5861,\n",
       " 5867,\n",
       " 5869,\n",
       " 5879,\n",
       " 5881,\n",
       " 5897,\n",
       " 5903,\n",
       " 5923,\n",
       " 5927,\n",
       " 5939,\n",
       " 5953,\n",
       " 5981,\n",
       " 5987,\n",
       " 6007,\n",
       " 6011,\n",
       " 6029,\n",
       " 6037,\n",
       " 6043,\n",
       " 6047,\n",
       " 6053,\n",
       " 6067,\n",
       " 6073,\n",
       " 6079,\n",
       " 6089,\n",
       " 6091,\n",
       " 6101,\n",
       " 6113,\n",
       " 6121,\n",
       " 6131,\n",
       " 6133,\n",
       " 6143,\n",
       " 6151,\n",
       " 6163,\n",
       " 6173,\n",
       " 6197,\n",
       " 6199,\n",
       " 6203,\n",
       " 6211,\n",
       " 6217,\n",
       " 6221,\n",
       " 6229,\n",
       " 6247,\n",
       " 6257,\n",
       " 6263,\n",
       " 6269,\n",
       " 6271,\n",
       " 6277,\n",
       " 6287,\n",
       " 6299,\n",
       " 6301,\n",
       " 6311,\n",
       " 6317,\n",
       " 6323,\n",
       " 6329,\n",
       " 6337,\n",
       " 6343,\n",
       " 6353,\n",
       " 6359,\n",
       " 6361,\n",
       " 6367,\n",
       " 6373,\n",
       " 6379,\n",
       " 6389,\n",
       " 6397,\n",
       " 6421,\n",
       " 6427,\n",
       " 6449,\n",
       " 6451,\n",
       " 6469,\n",
       " 6473,\n",
       " 6481,\n",
       " 6491,\n",
       " 6521,\n",
       " 6529,\n",
       " 6547,\n",
       " 6551,\n",
       " 6553,\n",
       " 6563,\n",
       " 6569,\n",
       " 6571,\n",
       " 6577,\n",
       " 6581,\n",
       " 6599,\n",
       " 6607,\n",
       " 6619,\n",
       " 6637,\n",
       " 6653,\n",
       " 6659,\n",
       " 6661,\n",
       " 6673,\n",
       " 6679,\n",
       " 6689,\n",
       " 6691,\n",
       " 6701,\n",
       " 6703,\n",
       " 6709,\n",
       " 6719,\n",
       " 6733,\n",
       " 6737,\n",
       " 6761,\n",
       " 6763,\n",
       " 6779,\n",
       " 6781,\n",
       " 6791,\n",
       " 6793,\n",
       " 6803,\n",
       " 6823,\n",
       " 6827,\n",
       " 6829,\n",
       " 6833,\n",
       " 6841,\n",
       " 6857,\n",
       " 6863,\n",
       " 6869,\n",
       " 6871,\n",
       " 6883,\n",
       " 6899,\n",
       " 6907,\n",
       " 6911,\n",
       " 6917,\n",
       " 6947,\n",
       " 6949,\n",
       " 6959,\n",
       " 6961,\n",
       " 6967,\n",
       " 6971,\n",
       " 6977,\n",
       " 6983,\n",
       " 6991,\n",
       " 6997,\n",
       " 7001,\n",
       " 7013,\n",
       " 7019,\n",
       " 7027,\n",
       " 7039,\n",
       " 7043,\n",
       " 7057,\n",
       " 7069,\n",
       " 7079,\n",
       " 7103,\n",
       " 7109,\n",
       " 7121,\n",
       " 7127,\n",
       " 7129,\n",
       " 7151,\n",
       " 7159,\n",
       " 7177,\n",
       " 7187,\n",
       " 7193,\n",
       " 7207,\n",
       " 7211,\n",
       " 7213,\n",
       " 7219,\n",
       " 7229,\n",
       " 7237,\n",
       " 7243,\n",
       " 7247,\n",
       " 7253,\n",
       " 7283,\n",
       " 7297,\n",
       " 7307,\n",
       " 7309,\n",
       " 7321,\n",
       " 7331,\n",
       " 7333,\n",
       " 7349,\n",
       " 7351,\n",
       " 7369,\n",
       " 7393,\n",
       " 7411,\n",
       " 7417,\n",
       " 7433,\n",
       " 7451,\n",
       " 7457,\n",
       " 7459,\n",
       " 7477,\n",
       " 7481,\n",
       " 7487,\n",
       " 7489,\n",
       " 7499,\n",
       " 7507,\n",
       " 7517,\n",
       " 7523,\n",
       " 7529,\n",
       " 7537,\n",
       " 7541,\n",
       " 7547,\n",
       " 7549,\n",
       " 7559,\n",
       " 7561,\n",
       " 7573,\n",
       " 7577,\n",
       " 7583,\n",
       " 7589,\n",
       " 7591,\n",
       " 7603,\n",
       " 7607,\n",
       " 7621,\n",
       " 7639,\n",
       " 7643,\n",
       " 7649,\n",
       " 7669,\n",
       " 7673,\n",
       " 7681,\n",
       " 7687,\n",
       " 7691,\n",
       " 7699,\n",
       " 7703,\n",
       " 7717,\n",
       " 7723,\n",
       " 7727,\n",
       " 7741,\n",
       " 7753,\n",
       " 7757,\n",
       " 7759,\n",
       " 7789,\n",
       " 7793,\n",
       " 7817,\n",
       " 7823,\n",
       " 7829,\n",
       " 7841,\n",
       " 7853,\n",
       " 7867,\n",
       " 7873,\n",
       " 7877,\n",
       " 7879,\n",
       " 7883,\n",
       " 7901,\n",
       " 7907,\n",
       " 7919,\n",
       " ...]"
      ]
     },
     "execution_count": 29,
     "metadata": {},
     "output_type": "execute_result"
    }
   ],
   "source": [
    "# sieve of eratosthenes unoptimized\n",
    "def memset(n):\n",
    "    prime_vals = []\n",
    "    prime = [1 for _ in range(n)]\n",
    "    prime[0] = 0\n",
    "    if n > 1:\n",
    "        prime[1] = 0\n",
    "\n",
    "    for i in range(2, n):\n",
    "        if prime[i] == 1:\n",
    "            for j in range(i*i, n, i):\n",
    "                prime[j] = 0\n",
    "\n",
    "    for i in range(2, n):\n",
    "        if prime[i] == 1:\n",
    "            prime_vals.append(i)\n",
    "\n",
    "    return prime_vals\n",
    "\n",
    "memset(469193)\n",
    "\n",
    "# def memset_pythonic(n):\n",
    "#     value =  1\n",
    "#     prime = [value] * n\n",
    "\n",
    "#     return prime\n",
    "\n",
    "# memset_pythonic(13)"
   ]
  },
  {
   "cell_type": "code",
   "execution_count": 1,
   "metadata": {},
   "outputs": [
    {
     "name": "stdout",
     "output_type": "stream",
     "text": [
      "[2, 3, 5, 7, 11, 13, 17, 19, 23, 29, 31, 37, 41, 43, 47, 53, 59, 61, 67, 71, 73, 79, 83, 89, 97]\n"
     ]
    }
   ],
   "source": [
    "# sieve of eratosthenes optimized\n",
    "# TC: O(n) + O(n(log(log n))) + O(n)\n",
    "\n",
    "from math import sqrt\n",
    "\n",
    "class Solution(object):\n",
    "    def countPrimes(self, n):\n",
    "        \"\"\"\n",
    "        :type n: int\n",
    "        :rtype: int\n",
    "        \"\"\"\n",
    "        # def findfactors(element):\n",
    "        #     div = 1\n",
    "        #     factors = []\n",
    "        #     while div * div <= element:\n",
    "        #         if element % div  == 0:\n",
    "        #             factors.append(div)\n",
    "        #             if (element / div) != div:\n",
    "        #                 factors.append(int(element / div))\n",
    "        #         div += 1\n",
    "        #     if len(factors) == 2:\n",
    "        #         return factors\n",
    "        #     else:\n",
    "        #         return []\n",
    "\n",
    "\n",
    "        # all_primes = []\n",
    "        # count_prime = set()\n",
    "        # for element in range(n):\n",
    "        #     factors = findfactors(element)\n",
    "        #     all_primes.append(factors)\n",
    "\n",
    "        # for element_list in all_primes:\n",
    "        #     for items in element_list:\n",
    "        #         count_prime.add(items)\n",
    "\n",
    "        # return len([primes for primes in all_primes if primes])\n",
    "\n",
    "\n",
    "        # for length of nums (n) be zero and 1\n",
    "        if n in [0,1]:\n",
    "            return 0\n",
    "\n",
    "\n",
    "        prime_vals = []\n",
    "\n",
    "        #memset\n",
    "        prime = [1 for _ in range(n)]\n",
    "\n",
    "        # initializing 0 and 1 numbers memset value to be zero\n",
    "        prime[0] = 0\n",
    "        if n > 1:\n",
    "            prime[1] = 0\n",
    "\n",
    "        # sieve of eratosthenes\n",
    "        for i in range(2, int(sqrt(n)) + 1):\n",
    "            if prime[i] == 1:\n",
    "                for j in range(i*i, n, i):\n",
    "                    prime[j] = 0\n",
    "\n",
    "        for i in range(2, n):\n",
    "            if prime[i] == 1:\n",
    "                prime_vals.append(i)\n",
    "\n",
    "        return prime_vals\n",
    "\n",
    "primes = Solution()\n",
    "print(primes.countPrimes(100))\n"
   ]
  },
  {
   "cell_type": "code",
   "execution_count": 1,
   "metadata": {},
   "outputs": [
    {
     "ename": "SyntaxError",
     "evalue": "invalid syntax (363716128.py, line 6)",
     "output_type": "error",
     "traceback": [
      "\u001b[0;36m  Cell \u001b[0;32mIn[1], line 6\u001b[0;36m\u001b[0m\n\u001b[0;31m    for n in range(:\u001b[0m\n\u001b[0m                   ^\u001b[0m\n\u001b[0;31mSyntaxError\u001b[0m\u001b[0;31m:\u001b[0m invalid syntax\n"
     ]
    }
   ],
   "source": [
    "# mills prime\n",
    "import math\n",
    "\n",
    "mu = 1.3063778838630806904686144926\n",
    "primes = []\n",
    "for n in range(:\n",
    "    mills_prime = math.floor((mu ** 3) ** n)\n",
    "    primes.append(mills_prime)\n",
    "\n",
    "print(primes)\n",
    "\n",
    "# primes = [math.floor((mu ** 3) ** n) for n in range(10)]\n",
    "\n",
    "# print(primes)\n"
   ]
  },
  {
   "cell_type": "code",
   "execution_count": 11,
   "metadata": {},
   "outputs": [
    {
     "name": "stdout",
     "output_type": "stream",
     "text": [
      "2\n"
     ]
    }
   ],
   "source": [
    "# second largest element in the array\n",
    "\n",
    "arr = [1,2,3,2,1]\n",
    "largest = arr[0]\n",
    "second_largest = float(\"-inf\")\n",
    "for i in range(1, len(arr)):\n",
    "    if arr[i] > largest and largest > second_largest:\n",
    "        second_largest = largest\n",
    "        largest = arr[i]\n",
    "\n",
    "    elif second_largest < arr[i] < largest:\n",
    "        second_largest = arr[i]\n",
    "\n",
    "print(second_largest)\n",
    "\n"
   ]
  },
  {
   "cell_type": "code",
   "execution_count": 9,
   "metadata": {},
   "outputs": [
    {
     "name": "stdout",
     "output_type": "stream",
     "text": [
      "[1, 2]\n"
     ]
    }
   ],
   "source": [
    "s = \"qoiw1psk2\"\n",
    "nums = [int(s[i]) for i in range(len(s)) if s[i].isdigit()]\n",
    "\n",
    "print(nums)\n"
   ]
  },
  {
   "cell_type": "code",
   "execution_count": 22,
   "metadata": {},
   "outputs": [
    {
     "name": "stdout",
     "output_type": "stream",
     "text": [
      "[4, 5, 6, 7, 1, 2, 3]\n"
     ]
    }
   ],
   "source": [
    "arr = [1,2,3,4,5,6,7]\n",
    "\n",
    "\n",
    "first_part = list(reversed(arr[:3]))\n",
    "second_part = list(reversed(arr[3:]))\n",
    "arr = first_part + second_part\n",
    "entire = list(reversed(arr))\n",
    "print(entire)"
   ]
  },
  {
   "cell_type": "code",
   "execution_count": 27,
   "metadata": {},
   "outputs": [
    {
     "name": "stdout",
     "output_type": "stream",
     "text": [
      "[1, 2, 1, 2, 3, 2, 4, 5, 1, 0, 0, 0]\n"
     ]
    }
   ],
   "source": [
    "arr = [1,0,2,1,2,3,2,0,4,5,1,0]\n",
    "j = 0\n",
    "count = 0\n",
    "for i in range(len(arr)):\n",
    "    if arr[i] != 0:\n",
    "        arr[j] = arr[i]\n",
    "        j += 1\n",
    "    else:\n",
    "        count += 1\n",
    "\n",
    "arr[j:] = [0] * count\n",
    "\n",
    "print(arr)"
   ]
  },
  {
   "cell_type": "code",
   "execution_count": null,
   "metadata": {},
   "outputs": [],
   "source": [
    "arr = [1,0,2,1,2,3,2,0,4,5,1,0]\n",
    "new_arr = [arr[i] for i in range(len(arr)) if arr[i] != 0]"
   ]
  },
  {
   "cell_type": "code",
   "execution_count": 7,
   "metadata": {},
   "outputs": [
    {
     "name": "stdout",
     "output_type": "stream",
     "text": [
      "[1, 2, 3, 4, 5, 6]\n"
     ]
    }
   ],
   "source": [
    "# union of two sorted arrays, TC: O(n1^2 + n2^2), SC: O(n) --> optimal in copy using two pointers\n",
    "\n",
    "arr1 = [1,1,2,3,4,5]\n",
    "arr2 = [2,3,4,4,5,6]\n",
    "union = []\n",
    "\n",
    "for i in range(len(arr1)):\n",
    "    if arr1[i] not in union:\n",
    "        union.append(arr1[i])\n",
    "\n",
    "for j in range(len(arr2)):\n",
    "    if arr2[j] not in union:\n",
    "        union.append(arr2[j])\n",
    "\n",
    "print(((union)))\n",
    "\n",
    "\n",
    "# O(n(log(n))\n",
    "\n",
    "arr1 = [1,1,2,3,4,5]\n",
    "arr2 = [2,3,4,4,5,6]\n",
    "union = []\n",
    "\n",
    "for i in range(1, len(arr1)):\n",
    "    if arr1[i] != arr[i+1]:\n",
    "        union.append(arr1[i])\n",
    "\n",
    "for j in range(len(arr2)):\n",
    "    if arr2[j] not in union:\n",
    "        union.append(arr2[j])\n",
    "\n",
    "print(((union)))\n"
   ]
  },
  {
   "cell_type": "code",
   "execution_count": 25,
   "metadata": {},
   "outputs": [
    {
     "data": {
      "text/plain": [
       "5"
      ]
     },
     "execution_count": 25,
     "metadata": {},
     "output_type": "execute_result"
    }
   ],
   "source": [
    "# find the missing number if the arr is sorted\n",
    "def missing_number(arr):\n",
    "    j = 1\n",
    "    for i in range(len(arr)):\n",
    "        if j == arr[i]:\n",
    "            j += 1\n",
    "        else:\n",
    "            return (j)\n",
    "\n",
    "    return (j)\n",
    "\n",
    "missing_number([1,2,3,4,5])\n",
    "\n",
    "#  if the arr is unsorted then\n",
    "\n",
    "def missing_num(arr):\n",
    "    summation = 0\n",
    "    max_num = len(arr) + 1\n",
    "    natural_sum = (max_num * (max_num + 1)) / 2\n",
    "    for num in arr:\n",
    "        summation += num\n",
    "\n",
    "    missing_num = natural_sum - summation\n",
    "\n",
    "    return missing_num\n",
    "\n",
    "\n",
    "\n",
    "\n",
    "\n"
   ]
  },
  {
   "cell_type": "code",
   "execution_count": null,
   "metadata": {},
   "outputs": [],
   "source": [
    "class Solution(object):\n",
    "    def topKFrequent(self, nums, k):\n",
    "        \"\"\"\n",
    "        :type nums: List[int]\n",
    "        :type k: int\n",
    "        :rtype: List[int]\n",
    "        \"\"\"\n",
    "        freq_nums = {}\n",
    "\n",
    "        for i in range(len(nums)):\n",
    "            freq_nums[nums[i]] = freq_nums.get(nums[i], 0) + 1\n",
    "\n",
    "        freq_nums = map(for items in freq_nums.items() lambda items: sort(items))"
   ]
  },
  {
   "cell_type": "code",
   "execution_count": 42,
   "metadata": {},
   "outputs": [
    {
     "name": "stdout",
     "output_type": "stream",
     "text": [
      "{-1: 2, 2: 2, 4: 1, 1: 1, 3: 1}\n",
      "[-1, 2]\n"
     ]
    }
   ],
   "source": [
    "# top k frequent elements\n",
    "\n",
    "class Solution(object):\n",
    "    def topKFrequent(self, nums, k):\n",
    "        \"\"\"\n",
    "        :type nums: List[int]\n",
    "        :type k: int\n",
    "        :rtype: List[int]\n",
    "        \"\"\"\n",
    "        count = 0\n",
    "        k_frequent = []\n",
    "        freq_nums = {}\n",
    "\n",
    "        for i in range(len(nums)):\n",
    "            freq_nums[nums[i]] = freq_nums.get(nums[i], 0) + 1\n",
    "\n",
    "        pairs = dict(sorted(freq_nums.items(), key = lambda x: x[1], reverse=True))\n",
    "\n",
    "        print(pairs)\n",
    "\n",
    "        for keys in pairs.keys():\n",
    "\n",
    "            k_frequent.append(keys)\n",
    "            count += 1\n",
    "\n",
    "            if count == k:\n",
    "                return k_frequent\n",
    "\n",
    "s = Solution()\n",
    "\n",
    "print(s.topKFrequent([4,1,-1,2,-1,2,3], 2))"
   ]
  },
  {
   "cell_type": "code",
   "execution_count": 31,
   "metadata": {},
   "outputs": [
    {
     "name": "stdout",
     "output_type": "stream",
     "text": [
      "3\n"
     ]
    }
   ],
   "source": [
    "# maximum consecutive ones\n",
    "\n",
    "# arr = [\"1\",\"1\",\"0\",\"1\",\"1\",\"0\",\"1\",\"1\"]\n",
    "arr = [1,1,0,1,1,0,0]\n",
    "# arr = [\"a\",\"a\",\"a\",\"i\",\"b\",\"e\"]\n",
    "start = 0\n",
    "max_len = float(\"-inf\")\n",
    "arr_dict = {}\n",
    "\n",
    "for end in range(len(arr)):\n",
    "    arr_dict[arr[end]] = arr_dict.get(arr[end], 0) + 1\n",
    "\n",
    "    if len(arr_dict) >= 2:\n",
    "        pop_element = arr[start]\n",
    "        arr_dict[pop_element] -= 1\n",
    "\n",
    "        if arr_dict[pop_element] == 0:\n",
    "            del arr_dict[pop_element]\n",
    "        start += 1\n",
    "\n",
    "    max_len = max(max_len, end-start+1)\n",
    "\n",
    "print(max_len)"
   ]
  },
  {
   "cell_type": "code",
   "execution_count": 29,
   "metadata": {},
   "outputs": [
    {
     "name": "stdout",
     "output_type": "stream",
     "text": [
      "3\n"
     ]
    }
   ],
   "source": [
    "# arr = [\"a\",\"a\",\"a\",\"i\",\"b\",\"e\"]\n",
    "arr =[1,1,0,0,1,1,1,0]\n",
    "start = 0\n",
    "# end = 0\n",
    "max_len = float(\"-inf\")\n",
    "freq_dict = {}\n",
    "\n",
    "for end in range(len(arr)):\n",
    "\n",
    "    freq_dict[arr[end]] = freq_dict.get(arr[end], 0) + 1\n",
    "\n",
    "    if len(freq_dict) >= 2:\n",
    "        arr_left = arr[start]\n",
    "        freq_dict[arr_left] -= 1\n",
    "        if freq_dict[arr_left] == 0:\n",
    "            del freq_dict[arr_left]\n",
    "        start += 1\n",
    "        max_len = max(max_len, end-start+1)\n",
    "\n",
    "print(max_len)\n"
   ]
  },
  {
   "cell_type": "code",
   "execution_count": 32,
   "metadata": {},
   "outputs": [
    {
     "name": "stdout",
     "output_type": "stream",
     "text": [
      "3\n"
     ]
    }
   ],
   "source": [
    "\n",
    "arr =[1,1,0,0,1,1,1,0]\n",
    "count = 0\n",
    "max_count = 0\n",
    "for i in range(len(arr)):\n",
    "    if arr[i] == 1:\n",
    "        count += 1\n",
    "    else:\n",
    "        count = 0\n",
    "\n",
    "    max_count = max(count, max_count)\n",
    "\n",
    "print(max)"
   ]
  },
  {
   "cell_type": "code",
   "execution_count": 33,
   "metadata": {},
   "outputs": [
    {
     "name": "stdout",
     "output_type": "stream",
     "text": [
      "2\n"
     ]
    }
   ],
   "source": [
    "# XOR for the number  (Optmial)\n",
    "# TC O(N) and SC O(1)\n",
    "nums = [1,1,2,3,3,4,4]\n",
    "value = 0\n",
    "for num in nums:\n",
    "    value = value ^ num\n",
    "\n",
    "print(value)"
   ]
  },
  {
   "cell_type": "code",
   "execution_count": null,
   "metadata": {},
   "outputs": [],
   "source": [
    "# missing number using hashing TC - O(2N), SC - O(N) (Better) in python\n",
    "\n",
    "nums = [1,1,2,3,3,4,4]\n",
    "num_freq = {}\n",
    "\n",
    "for i in range(len(nums)):\n",
    "    num_freq[num[i]] = num_freq.get(num[i], 0) + 1\n",
    "\n",
    "for key, value in num_freq:\n",
    "    if value == 1:\n",
    "        print(key)\n",
    "\n"
   ]
  },
  {
   "cell_type": "code",
   "execution_count": null,
   "metadata": {},
   "outputs": [],
   "source": [
    "# if hashing in C++ or other language we have to define a hashkey size\n",
    "\n"
   ]
  },
  {
   "cell_type": "code",
   "execution_count": 34,
   "metadata": {},
   "outputs": [
    {
     "name": "stdout",
     "output_type": "stream",
     "text": [
      "2\n"
     ]
    }
   ],
   "source": [
    "# Brute TC - O(N^2), SC - O(1)\n",
    "# check it through out that is an exhaustive search\n",
    "\n",
    "nums = [1,1,2,3,3,4,4]\n",
    "\n",
    "for num in nums:\n",
    "    count = 0\n",
    "    for i in range(len(nums)):\n",
    "        if nums[i] == num:\n",
    "            count += 1\n",
    "\n",
    "    if count == 1:\n",
    "        print (num)\n",
    "\n",
    "\n"
   ]
  },
  {
   "cell_type": "code",
   "execution_count": 38,
   "metadata": {},
   "outputs": [
    {
     "data": {
      "text/plain": [
       "2"
      ]
     },
     "execution_count": 38,
     "metadata": {},
     "output_type": "execute_result"
    }
   ],
   "source": [
    "# hashing using memset idea in pyhton\n",
    "def missing_num(nums):\n",
    "    counts = {num: 0 for num in nums}\n",
    "\n",
    "    for num in nums:\n",
    "        counts[num] += 1\n",
    "\n",
    "    for key, value in counts.items():\n",
    "        if value == 1:\n",
    "            return key\n",
    "\n",
    "\n",
    "missing_num([1,1,2,3,3,4,4])\n"
   ]
  },
  {
   "cell_type": "code",
   "execution_count": 7,
   "metadata": {},
   "outputs": [
    {
     "ename": "KeyError",
     "evalue": "1",
     "output_type": "error",
     "traceback": [
      "\u001b[0;31m---------------------------------------------------------------------------\u001b[0m",
      "\u001b[0;31mKeyError\u001b[0m                                  Traceback (most recent call last)",
      "Cell \u001b[0;32mIn[7], line 51\u001b[0m\n\u001b[1;32m     47\u001b[0m             start \u001b[38;5;241m+\u001b[39m\u001b[38;5;241m=\u001b[39m \u001b[38;5;241m1\u001b[39m\n\u001b[1;32m     49\u001b[0m     \u001b[38;5;28;01mreturn\u001b[39;00m count\n\u001b[0;32m---> 51\u001b[0m \u001b[43msubarraySum\u001b[49m\u001b[43m(\u001b[49m\u001b[43mnums\u001b[49m\u001b[43m,\u001b[49m\u001b[43m \u001b[49m\u001b[43mk\u001b[49m\u001b[43m)\u001b[49m\n",
      "Cell \u001b[0;32mIn[7], line 42\u001b[0m, in \u001b[0;36msubarraySum\u001b[0;34m(nums, k)\u001b[0m\n\u001b[1;32m     40\u001b[0m pop_element \u001b[38;5;241m=\u001b[39m nums[start]\n\u001b[1;32m     41\u001b[0m subarray_sum \u001b[38;5;241m-\u001b[39m\u001b[38;5;241m=\u001b[39m pop_element \n\u001b[0;32m---> 42\u001b[0m \u001b[43mfreq_dict\u001b[49m\u001b[43m[\u001b[49m\u001b[43mpop_element\u001b[49m\u001b[43m]\u001b[49m \u001b[38;5;241m-\u001b[39m\u001b[38;5;241m=\u001b[39m \u001b[38;5;241m1\u001b[39m\n\u001b[1;32m     44\u001b[0m \u001b[38;5;28;01mif\u001b[39;00m freq_dict[pop_element] \u001b[38;5;241m==\u001b[39m \u001b[38;5;241m0\u001b[39m:\n\u001b[1;32m     45\u001b[0m     \u001b[38;5;28;01mdel\u001b[39;00m freq_dict[pop_element]\n",
      "\u001b[0;31mKeyError\u001b[0m: 1"
     ]
    }
   ],
   "source": [
    "# count numbers of subarray with sum k\n",
    "\n",
    "\n",
    "nums = [-1,1,-1,-1]\n",
    "k = 0\n",
    "\n",
    "def subarraySum(nums, k):\n",
    "    freq_dict = {}\n",
    "    start = 0\n",
    "    subarray_sum = 0\n",
    "    count = 0\n",
    "\n",
    "    if  k == 0 and len(nums) == 1 and nums[0] != 0:\n",
    "        return 0\n",
    "\n",
    "    for end in range(len(nums)):\n",
    "        freq_dict[nums[end]] = freq_dict.get(nums[end], 0) + 1\n",
    "        subarray_sum += nums[end]\n",
    "\n",
    "        while subarray_sum >= k:\n",
    "\n",
    "            if subarray_sum == k:\n",
    "                count += 1\n",
    "\n",
    "            pop_element = nums[start]\n",
    "            subarray_sum -= pop_element\n",
    "            freq_dict[pop_element] -= 1\n",
    "\n",
    "            if freq_dict[pop_element] == 0:\n",
    "                del freq_dict[pop_element]\n",
    "\n",
    "            start += 1\n",
    "\n",
    "\n",
    "        while subarray_sum <= k:\n",
    "\n",
    "            if subarray_sum == k:\n",
    "                count += 1\n",
    "\n",
    "            pop_element = nums[start]\n",
    "            subarray_sum -= pop_element\n",
    "            freq_dict[pop_element] -= 1\n",
    "\n",
    "            if freq_dict[pop_element] == 0:\n",
    "                del freq_dict[pop_element]\n",
    "\n",
    "            start += 1\n",
    "\n",
    "    return count\n",
    "\n",
    "subarraySum(nums, k)"
   ]
  },
  {
   "cell_type": "code",
   "execution_count": 34,
   "metadata": {},
   "outputs": [
    {
     "name": "stdout",
     "output_type": "stream",
     "text": [
      "2\n"
     ]
    }
   ],
   "source": [
    "# Brute force longest subarray with sum K\n",
    "\n",
    "# TC approx. O(N^3), because we're using diminsing loops SC O(1)\n",
    "\n",
    "\n",
    "arr = [1,1,1]\n",
    "target = 2\n",
    "count = 0\n",
    "max_len = 0\n",
    "\n",
    "for i in range(len(arr)):\n",
    "\n",
    "    for j in range(i, len(arr)):\n",
    "        s = 0\n",
    "\n",
    "        # include the j-th element\n",
    "        for k in range(i, j+1):\n",
    "            s += arr[k]\n",
    "\n",
    "        if s == target:\n",
    "            count += 1\n",
    "            # max_len = max(max_len, j-i+1)\n",
    "\n",
    "print(count)\n",
    "\n"
   ]
  },
  {
   "cell_type": "code",
   "execution_count": 22,
   "metadata": {},
   "outputs": [
    {
     "name": "stdout",
     "output_type": "stream",
     "text": [
      "55\n"
     ]
    }
   ],
   "source": [
    "# Brute force count of subarray with sum K\n",
    "\n",
    "# TC ~ O(N^2), SC -> O(1)\n",
    "\n",
    "# arr = [1,1,1,1,1,1,4,2,3]\n",
    "# arr = [1,2,3]\n",
    "# arr = [1,1,1,1]\n",
    "arr = [0,0,0,0,0,0,0,0,0,0]\n",
    "count = 0\n",
    "target = 0\n",
    "# max_len = 0\n",
    "\n",
    "for i in range(len(arr)):\n",
    "\n",
    "    s = 0\n",
    "\n",
    "    for j in range(i, len(arr)):\n",
    "\n",
    "        s += arr[j]\n",
    "\n",
    "        if s == target:\n",
    "            count += 1\n",
    "            # max_len = max(max_len, j-i+1)\n",
    "\n",
    "print(count)\n",
    "\n"
   ]
  },
  {
   "cell_type": "code",
   "execution_count": 47,
   "metadata": {},
   "outputs": [
    {
     "name": "stdout",
     "output_type": "stream",
     "text": [
      "5\n"
     ]
    }
   ],
   "source": [
    "# better solution is hashing, prefix sum problem\n",
    "# Brute force longest subarray with sum K\n",
    "# hashing remainder by subtraction\n",
    "\n",
    "# arr = [0,0,0,0,0,0,0,0,0,0]\n",
    "arr  = [1,1,1,1]\n",
    "k = 2\n",
    "count = 0\n",
    "Sum = 0\n",
    "maxlen = 0\n",
    "preSumMap = {}\n",
    "\n",
    "for i in range(len(arr)):\n",
    "\n",
    "    Sum += arr[i]\n",
    "\n",
    "    if Sum == k:\n",
    "        count += 1\n",
    "        maxlen = max(maxlen, i + 1)\n",
    "\n",
    "    rem = Sum - k\n",
    "\n",
    "    if rem in preSumMap:\n",
    "        count += i - preSumMap[rem]\n",
    "        length = i - preSumMap[rem]\n",
    "        maxlen = max(maxlen, length)\n",
    "\n",
    "    if Sum not in preSumMap:\n",
    "        preSumMap[Sum] = i\n",
    "\n",
    "\n",
    "print(count)\n",
    "\n",
    "\n",
    "\n"
   ]
  },
  {
   "cell_type": "code",
   "execution_count": 5,
   "metadata": {},
   "outputs": [
    {
     "name": "stdout",
     "output_type": "stream",
     "text": [
      "0\n",
      "1\n",
      "2\n",
      "3\n",
      "4\n",
      "4\n",
      "6\n",
      "6\n",
      "6\n",
      "8\n",
      "defaultdict(<class 'int'>, {0: 1, -2: 0, 1: 1, 3: 2, 6: 2, 4: 1, 2: 0, 5: 1, 7: 0, 10: 1, 9: 1, 12: 1})\n",
      "\n",
      "8\n"
     ]
    }
   ],
   "source": [
    "from collections import defaultdict\n",
    "\n",
    "# arr = [0,0,0,0,0,0,0,0,0,0]\n",
    "arr  = [1,2,3,-3,1,1,1,4,2,-3]\n",
    "k = 3\n",
    "preSumMap = defaultdict(int)\n",
    "preSumMap[0] = 1\n",
    "preSum = 0\n",
    "count = 0\n",
    "\n",
    "for i in range(len(arr)):\n",
    "    preSum += arr[i]\n",
    "    rem = preSum - k\n",
    "    count  += preSumMap[rem]\n",
    "    print(count)\n",
    "    preSumMap[preSum] += 1\n",
    "\n",
    "print(preSumMap)\n",
    "print()\n",
    "print(count)"
   ]
  },
  {
   "cell_type": "code",
   "execution_count": 9,
   "metadata": {},
   "outputs": [
    {
     "name": "stdout",
     "output_type": "stream",
     "text": [
      "8\n",
      "{0: 1, 1: 1, 3: 2, 6: 2, 4: 1, 5: 1, 10: 1, 12: 1, 9: 1}\n"
     ]
    }
   ],
   "source": [
    "prefixSum = 0\n",
    "nums  = [1,2,3,-3,1,1,1,4,2,-3]\n",
    "hashmap = {0: 1}\n",
    "count = 0\n",
    "\n",
    "for i in range(len(nums)):\n",
    "    prefixSum += nums[i]\n",
    "    rem = prefixSum - k\n",
    "\n",
    "    if rem in hashmap:\n",
    "        count += hashmap[rem]\n",
    "\n",
    "    if prefixSum not in hashmap:\n",
    "        hashmap[prefixSum] = 0\n",
    "\n",
    "    hashmap[prefixSum] += 1\n",
    "\n",
    "print(count)\n",
    "print(hashmap)"
   ]
  },
  {
   "cell_type": "code",
   "execution_count": 29,
   "metadata": {},
   "outputs": [
    {
     "name": "stdout",
     "output_type": "stream",
     "text": [
      "[0, 1]\n"
     ]
    }
   ],
   "source": [
    "# nums = [2,2]\n",
    "\n",
    "\n",
    "class Solution:\n",
    "\n",
    "    def searchRange(self, nums, target):\n",
    "        left  = 0\n",
    "        right = len(nums) - 1\n",
    "        position = []\n",
    "\n",
    "        if len(nums) == 1 and target == nums[0]:\n",
    "            return [0, 0]\n",
    "\n",
    "        while left <= right:\n",
    "            mid = (left + right) // 2\n",
    "\n",
    "            if target == nums[mid]:\n",
    "\n",
    "                position.append(mid)\n",
    "\n",
    "                if nums[mid+1] == target:\n",
    "                    position.append(mid+1)\n",
    "\n",
    "                elif nums[mid-1] == target:\n",
    "                    position.append(mid-1)\n",
    "\n",
    "                return position\n",
    "\n",
    "            elif nums[mid] > target:\n",
    "                right = mid - 1\n",
    "\n",
    "            else:\n",
    "                left = mid + 1\n",
    "\n",
    "        # if position:\n",
    "        #     return position\n",
    "\n",
    "        return [-1,-1]\n",
    "\n",
    "s = Solution()\n",
    "nums = [2,2]\n",
    "target = 2\n",
    "print(s.searchRange(nums, target))\n"
   ]
  },
  {
   "cell_type": "code",
   "execution_count": 55,
   "metadata": {},
   "outputs": [
    {
     "ename": "KeyboardInterrupt",
     "evalue": "",
     "output_type": "error",
     "traceback": [
      "\u001b[0;31m---------------------------------------------------------------------------\u001b[0m",
      "\u001b[0;31mKeyboardInterrupt\u001b[0m                         Traceback (most recent call last)",
      "Cell \u001b[0;32mIn[55], line 44\u001b[0m\n\u001b[1;32m     42\u001b[0m nums \u001b[38;5;241m=\u001b[39m [\u001b[38;5;241m5\u001b[39m,\u001b[38;5;241m7\u001b[39m,\u001b[38;5;241m8\u001b[39m,\u001b[38;5;241m8\u001b[39m]\n\u001b[1;32m     43\u001b[0m target \u001b[38;5;241m=\u001b[39m \u001b[38;5;241m8\u001b[39m\n\u001b[0;32m---> 44\u001b[0m \u001b[38;5;28mprint\u001b[39m(\u001b[43ms\u001b[49m\u001b[38;5;241;43m.\u001b[39;49m\u001b[43msearchRange\u001b[49m\u001b[43m(\u001b[49m\u001b[43mnums\u001b[49m\u001b[43m,\u001b[49m\u001b[43m \u001b[49m\u001b[43mtarget\u001b[49m\u001b[43m)\u001b[49m)\n",
      "Cell \u001b[0;32mIn[55], line 8\u001b[0m, in \u001b[0;36mSolution.searchRange\u001b[0;34m(self, nums, target)\u001b[0m\n\u001b[1;32m      5\u001b[0m right \u001b[38;5;241m=\u001b[39m \u001b[38;5;28mlen\u001b[39m(nums) \u001b[38;5;241m-\u001b[39m \u001b[38;5;241m1\u001b[39m\n\u001b[1;32m      6\u001b[0m position \u001b[38;5;241m=\u001b[39m []\n\u001b[0;32m----> 8\u001b[0m \u001b[38;5;28;01mwhile\u001b[39;00m left \u001b[38;5;241m<\u001b[39m\u001b[38;5;241m=\u001b[39m right:\n\u001b[1;32m      9\u001b[0m     mid \u001b[38;5;241m=\u001b[39m (left \u001b[38;5;241m+\u001b[39m right) \u001b[38;5;241m/\u001b[39m\u001b[38;5;241m/\u001b[39m \u001b[38;5;241m2\u001b[39m\n\u001b[1;32m     11\u001b[0m     \u001b[38;5;28;01mif\u001b[39;00m target \u001b[38;5;241m==\u001b[39m nums[mid]:\n",
      "\u001b[0;31mKeyboardInterrupt\u001b[0m: "
     ]
    }
   ],
   "source": [
    "class Solution:\n",
    "\n",
    "    def searchRange(self, nums, target):\n",
    "        left  = 0\n",
    "        right = len(nums) - 1\n",
    "        position = []\n",
    "\n",
    "        while left <= right:\n",
    "            mid = (left + right) // 2\n",
    "\n",
    "            if target == nums[mid]:\n",
    "\n",
    "                if nums[mid-1]:\n",
    "                    if nums[mid-1] == target:\n",
    "                        position.append(mid-1)\n",
    "                        position.append(mid)\n",
    "                        return position\n",
    "\n",
    "                elif nums[mid+1]:\n",
    "                    if nums[mid+1] == target:\n",
    "                        position.append(mid)\n",
    "                        position.append(mid+1)\n",
    "                        return position\n",
    "\n",
    "                else:\n",
    "                    position.append(mid)\n",
    "                    position.append(mid)\n",
    "                    return position\n",
    "\n",
    "            elif nums[mid] > target:\n",
    "                right = mid - 1\n",
    "\n",
    "            else:\n",
    "                left = mid + 1\n",
    "\n",
    "        # if position:\n",
    "        #     return position\n",
    "\n",
    "        return [-1,-1]\n",
    "\n",
    "s = Solution()\n",
    "nums = [5,7,8,8]\n",
    "target = 8\n",
    "print(s.searchRange(nums, target))\n"
   ]
  },
  {
   "cell_type": "code",
   "execution_count": 1,
   "metadata": {},
   "outputs": [
    {
     "name": "stdout",
     "output_type": "stream",
     "text": [
      "{2: 0}\n",
      "{2: 0, 6: 1}\n",
      "{2: 0, 6: 1, 5: 2}\n"
     ]
    },
    {
     "data": {
      "text/plain": [
       "[1, 3]"
      ]
     },
     "execution_count": 1,
     "metadata": {},
     "output_type": "execute_result"
    }
   ],
   "source": [
    "# O(N) solution because check, update, and add in hasmap has O(1) complexity  in python\n",
    "# SC O(N)\n",
    "\n",
    "arr = [2,6,5,8,11]\n",
    "target = 14\n",
    "def two_sum(arr, target):\n",
    "    preSumMap = {}\n",
    "    prefixSum = 0\n",
    "\n",
    "    for i in range(len(arr)):\n",
    "        prefixSum = arr[i]\n",
    "\n",
    "        rem = target - prefixSum\n",
    "\n",
    "        if rem in preSumMap:\n",
    "            return [preSumMap[rem], i]\n",
    "\n",
    "        if prefixSum not in preSumMap:\n",
    "            preSumMap[prefixSum] = 0\n",
    "\n",
    "        preSumMap[prefixSum] = i\n",
    "        print(preSumMap)\n",
    "    return -1\n",
    "\n",
    "two_sum(arr, target)\n",
    "target = 14\n",
    "def two_sum(arr, target):\n",
    "    preSumMap = {}\n",
    "    prefixSum = 0\n",
    "\n",
    "    for i in range(len(arr)):\n",
    "        prefixSum = arr[i]\n",
    "\n",
    "        rem = target - prefixSum\n",
    "\n",
    "        if rem in preSumMap:\n",
    "            return [preSumMap[rem], i]\n",
    "\n",
    "        if prefixSum not in preSumMap:\n",
    "            preSumMap[prefixSum] = 0\n",
    "\n",
    "        preSumMap[prefixSum] = i\n",
    "        print(preSumMap)\n",
    "    return -1\n",
    "\n",
    "two_sum(arr, target)\n",
    "\n"
   ]
  },
  {
   "cell_type": "code",
   "execution_count": 68,
   "metadata": {},
   "outputs": [
    {
     "data": {
      "text/plain": [
       "(0, 1)"
      ]
     },
     "execution_count": 68,
     "metadata": {},
     "output_type": "execute_result"
    }
   ],
   "source": [
    "# O(N^2) solution of two-sum problem\n",
    "# brute force solution\n",
    "\n",
    "arr = [2,2]\n",
    "target = 4\n",
    "\n",
    "def two_sum(arr, target):\n",
    "    for i in range(len(arr)):\n",
    "\n",
    "        for j in range(i+1, len(arr)):\n",
    "            total = arr[i]\n",
    "            # if j != i:\n",
    "            total += arr[j]\n",
    "\n",
    "            if total == target:\n",
    "                return (i,j)\n",
    "\n",
    "    return -1\n",
    "\n",
    "two_sum(arr, target)\n",
    "\n"
   ]
  },
  {
   "cell_type": "code",
   "execution_count": null,
   "metadata": {},
   "outputs": [],
   "source": [
    "# two sum problem, greedy approach - two pointer\n",
    "#\n",
    "\n",
    "left = 0\n",
    "right = len(nums) - 1\n",
    "\n",
    "while left <= right:\n",
    "    # return yes or no is solvable\n",
    "    pass"
   ]
  },
  {
   "cell_type": "code",
   "execution_count": 10,
   "metadata": {},
   "outputs": [
    {
     "data": {
      "text/plain": [
       "True"
      ]
     },
     "execution_count": 10,
     "metadata": {},
     "output_type": "execute_result"
    }
   ],
   "source": [
    "\n",
    "# time complexity on average will be O(log(N)). However, if we've alot of duplicates then the time complexity\n",
    "# maybe O(n/2) because we've to trim done half the elements\n",
    "\n",
    "def search(nums, target):\n",
    "    left = 0\n",
    "    right = len(nums) - 1\n",
    "\n",
    "    while left <= right:\n",
    "\n",
    "        mid = (left + right) // 2\n",
    "\n",
    "        if nums[mid] == target:\n",
    "            return True\n",
    "\n",
    "        # all duplicates\n",
    "        elif nums[left] == nums[mid] == nums[right]:\n",
    "            left = left + 1\n",
    "            right = right - 1\n",
    "\n",
    "        # left sorted\n",
    "        elif nums[left] <= nums[mid]:\n",
    "            if nums[left] <= target <= nums[mid]:\n",
    "                right = mid - 1\n",
    "            else:\n",
    "                left = mid + 1\n",
    "\n",
    "        # right sorted\n",
    "        elif nums[mid] <= nums[right]:\n",
    "            if nums[mid] <= target <= nums[right]:\n",
    "                left = mid + 1\n",
    "            else:\n",
    "                right = mid - 1\n",
    "\n",
    "    return False\n",
    "\n",
    "search([1,0,1,1,1], 0)"
   ]
  },
  {
   "cell_type": "code",
   "execution_count": 8,
   "metadata": {},
   "outputs": [
    {
     "name": "stdout",
     "output_type": "stream",
     "text": [
      "Target is present in the array.\n"
     ]
    }
   ],
   "source": [
    "\n",
    "from typing import *\n",
    "def searchInARotatedSortedArrayII(arr : List[int], k : int) -> bool:\n",
    "    n = len(arr)  # size of the array\n",
    "    low, high = 0, n - 1\n",
    "\n",
    "    while low <= high:\n",
    "        mid = (low + high) // 2\n",
    "\n",
    "        # if mid points to the target\n",
    "        if arr[mid] == k:\n",
    "            return True\n",
    "\n",
    "        # Edge case:\n",
    "        if arr[low] == arr[mid] and arr[mid] == arr[high]:\n",
    "            low += 1\n",
    "            high -= 1\n",
    "            continue\n",
    "\n",
    "        # if left part is sorted\n",
    "        if arr[low] <= arr[mid]:\n",
    "            if arr[low] <= k <= arr[mid]:\n",
    "                # element exists\n",
    "                high = mid - 1\n",
    "            else:\n",
    "                # element does not exist\n",
    "                low = mid + 1\n",
    "        else:  # if right part is sorted\n",
    "            if arr[mid] <= k <= arr[high]:\n",
    "                # element exists\n",
    "                low = mid + 1\n",
    "            else:\n",
    "                # element does not exist\n",
    "                high = mid - 1\n",
    "\n",
    "    return False\n",
    "\n",
    "if __name__ == \"__main__\":\n",
    "    arr = [1,0,1,1,1]\n",
    "    k = 0\n",
    "    ans = searchInARotatedSortedArrayII(arr, k)\n",
    "    if not ans:\n",
    "        print(\"Target is not present.\")\n",
    "    else:\n",
    "        print(\"Target is present in the array.\")\n",
    "\n",
    "\n"
   ]
  },
  {
   "cell_type": "code",
   "execution_count": 15,
   "metadata": {},
   "outputs": [
    {
     "ename": "TypeError",
     "evalue": "reverseStr() missing 1 required positional argument: 's'",
     "output_type": "error",
     "traceback": [
      "\u001b[0;31m---------------------------------------------------------------------------\u001b[0m",
      "\u001b[0;31mTypeError\u001b[0m                                 Traceback (most recent call last)",
      "Cell \u001b[0;32mIn[15], line 10\u001b[0m\n\u001b[1;32m      7\u001b[0m s \u001b[38;5;241m=\u001b[39m \u001b[38;5;124m\"\u001b[39m\u001b[38;5;124mabcdefg\u001b[39m\u001b[38;5;124m\"\u001b[39m\n\u001b[1;32m      8\u001b[0m \u001b[38;5;66;03m# k = 2\u001b[39;00m\n\u001b[0;32m---> 10\u001b[0m \u001b[43mreverseStr\u001b[49m\u001b[43m(\u001b[49m\u001b[43ms\u001b[49m\u001b[43m,\u001b[49m\u001b[43mk\u001b[49m\u001b[38;5;241;43m=\u001b[39;49m\u001b[38;5;241;43m2\u001b[39;49m\u001b[43m)\u001b[49m\n",
      "\u001b[0;31mTypeError\u001b[0m: reverseStr() missing 1 required positional argument: 's'"
     ]
    }
   ],
   "source": [
    "def reverseStr(self, s: str, k: int) -> str:\n",
    "    first_k = \"\".join(reversed(s[:k]))\n",
    "    second_k = s[k:]\n",
    "    reverse = first_k + second_k\n",
    "    return reverse\n",
    "\n",
    "s = \"abcdefg\"\n",
    "# k = 2\n",
    "\n",
    "reverseStr(s,k=2)"
   ]
  },
  {
   "cell_type": "code",
   "execution_count": 13,
   "metadata": {},
   "outputs": [
    {
     "name": "stdout",
     "output_type": "stream",
     "text": [
      "bacdefg\n",
      "cdefg\n"
     ]
    }
   ],
   "source": [
    "s = \"abcdefg\"\n",
    "first = s[k-1::-1]\n",
    "second = s[k:]\n",
    "\n",
    "print(first + second)\n",
    "print(second)"
   ]
  },
  {
   "cell_type": "code",
   "execution_count": 16,
   "metadata": {},
   "outputs": [
    {
     "name": "stdout",
     "output_type": "stream",
     "text": [
      "bacdefg\n"
     ]
    }
   ],
   "source": [
    "first_k = \"\".join(reversed(s[:k]))\n",
    "second_k = s[k:]\n",
    "reverse = first_k + second_k\n",
    "print(reverse)"
   ]
  },
  {
   "cell_type": "code",
   "execution_count": 37,
   "metadata": {},
   "outputs": [
    {
     "name": "stdout",
     "output_type": "stream",
     "text": [
      "Counter({'a': 4, 'e': 2, 'd': 2, 't': 1, 'r': 1, 'l': 1, 'p': 1})\n",
      "defaultdict(<class 'list'>, {1: ['t', 'r', 'l', 'p'], 2: ['e', 'd'], 4: ['a']})\n"
     ]
    }
   ],
   "source": [
    "from collections import Counter, defaultdict\n",
    "\n",
    "default_counter = defaultdict(list)\n",
    "\n",
    "counter = Counter(s)\n",
    "print(counter)\n",
    "\n",
    "freq_dict = {}\n",
    "for i in range(len(s)):\n",
    "    freq_dict[s[i]] = freq_dict.get(s[i], 0) + 1\n",
    "\n",
    "sorted_dict = (sorted(freq_dict.items(), key = lambda x: x[1], reverse=True))\n",
    "\n",
    "for key, value in freq_dict.items():\n",
    "    default_counter[value].append(key)\n",
    "\n",
    "\n",
    "print(default_counter)\n",
    "\n",
    "\n",
    "# print(sorted_dict)\n"
   ]
  },
  {
   "cell_type": "code",
   "execution_count": 69,
   "metadata": {},
   "outputs": [
    {
     "data": {
      "text/plain": [
       "2"
      ]
     },
     "execution_count": 69,
     "metadata": {},
     "output_type": "execute_result"
    }
   ],
   "source": [
    "# third max number\n",
    "\n",
    "def thirdMax(nums):\n",
    "    if len(nums) == 1:\n",
    "        return nums[0]\n",
    "    i = 0\n",
    "    maximum = nums[0]\n",
    "    sec_max = nums[0]\n",
    "    th_max = nums[0]\n",
    "\n",
    "    while i < len(nums):\n",
    "\n",
    "        if nums[i] >= maximum >= sec_max >= th_max:\n",
    "            th_max = sec_max\n",
    "            sec_max = maximum\n",
    "            maximum = max(maximum, nums[i])\n",
    "            i += 1\n",
    "\n",
    "        elif  maximum >= nums[i] >= sec_max >= th_max:\n",
    "            th_max = sec_max\n",
    "            sec_max = nums[i]\n",
    "            i += 1\n",
    "\n",
    "        elif sec_max == th_max:\n",
    "            if nums[i] <= th_max:\n",
    "                th_max = nums[i]\n",
    "            i += 1\n",
    "\n",
    "        elif maximum >= sec_max >= nums[i] >= th_max:\n",
    "            th_max = nums[i]\n",
    "            i += 1\n",
    "\n",
    "\n",
    "        else:\n",
    "            i += 1\n",
    "\n",
    "    return th_max\n",
    "\n",
    "thirdMax([3,2,1])"
   ]
  },
  {
   "cell_type": "code",
   "execution_count": 14,
   "metadata": {},
   "outputs": [
    {
     "data": {
      "text/plain": [
       "[0, 0, 0, 1, 1, 1, 1, 1, 2, 2, 2, 2, 2]"
      ]
     },
     "execution_count": 14,
     "metadata": {},
     "output_type": "execute_result"
    }
   ],
   "source": [
    "# dutch flag algorithm\n",
    "\n",
    "def color_flag(nums):\n",
    "    low = 0\n",
    "    mid = 0\n",
    "    high = len(nums) - 1\n",
    "\n",
    "    while mid <= high:\n",
    "\n",
    "        if nums[mid] == 0:\n",
    "            nums[low], nums[mid] = nums[mid], nums[low]\n",
    "            mid += 1\n",
    "            low += 1\n",
    "\n",
    "        elif nums[mid] == 1:\n",
    "            mid += 1\n",
    "\n",
    "        else:\n",
    "            nums[mid], nums[high] = nums[high], nums[mid]\n",
    "            high -= 1\n",
    "\n",
    "    return nums\n",
    "\n",
    "nums = [0,1,2,0,1,1,1,1,2,0,2,2,2]\n",
    "\n",
    "color_flag(nums)"
   ]
  },
  {
   "cell_type": "code",
   "execution_count": 19,
   "metadata": {},
   "outputs": [
    {
     "name": "stdout",
     "output_type": "stream",
     "text": [
      "1\n",
      "-1\n"
     ]
    }
   ],
   "source": [
    "# Moore's voting algorithm\n",
    "# TC O(N), SC O(1)\n",
    "\n",
    "nums = [7,7,7,7,7,2,1,1,3,5,6,3,2,1,1,1,1,7,3,2,1,1,1,2,7,7,1,1,1,1,1,1,1,1,1,1]\n",
    "count = 0\n",
    "\n",
    "for i in range(len(nums)):\n",
    "    if count == 0:\n",
    "        count = 1\n",
    "        element = nums[i]\n",
    "\n",
    "    elif element == nums[i]:\n",
    "        count += 1\n",
    "\n",
    "    else:\n",
    "        count -= 1\n",
    "\n",
    "count1 = 0\n",
    "for i in range(len(nums)):\n",
    "    if nums[i] == element:\n",
    "        count1 += 1\n",
    "\n",
    "if count1 > (len(nums) // 2):\n",
    "    print(element)\n",
    "\n",
    "print(-1)"
   ]
  },
  {
   "cell_type": "code",
   "execution_count": 44,
   "metadata": {},
   "outputs": [
    {
     "name": "stdout",
     "output_type": "stream",
     "text": [
      "-1\n"
     ]
    }
   ],
   "source": [
    "# Kadane's Algorithms\n",
    "# for +ve values only\n",
    "\n",
    "nums = [-2,-9, -1]\n",
    "\n",
    "maximum = float(\"-inf\")\n",
    "Sum = 0\n",
    "\n",
    "for i in range(len(nums)):\n",
    "    Sum += nums[i]\n",
    "\n",
    "    if Sum < 0:\n",
    "        if nums[i] >= Sum:\n",
    "            Sum = nums[i]\n",
    "            maximum = max(Sum, maximum)\n",
    "\n",
    "    elif Sum > 0:\n",
    "        maximum = max(Sum, maximum)\n",
    "\n",
    "print (maximum)"
   ]
  },
  {
   "cell_type": "code",
   "execution_count": null,
   "metadata": {},
   "outputs": [],
   "source": [
    "# Kadane's Algorithm for -ve values only"
   ]
  }
 ],
 "metadata": {
  "kernelspec": {
   "display_name": "base",
   "language": "python",
   "name": "python3"
  },
  "language_info": {
   "codemirror_mode": {
    "name": "ipython",
    "version": 3
   },
   "file_extension": ".py",
   "mimetype": "text/x-python",
   "name": "python",
   "nbconvert_exporter": "python",
   "pygments_lexer": "ipython3",
   "version": "3.12.4"
  }
 },
 "nbformat": 4,
 "nbformat_minor": 2
}
