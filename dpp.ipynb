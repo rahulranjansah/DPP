{
 "cells": [
  {
   "cell_type": "code",
   "execution_count": 2,
   "metadata": {},
   "outputs": [],
   "source": [
    "haystack = \"sadbutsad\"\n",
    "needle = \"sad\""
   ]
  },
  {
   "cell_type": "code",
   "execution_count": 8,
   "metadata": {},
   "outputs": [
    {
     "data": {
      "text/plain": [
       "0"
      ]
     },
     "execution_count": 8,
     "metadata": {},
     "output_type": "execute_result"
    }
   ],
   "source": [
    "haystack.index(\"s\")"
   ]
  },
  {
   "cell_type": "code",
   "execution_count": 9,
   "metadata": {},
   "outputs": [
    {
     "data": {
      "text/plain": [
       "'dbu'"
      ]
     },
     "execution_count": 9,
     "metadata": {},
     "output_type": "execute_result"
    }
   ],
   "source": [
    "haystack[2:5]"
   ]
  },
  {
   "cell_type": "code",
   "execution_count": 7,
   "metadata": {},
   "outputs": [
    {
     "name": "stdout",
     "output_type": "stream",
     "text": [
      "s\n",
      "0\n",
      "a\n",
      "1\n",
      "d\n",
      "2\n",
      "b\n",
      "3\n",
      "u\n",
      "4\n",
      "t\n",
      "5\n",
      "s\n",
      "6\n",
      "a\n",
      "7\n",
      "d\n",
      "8\n"
     ]
    }
   ],
   "source": [
    "for index, char in enumerate(haystack):\n",
    "    # index = haystack.index(char)\n",
    "    print(char)\n",
    "    print(index)"
   ]
  },
  {
   "cell_type": "code",
   "execution_count": 90,
   "metadata": {},
   "outputs": [
    {
     "name": "stdout",
     "output_type": "stream",
     "text": [
      "flow\n"
     ]
    }
   ],
   "source": [
    "string = [\"flower\",\"flow\", \"flight\"]\n",
    "# minimum = \"a\" * 200\n",
    "# for word in string:\n",
    "#     if len(word) < len(minimum):\n",
    "#         minimum = word\n",
    "# print(minimum)\n",
    "minimum = min(string, key=len)\n",
    "print(minimum)\n"
   ]
  },
  {
   "cell_type": "code",
   "execution_count": 106,
   "metadata": {},
   "outputs": [
    {
     "name": "stdout",
     "output_type": "stream",
     "text": [
      "fl\n"
     ]
    }
   ],
   "source": [
    "# check\n",
    "dic = {'flow': 2, 'flig': 1, 'flo': 2, 'fli': 1, 'fl': 3, 'f': 3}\n",
    "possible_prefix = []\n",
    "max_val = max(dic.values())\n",
    "\n",
    "for k, v in dic.items():\n",
    "    if v == max_val:\n",
    "        possible_prefix.append(k)\n",
    "\n",
    "final_prefix = max(possible_prefix, key=len)\n",
    "\n",
    "print(final_prefix)"
   ]
  },
  {
   "cell_type": "code",
   "execution_count": 120,
   "metadata": {},
   "outputs": [
    {
     "name": "stdout",
     "output_type": "stream",
     "text": [
      "\n"
     ]
    }
   ],
   "source": [
    "strs = [\"\"]\n",
    "all_prefix_counter = {}\n",
    "prefix = []\n",
    "minimum = min(strs, key=len)\n",
    "prefix_length = len(minimum)\n",
    "while prefix_length != 0:\n",
    "    for word in strs:\n",
    "        root = \"\"\n",
    "        root += word[:prefix_length]\n",
    "        prefix.append(root)\n",
    "        all_prefix_counter[root] = all_prefix_counter.get(root, 0) + 1\n",
    "\n",
    "    prefix_length -= 1\n",
    "\n",
    "possible_prefix = []\n",
    "if all_prefix_counter:\n",
    "    maximum = max(all_prefix_counter.values())\n",
    "if maximum == len(strs):\n",
    "    for k,v in all_prefix_counter.items():\n",
    "        if v == maximum:\n",
    "            possible_prefix.append(k)\n",
    "if possible_prefix:\n",
    "    final_prefix = max(possible_prefix, key=len)\n",
    "    print (final_prefix)\n",
    "else:\n",
    "    print(\"\")\n",
    "\n",
    "# print(final_prefix)\n",
    "# print(all_prefix_counter)\n",
    "# print(prefix)\n"
   ]
  },
  {
   "cell_type": "code",
   "execution_count": 66,
   "metadata": {},
   "outputs": [
    {
     "name": "stdout",
     "output_type": "stream",
     "text": [
      "flow\n"
     ]
    }
   ],
   "source": [
    "string = [\"flower\",\"flow\",\"flight\"]\n",
    "minimum_word = min(string, key=len)\n",
    "\n",
    "\n",
    "# string = [\"racecar\", \"dog\", \"car\"]\n",
    "count = {}\n",
    "prefix = []\n",
    "for word in string:\n",
    "    root = \"\"\n",
    "    root += word[:len(minimum_word)]\n",
    "    prefix.append(root)\n",
    "\n",
    "    count[root] = count.get(root, 0) + 1\n",
    "\n",
    "maximum = max(count.values())\n",
    "\n",
    "if maximum == len(string):\n",
    "    print (f\"{prefix[0]}\")\n",
    "else:\n",
    "    print (\"empty\")\n",
    "# if string[]"
   ]
  },
  {
   "cell_type": "code",
   "execution_count": 88,
   "metadata": {},
   "outputs": [
    {
     "name": "stdout",
     "output_type": "stream",
     "text": [
      "\n"
     ]
    }
   ],
   "source": [
    "import os\n",
    "\n",
    "string = [\"flower\",\"flow\", \"dfo\"]\n",
    "common_prefix = os.path.commonprefix(string)\n",
    "print(common_prefix)"
   ]
  },
  {
   "cell_type": "code",
   "execution_count": 114,
   "metadata": {},
   "outputs": [
    {
     "name": "stdout",
     "output_type": "stream",
     "text": [
      "False\n"
     ]
    }
   ],
   "source": [
    "my_list = []\n",
    "if my_list:\n",
    "    print(True)\n",
    "else:\n",
    "    print(False)"
   ]
  },
  {
   "cell_type": "code",
   "execution_count": 70,
   "metadata": {},
   "outputs": [
    {
     "name": "stdout",
     "output_type": "stream",
     "text": [
      "fl\n"
     ]
    }
   ],
   "source": [
    "string = [\"flower\",\"flow\", \"flight\"]\n",
    "minimum_word = min(string, key=len)\n",
    "\n",
    "# string = [\"racecar\", \"dog\", \"car\"]\n",
    "count = {}\n",
    "prefix = []\n",
    "for word in string:\n",
    "    root = \"\"\n",
    "    root += word[:2]\n",
    "    # single_root +=\n",
    "    prefix.append(root)\n",
    "\n",
    "    count[root] = count.get(root, 0) + 1\n",
    "\n",
    "maximum = max(count.values())\n",
    "\n",
    "if maximum == len(string):\n",
    "    print (f\"{prefix[0]}\")\n",
    "else:\n",
    "    print (\"empty\")\n",
    "# if string[]\n",
    "\n",
    "# print (prefix)\n",
    "# for word in string[]:\n",
    "#     count[word] = count.get(word, 0) + 1\n",
    "# print (count)"
   ]
  },
  {
   "cell_type": "code",
   "execution_count": 161,
   "metadata": {},
   "outputs": [],
   "source": [
    "string = [\"flower\",\"flow\", \"flight\"]\n",
    "string = sorted(string)\n",
    "# print(string)"
   ]
  },
  {
   "cell_type": "code",
   "execution_count": 162,
   "metadata": {},
   "outputs": [],
   "source": [
    "first = string[0]\n",
    "last = string[-1]\n",
    "ans = \"\""
   ]
  },
  {
   "cell_type": "code",
   "execution_count": 166,
   "metadata": {},
   "outputs": [
    {
     "name": "stdout",
     "output_type": "stream",
     "text": [
      "fl\n"
     ]
    }
   ],
   "source": [
    "string = [\"flower\",\"flow\", \"flight\"]\n",
    "string = sorted(string)\n",
    "\n",
    "first = string[0]\n",
    "last = string[-1]\n",
    "ans = \"\"\n",
    "\n",
    "for i in range(min(len(first), len(last))):\n",
    "\n",
    "    if (first[i] != last[i]):\n",
    "        break\n",
    "\n",
    "    else:\n",
    "        ans += first[i]\n",
    "\n",
    "print(ans)\n"
   ]
  },
  {
   "cell_type": "markdown",
   "metadata": {},
   "source": [
    "# problem 1: two sum"
   ]
  },
  {
   "cell_type": "code",
   "execution_count": 56,
   "metadata": {},
   "outputs": [
    {
     "data": {
      "text/plain": [
       "[0, 0]"
      ]
     },
     "execution_count": 56,
     "metadata": {},
     "output_type": "execute_result"
    }
   ],
   "source": [
    "\n",
    "def two_sum(nums, target):\n",
    "    i = 0\n",
    "    j = len(nums) - 1\n",
    "    nums_sort = sorted(nums)\n",
    "    pairs = {}\n",
    "    for k, num in enumerate(nums):\n",
    "        if num in pairs:\n",
    "            pairs[num].append(k)\n",
    "        else:\n",
    "            pairs[num] = [k]\n",
    "\n",
    "    while i < j:\n",
    "\n",
    "        if nums_sort[i] + nums_sort[j] == target:\n",
    "            first, second = nums_sort[i], nums_sort[j]\n",
    "            if len(pairs[first]) >= 3:\n",
    "                return pairs[first][0]\n",
    "            else:\n",
    "                return [pairs[first][0], pairs[second][0]]\n",
    "        elif nums[i] + nums[j] > target:\n",
    "            j -= 1\n",
    "\n",
    "        elif nums[i] + nums[j] < target:\n",
    "            i += 1\n",
    "\n",
    "# two_sum([2,7,11,15], 9)\n",
    "# two_sum([3,2,4], 6)\n",
    "two_sum([3,3], 6)\n",
    "# two_sum([0, 2, 4, 5], 5)\n",
    "# assert two_sum([2,7,11,15], 9) == [0, 1], \"Test case 1 failed\"\n",
    "# assert two_sum([3,2,4], 6) == [1, 2], \"Test case 2 failed\"\n",
    "# assert two_sum([3,3], 6) == [0, 1], \"Test case 3 failed\"\n",
    "# assert two_sum([0, 2, 4, 5], 5) == [0, 3], \"Test case 4 failed\"\n"
   ]
  },
  {
   "cell_type": "code",
   "execution_count": 15,
   "metadata": {},
   "outputs": [
    {
     "name": "stdout",
     "output_type": "stream",
     "text": [
      "{1: [0, 1], 2: [2]}\n"
     ]
    }
   ],
   "source": [
    "nums = [1,1,2]\n",
    "pairs = {}\n",
    "for k, num in enumerate(nums):\n",
    "    if num in pairs:\n",
    "        pairs[num].append(k)\n",
    "    else:\n",
    "        pairs[num] = [k]\n",
    "print(pairs)"
   ]
  },
  {
   "cell_type": "code",
   "execution_count": 61,
   "metadata": {},
   "outputs": [
    {
     "data": {
      "text/plain": [
       "[0, 0]"
      ]
     },
     "execution_count": 61,
     "metadata": {},
     "output_type": "execute_result"
    }
   ],
   "source": [
    "def twoSum(nums, target):\n",
    "    nums_with_indices = [(num, i) for i, num in enumerate(nums)]\n",
    "\n",
    "    nums_with_indices.sort(key=lambda x: x[0])\n",
    "\n",
    "    left, right = 0, len(nums) - 1\n",
    "\n",
    "    while left < right:\n",
    "        current_sum = nums_with_indices[left][0] + nums_with_indices[right][0]\n",
    "        if current_sum == target:\n",
    "            return [nums_with_indices[left][1], nums_with_indices[right][1]]\n",
    "        elif current_sum < target:\n",
    "            left += 1\n",
    "        else:\n",
    "            right -= 1\n",
    "\n",
    "    return []\n",
    "\n",
    "def findIndex(nums, target):\n",
    "    for i, num in enumerate(nums):\n",
    "        if num == target:\n",
    "            return i\n",
    "\n",
    "    return -1\n",
    "\n",
    "\n",
    "\n",
    "# two_sum([2,7,11,15], 9)\n",
    "# two_sum([3,2,4], 6)\n",
    "two_sum([3,3], 6)\n",
    "# two_sum([0, 2, 4, 5], 5)\n",
    "# assert two_sum([2,7,11,15], 9) == [0, 1], \"Test case 1 failed\"\n",
    "# assert two_sum([3,2,4], 6) == [1, 2], \"Test case 2 failed\"\n",
    "# assert two_sum([3,3], 6) == [0, 1], \"Test case 3 failed\"\n",
    "# assert two_sum([0, 2, 4, 5], 5) == [0, 3], \"Test case 4 failed\""
   ]
  },
  {
   "cell_type": "code",
   "execution_count": null,
   "metadata": {},
   "outputs": [],
   "source": [
    "# Parenthesis closing and opening"
   ]
  },
  {
   "cell_type": "code",
   "execution_count": 68,
   "metadata": {},
   "outputs": [
    {
     "name": "stdout",
     "output_type": "stream",
     "text": [
      "[91, 91, 91, 93]\n"
     ]
    }
   ],
   "source": [
    "s = \"[[[]\"\n",
    "parentheses = []\n",
    "for symbols in s:\n",
    "    parentheses.append(ord(symbols))\n",
    "\n",
    "print(parentheses)"
   ]
  },
  {
   "cell_type": "code",
   "execution_count": 69,
   "metadata": {},
   "outputs": [
    {
     "name": "stdout",
     "output_type": "stream",
     "text": [
      "False\n"
     ]
    }
   ],
   "source": [
    "i = 0\n",
    "output = True\n",
    "while i < len(parentheses) - 1:\n",
    "\n",
    "    if (parentheses[i] + parentheses[i+1] == 81) or (parentheses[i] + parentheses[i+1] == 248) or (parentheses[i] + parentheses[i+1] == 184):\n",
    "        if (parentheses[i] == 40) or (parentheses[i] == 123) or (parentheses[i] == 91):\n",
    "            i += 2\n",
    "        else:\n",
    "            output = False\n",
    "            print(output)\n",
    "            break\n",
    "\n",
    "    elif (parentheses[i] + parentheses[-(i+1)] == 81) or (parentheses[i] == 91 + parentheses[-(i+1)] == 184) or (parentheses[i] + parentheses[-(i+1)] == 248):\n",
    "        if (parentheses[i] == 40) or (parentheses[i] == 123) or (parentheses[i] == 91):\n",
    "            i += 1\n",
    "        else:\n",
    "            output = False\n",
    "            print(output)\n",
    "            break\n",
    "    else:\n",
    "        output = False\n",
    "        print(output)\n",
    "        break\n",
    "\n",
    "\n",
    "    print (output)"
   ]
  },
  {
   "cell_type": "code",
   "execution_count": 47,
   "metadata": {},
   "outputs": [
    {
     "ename": "IndexError",
     "evalue": "list index out of range",
     "output_type": "error",
     "traceback": [
      "\u001b[0;31m---------------------------------------------------------------------------\u001b[0m",
      "\u001b[0;31mIndexError\u001b[0m                                Traceback (most recent call last)",
      "Cell \u001b[0;32mIn[47], line 22\u001b[0m\n\u001b[1;32m     19\u001b[0m     output \u001b[38;5;241m=\u001b[39m \u001b[38;5;28;01mFalse\u001b[39;00m\n\u001b[1;32m     20\u001b[0m     \u001b[38;5;28;01mbreak\u001b[39;00m\n\u001b[0;32m---> 22\u001b[0m \u001b[38;5;28;01mif\u001b[39;00m (\u001b[43mparentheses\u001b[49m\u001b[43m[\u001b[49m\u001b[43mi\u001b[49m\u001b[43m]\u001b[49m \u001b[38;5;241m+\u001b[39m parentheses[i\u001b[38;5;241m+\u001b[39m\u001b[38;5;241m1\u001b[39m] \u001b[38;5;241m==\u001b[39m \u001b[38;5;241m248\u001b[39m):\n\u001b[1;32m     23\u001b[0m     \u001b[38;5;28;01mif\u001b[39;00m (parentheses[i] \u001b[38;5;241m==\u001b[39m \u001b[38;5;241m123\u001b[39m):\n\u001b[1;32m     24\u001b[0m         i \u001b[38;5;241m+\u001b[39m\u001b[38;5;241m=\u001b[39m \u001b[38;5;241m2\u001b[39m\n",
      "\u001b[0;31mIndexError\u001b[0m: list index out of range"
     ]
    }
   ],
   "source": [
    "i = 0\n",
    "output = True\n",
    "\n",
    "if len(parentheses) % 2 == 1:\n",
    "    output = False\n",
    "    print (output)\n",
    "\n",
    "\n",
    "while i < len(parentheses) - 1:\n",
    "\n",
    "    if (parentheses[i] + parentheses[i+1] == 81):\n",
    "        if (parentheses[i] == 40):\n",
    "            i += 2\n",
    "\n",
    "    elif (parentheses[i] + parentheses[-(i+1)] == 81):\n",
    "        if (parentheses[i] == 40):\n",
    "            i += 1\n",
    "    else:\n",
    "        output = False\n",
    "        break\n",
    "\n",
    "    if (parentheses[i] + parentheses[i+1] == 248):\n",
    "        if (parentheses[i] == 123):\n",
    "            i += 2\n",
    "    elif (parentheses[i] + parentheses[-(i+1)] == 248):\n",
    "        if (parentheses[i] == 123):\n",
    "            i += 1\n",
    "    else:\n",
    "        output = False\n",
    "        break\n",
    "\n",
    "    if (parentheses[i] + parentheses[i+1] == 184):\n",
    "        if (parentheses[i] == 91):\n",
    "            i += 2\n",
    "    elif (parentheses[i] + parentheses[-(i+1)] == 184):\n",
    "        if (parentheses[i] == 91):\n",
    "            i += 1\n",
    "    else:\n",
    "        output = False\n",
    "        break\n",
    "\n",
    "print (output)"
   ]
  },
  {
   "cell_type": "code",
   "execution_count": 20,
   "metadata": {},
   "outputs": [
    {
     "name": "stdout",
     "output_type": "stream",
     "text": [
      "4\n"
     ]
    }
   ],
   "source": [
    "a = [1,2,3,4,5]\n",
    "i = 2\n",
    "print(a[(i+1)])"
   ]
  },
  {
   "cell_type": "code",
   "execution_count": 84,
   "metadata": {},
   "outputs": [],
   "source": [
    "check_stack = []\n",
    "s = \"(([]){}])\""
   ]
  },
  {
   "cell_type": "code",
   "execution_count": 86,
   "metadata": {},
   "outputs": [
    {
     "name": "stdout",
     "output_type": "stream",
     "text": [
      "False\n"
     ]
    }
   ],
   "source": [
    "check_dict = {\")\": \"(\", \"}\":\"{\", \"]\":\"[\"}\n",
    "check_dict = {\")\": \"(\", \"}\":\"{\", \"]\":\"[\"}\n",
    "for char in s:\n",
    "    if char in check_dict:\n",
    "        if check_stack and check_stack[-1] == check_dict[char]:\n",
    "            check_stack.pop()\n",
    "        else:\n",
    "            print(False)\n",
    "    else:\n",
    "        check_stack.append(char)"
   ]
  },
  {
   "cell_type": "code",
   "execution_count": 87,
   "metadata": {},
   "outputs": [
    {
     "name": "stdout",
     "output_type": "stream",
     "text": [
      "[]\n"
     ]
    }
   ],
   "source": [
    "print(check_stack)"
   ]
  },
  {
   "cell_type": "code",
   "execution_count": 88,
   "metadata": {},
   "outputs": [],
   "source": [
    "# internet solution\n",
    "\n",
    "class Solution(object):\n",
    "    def isValid(self, s):\n",
    "        # Create a pair of opening and closing parrenthesis...\n",
    "        opcl = dict(('()', '[]', '{}'))\n",
    "        # Create stack data structure...\n",
    "        stack = []\n",
    "        # Traverse each charater in input string...\n",
    "        for idx in s:\n",
    "            # If open parentheses are present, append it to stack...\n",
    "            if idx in '([{':\n",
    "                stack.append(idx)\n",
    "            # If the character is closing parentheses, check that the same type opening parentheses is being pushed to the stack or not...\n",
    "            # If not, we need to return false...\n",
    "            elif len(stack) == 0 or idx != opcl[stack.pop()]:\n",
    "                return False\n",
    "        # At last, we check if the stack is empty or not...\n",
    "        # If the stack is empty it means every opened parenthesis is being closed and we can return true, otherwise we return false...\n",
    "        return len(stack) == 0"
   ]
  },
  {
   "cell_type": "markdown",
   "metadata": {},
   "source": [
    "# count the number elements in a function"
   ]
  },
  {
   "cell_type": "code",
   "execution_count": 13,
   "metadata": {},
   "outputs": [
    {
     "name": "stdout",
     "output_type": "stream",
     "text": [
      "{4: 2, 2: 2, 3: 1}\n"
     ]
    }
   ],
   "source": [
    "nums = [4,4,2,2,3]\n",
    "count = {}\n",
    "for values in nums:\n",
    "    count[values] = count.get(values,0) + 1\n",
    "\n",
    "print(count)\n"
   ]
  },
  {
   "cell_type": "code",
   "execution_count": 29,
   "metadata": {},
   "outputs": [
    {
     "name": "stdout",
     "output_type": "stream",
     "text": [
      "3\n"
     ]
    }
   ],
   "source": [
    "minimum = min(count.items(), key=lambda x: x[1])\n",
    "\n",
    "print(minimum[0])"
   ]
  },
  {
   "cell_type": "code",
   "execution_count": 60,
   "metadata": {},
   "outputs": [
    {
     "name": "stdout",
     "output_type": "stream",
     "text": [
      "3 [2, 2]\n"
     ]
    }
   ],
   "source": [
    "# this is not in-place\n",
    "\n",
    "nums = [3,2,2,3]\n",
    "val = 3\n",
    "expectednums = []\n",
    "for num in nums:\n",
    "    if num != val:\n",
    "        expectednums.append(num)\n",
    "k = len(expectednums) + 1\n",
    "print (k, expectednums)\n"
   ]
  },
  {
   "cell_type": "code",
   "execution_count": 61,
   "metadata": {},
   "outputs": [
    {
     "name": "stdout",
     "output_type": "stream",
     "text": [
      "4\n"
     ]
    }
   ],
   "source": [
    "# this is in-place solution\n",
    "k = 0\n",
    "nums = [1,2,3,3,4,3,4]\n",
    "for i in range(len(nums)):\n",
    "    if nums[i] != val:\n",
    "        nums[k] = nums[i]\n",
    "        k += 1\n",
    "\n",
    "print (k)"
   ]
  },
  {
   "cell_type": "code",
   "execution_count": null,
   "metadata": {},
   "outputs": [],
   "source": [
    "# p 344 reverse string"
   ]
  },
  {
   "cell_type": "code",
   "execution_count": null,
   "metadata": {},
   "outputs": [],
   "source": [
    "s = [\"h\",\"e\",\"l\",\"l\",\"o\"]\n",
    "s = s.reverse()\n",
    "print (s)"
   ]
  },
  {
   "cell_type": "code",
   "execution_count": null,
   "metadata": {},
   "outputs": [],
   "source": [
    "# 345 Reverse Vowels of a String"
   ]
  },
  {
   "cell_type": "code",
   "execution_count": 19,
   "metadata": {},
   "outputs": [
    {
     "name": "stdout",
     "output_type": "stream",
     "text": [
      "{0: 'h', 1: 'e', 2: 'l', 3: 'l', 4: 'o'}\n",
      "[0, 1, 2, 3, 4]\n"
     ]
    }
   ],
   "source": [
    "s = \"hello\"\n",
    "dict = {}\n",
    "key_list = []\n",
    "for key, val in enumerate(s):\n",
    "    dict[key] = val\n",
    "    key_list.append(key)\n",
    "print(dict)\n",
    "print(key_list)"
   ]
  },
  {
   "cell_type": "code",
   "execution_count": 30,
   "metadata": {},
   "outputs": [
    {
     "name": "stdout",
     "output_type": "stream",
     "text": [
      "[1, 4]\n"
     ]
    }
   ],
   "source": [
    "vowel_keys = []\n",
    "for key, val in dict.items():\n",
    "    if val in [\"a\", \"e\", \"i\", \"o\", \"u\"]:\n",
    "        vowel_keys.append(key)\n",
    "\n",
    "print(vowel_keys)\n",
    "\n"
   ]
  },
  {
   "cell_type": "code",
   "execution_count": 56,
   "metadata": {},
   "outputs": [
    {
     "name": "stdout",
     "output_type": "stream",
     "text": [
      "leotcede\n"
     ]
    }
   ],
   "source": [
    "s = \"leetcode\"\n",
    "s = [*s]\n",
    "i = 0\n",
    "j = len(s) - 1\n",
    "vowels = [\"a\",\"e\",\"i\",\"o\",\"u\", \"A\",\"E\", \"I\", \"O\", \"U\"]\n",
    "while i <= j:\n",
    "    if (s[i] in vowels) and (s[j] in vowels):\n",
    "        holder = s[i]\n",
    "        s[i] = s[j]\n",
    "        s[j] = holder\n",
    "        i += 1\n",
    "        j -= 1\n",
    "    elif s[i] not in vowels:\n",
    "        i += 1\n",
    "    elif s[j] not in vowels:\n",
    "        j -= 1\n",
    "\n",
    "s = \"\".join(s)\n",
    "print(s)"
   ]
  },
  {
   "cell_type": "code",
   "execution_count": 43,
   "metadata": {},
   "outputs": [
    {
     "name": "stdout",
     "output_type": "stream",
     "text": [
      "['h', 'e', 'l', 'l', 'o']\n"
     ]
    }
   ],
   "source": [
    "s = \"hello\"\n",
    "k = [*s]\n",
    "print(k)"
   ]
  },
  {
   "cell_type": "code",
   "execution_count": 66,
   "metadata": {},
   "outputs": [
    {
     "name": "stdout",
     "output_type": "stream",
     "text": [
      "['c', 'o', 'd', 'e']\n"
     ]
    }
   ],
   "source": [
    "s = ['e', 't', 'c', 'o', 'd', 'e']\n",
    "s = s[2::]\n",
    "print(s)"
   ]
  },
  {
   "cell_type": "code",
   "execution_count": null,
   "metadata": {},
   "outputs": [],
   "source": []
  },
  {
   "cell_type": "code",
   "execution_count": 78,
   "metadata": {},
   "outputs": [
    {
     "name": "stdout",
     "output_type": "stream",
     "text": [
      "[1, 2, 2, 3, 5, 6]\n"
     ]
    }
   ],
   "source": [
    "nums1 = [1,2,3,0,0,0]\n",
    "nums2 = [2,5,6]\n",
    "\n",
    "nums1 = [num for num in nums1 if num != 0]\n",
    "nums2 = [num for num in nums2 if num != 0]\n",
    "merged_list = []\n",
    "i = 0\n",
    "j = 0\n",
    "\n",
    "while i < len(nums1) and j < len(nums2):\n",
    "    if nums1[i] <= nums2[j]:\n",
    "        merged_list.append(nums1[i])\n",
    "        i += 1\n",
    "    elif nums1[i] > nums2[j]:\n",
    "        merged_list.append(nums2[j])\n",
    "        j += 1\n",
    "\n",
    "    # elif nums1[i] == nums2[j]:\n",
    "    #     merged_list.append(nums1[i])\n",
    "    #     merged_list.append(nums2[j])\n",
    "\n",
    "if nums1[i::]:\n",
    "    merged_list.extend(nums1[i::])\n",
    "\n",
    "if nums2[j::]:\n",
    "    merged_list.extend(nums2[j::])\n",
    "\n",
    "print (merged_list)"
   ]
  },
  {
   "cell_type": "code",
   "execution_count": 89,
   "metadata": {},
   "outputs": [
    {
     "name": "stdout",
     "output_type": "stream",
     "text": [
      "[1, 2, 4, 1]\n"
     ]
    }
   ],
   "source": [
    "# in-place merge in list1\n",
    "nums1 = [1,2,4,1,0,0,0]\n",
    "k = 0\n",
    "for i in range(len(nums1)):\n",
    "    if nums1[i] != 0:\n",
    "        nums1[k] = (nums1[i])\n",
    "        k += 1\n",
    "\n",
    "print(nums1[:k])"
   ]
  },
  {
   "cell_type": "code",
   "execution_count": 74,
   "metadata": {},
   "outputs": [
    {
     "name": "stdout",
     "output_type": "stream",
     "text": [
      "[1, 2, 3]\n"
     ]
    }
   ],
   "source": [
    "nums1 = [1,2,3,0,0,0]\n",
    "nums2 = [2,5,6]\n",
    "\n",
    "nums1 = [num for num in nums1 if num != 0]\n",
    "print(nums1)"
   ]
  },
  {
   "cell_type": "code",
   "execution_count": 20,
   "metadata": {},
   "outputs": [
    {
     "name": "stdout",
     "output_type": "stream",
     "text": [
      "Help on built-in function get:\n",
      "\n",
      "get(key, default=None, /) method of builtins.dict instance\n",
      "    Return the value for key if key is in the dictionary, else default.\n",
      "\n"
     ]
    }
   ],
   "source": [
    "help({}.get)"
   ]
  },
  {
   "cell_type": "code",
   "execution_count": 39,
   "metadata": {},
   "outputs": [
    {
     "name": "stdout",
     "output_type": "stream",
     "text": [
      "[1, 2, 3, 0, 0, 0]\n",
      "6\n"
     ]
    }
   ],
   "source": [
    "nums1 = [1,2,3,0,0,0]\n",
    "nums2 = [2,5,6]\n",
    "\n",
    "v= 0\n",
    "for num in range(len(nums1)):\n",
    "    if nums1[num] != 0:\n",
    "        nums1[v] = nums1[num]\n",
    "        v += 1\n",
    "    # else:\n",
    "    #     nums1[v] = None\n",
    "    #     v += 1\n",
    "v += len(nums2)\n",
    "nums1 = nums1[:v]\n",
    "\n",
    "print(nums1)\n",
    "print(len(nums1))"
   ]
  },
  {
   "cell_type": "code",
   "execution_count": 38,
   "metadata": {},
   "outputs": [
    {
     "ename": "IndexError",
     "evalue": "list assignment index out of range",
     "output_type": "error",
     "traceback": [
      "\u001b[0;31m---------------------------------------------------------------------------\u001b[0m",
      "\u001b[0;31mIndexError\u001b[0m                                Traceback (most recent call last)",
      "Cell \u001b[0;32mIn[38], line 30\u001b[0m\n\u001b[1;32m     27\u001b[0m     k \u001b[38;5;241m+\u001b[39m\u001b[38;5;241m=\u001b[39m \u001b[38;5;241m1\u001b[39m\n\u001b[1;32m     29\u001b[0m \u001b[38;5;28;01mwhile\u001b[39;00m j \u001b[38;5;241m<\u001b[39m \u001b[38;5;28mlen\u001b[39m(nums2):\n\u001b[0;32m---> 30\u001b[0m     \u001b[43mnums1\u001b[49m\u001b[43m[\u001b[49m\u001b[43mk\u001b[49m\u001b[43m]\u001b[49m \u001b[38;5;241m=\u001b[39m nums2[j]\n\u001b[1;32m     31\u001b[0m     k \u001b[38;5;241m+\u001b[39m\u001b[38;5;241m=\u001b[39m \u001b[38;5;241m1\u001b[39m\n\u001b[1;32m     32\u001b[0m     j \u001b[38;5;241m+\u001b[39m\u001b[38;5;241m=\u001b[39m \u001b[38;5;241m1\u001b[39m\n",
      "\u001b[0;31mIndexError\u001b[0m: list assignment index out of range"
     ]
    }
   ],
   "source": [
    "nums1 = [1,2,3,0,0,0]\n",
    "nums2 = [2,5,6]\n",
    "\n",
    "i = 0\n",
    "j = 0\n",
    "k = 0\n",
    "\n",
    "while (i < len(nums1)) and (j < len(nums2)):\n",
    "    if nums1[i] <= nums2[j]:\n",
    "        nums1[k] = nums1[i]\n",
    "        i += 1\n",
    "        k += 1\n",
    "\n",
    "    else:\n",
    "        nums1[k] = nums2[j]\n",
    "        j += 1\n",
    "        k += 1\n",
    "\n",
    "while nums1[i] < nums2[j]:\n",
    "    nums1[i] = nums[k]\n",
    "\n",
    "\n",
    "while i < len(nums1):\n",
    "    nums1[k] = nums1[i]\n",
    "    i += 1\n",
    "    k += 1\n",
    "\n",
    "while j < len(nums2):\n",
    "    nums1[k] = nums2[j]\n",
    "    k += 1\n",
    "    j += 1\n",
    "\n",
    "print(nums1[:k])"
   ]
  },
  {
   "cell_type": "code",
   "execution_count": null,
   "metadata": {},
   "outputs": [],
   "source": []
  },
  {
   "cell_type": "code",
   "execution_count": 43,
   "metadata": {},
   "outputs": [
    {
     "ename": "NameError",
     "evalue": "name 'List' is not defined",
     "output_type": "error",
     "traceback": [
      "\u001b[0;31m---------------------------------------------------------------------------\u001b[0m",
      "\u001b[0;31mNameError\u001b[0m                                 Traceback (most recent call last)",
      "Cell \u001b[0;32mIn[43], line 1\u001b[0m\n\u001b[0;32m----> 1\u001b[0m \u001b[38;5;28;43;01mclass\u001b[39;49;00m\u001b[43m \u001b[49m\u001b[38;5;21;43;01mSolution\u001b[39;49;00m\u001b[43m:\u001b[49m\n\u001b[1;32m      2\u001b[0m \u001b[43m    \u001b[49m\u001b[38;5;28;43;01mdef\u001b[39;49;00m\u001b[43m \u001b[49m\u001b[38;5;21;43mmerge\u001b[39;49m\u001b[43m(\u001b[49m\u001b[38;5;28;43mself\u001b[39;49m\u001b[43m,\u001b[49m\u001b[43m \u001b[49m\u001b[43mnums1\u001b[49m\u001b[43m:\u001b[49m\u001b[43m \u001b[49m\u001b[43mList\u001b[49m\u001b[43m[\u001b[49m\u001b[38;5;28;43mint\u001b[39;49m\u001b[43m]\u001b[49m\u001b[43m,\u001b[49m\u001b[43m \u001b[49m\u001b[43mm\u001b[49m\u001b[43m:\u001b[49m\u001b[43m \u001b[49m\u001b[38;5;28;43mint\u001b[39;49m\u001b[43m,\u001b[49m\u001b[43m \u001b[49m\u001b[43mnums2\u001b[49m\u001b[43m:\u001b[49m\u001b[43m \u001b[49m\u001b[43mList\u001b[49m\u001b[43m[\u001b[49m\u001b[38;5;28;43mint\u001b[39;49m\u001b[43m]\u001b[49m\u001b[43m,\u001b[49m\u001b[43m \u001b[49m\u001b[43mn\u001b[49m\u001b[43m:\u001b[49m\u001b[43m \u001b[49m\u001b[38;5;28;43mint\u001b[39;49m\u001b[43m)\u001b[49m\u001b[43m \u001b[49m\u001b[38;5;241;43m-\u001b[39;49m\u001b[38;5;241;43m>\u001b[39;49m\u001b[43m \u001b[49m\u001b[38;5;28;43;01mNone\u001b[39;49;00m\u001b[43m:\u001b[49m\n\u001b[1;32m      3\u001b[0m \u001b[38;5;250;43m        \u001b[39;49m\u001b[38;5;124;43;03m\"\"\"\u001b[39;49;00m\n\u001b[1;32m      4\u001b[0m \u001b[38;5;124;43;03m        Do not return anything, modify nums1 in-place instead.\u001b[39;49;00m\n\u001b[1;32m      5\u001b[0m \u001b[38;5;124;43;03m        \"\"\"\u001b[39;49;00m\n",
      "Cell \u001b[0;32mIn[43], line 2\u001b[0m, in \u001b[0;36mSolution\u001b[0;34m()\u001b[0m\n\u001b[1;32m      1\u001b[0m \u001b[38;5;28;01mclass\u001b[39;00m \u001b[38;5;21;01mSolution\u001b[39;00m:\n\u001b[0;32m----> 2\u001b[0m     \u001b[38;5;28;01mdef\u001b[39;00m \u001b[38;5;21mmerge\u001b[39m(\u001b[38;5;28mself\u001b[39m, nums1: \u001b[43mList\u001b[49m[\u001b[38;5;28mint\u001b[39m], m: \u001b[38;5;28mint\u001b[39m, nums2: List[\u001b[38;5;28mint\u001b[39m], n: \u001b[38;5;28mint\u001b[39m) \u001b[38;5;241m-\u001b[39m\u001b[38;5;241m>\u001b[39m \u001b[38;5;28;01mNone\u001b[39;00m:\n\u001b[1;32m      3\u001b[0m \u001b[38;5;250m        \u001b[39m\u001b[38;5;124;03m\"\"\"\u001b[39;00m\n\u001b[1;32m      4\u001b[0m \u001b[38;5;124;03m        Do not return anything, modify nums1 in-place instead.\u001b[39;00m\n\u001b[1;32m      5\u001b[0m \u001b[38;5;124;03m        \"\"\"\u001b[39;00m\n\u001b[1;32m      6\u001b[0m         p \u001b[38;5;241m=\u001b[39m m \u001b[38;5;241m+\u001b[39m n \u001b[38;5;241m-\u001b[39m \u001b[38;5;241m1\u001b[39m\n",
      "\u001b[0;31mNameError\u001b[0m: name 'List' is not defined"
     ]
    }
   ],
   "source": [
    "class Solution:\n",
    "    def merge(self, nums1: List[int], m: int, nums2: List[int], n: int) -> None:\n",
    "        \"\"\"\n",
    "        Do not return anything, modify nums1 in-place instead.\n",
    "        \"\"\"\n",
    "        p = m + n - 1\n",
    "        m = m - 1\n",
    "        n = n - 1\n",
    "        while n >= 0 and m >= 0:\n",
    "            if nums1[m] > nums2[n]:\n",
    "                nums1[p] = nums1[m]\n",
    "                p -= 1\n",
    "                m -= 1\n",
    "            else:\n",
    "                nums1[p] = nums2[n]\n",
    "                p -= 1\n",
    "                n -= 1\n",
    "\n",
    "        while n >= 0:\n",
    "            nums1[p] = nums2[n]\n",
    "            p -= 1\n",
    "            n -= 1\n",
    "\n",
    "        while m >= 0:\n",
    "            nums1[p] = nums1[m]\n",
    "            p -= 1\n",
    "            m -= 1\n",
    "\n",
    "        return nums1"
   ]
  },
  {
   "cell_type": "code",
   "execution_count": 44,
   "metadata": {},
   "outputs": [
    {
     "name": "stdout",
     "output_type": "stream",
     "text": [
      "[0, 1, 2, 3, 4]\n"
     ]
    }
   ],
   "source": [
    "# p  26\n",
    "\n",
    "nums = [0,0,1,1,1,2,2,3,3,4]\n",
    "nums = set(nums)\n",
    "print (list(nums))"
   ]
  },
  {
   "cell_type": "code",
   "execution_count": 55,
   "metadata": {},
   "outputs": [
    {
     "name": "stdout",
     "output_type": "stream",
     "text": [
      "[0, 1, 2, 3, 4]\n"
     ]
    }
   ],
   "source": [
    "nums = [0,0,1,1,1,2,2,3,3,4]\n",
    "k = 0\n",
    "\n",
    "for i in range(len(nums)-1):\n",
    "    if nums[i] == nums[i+1]:\n",
    "        i += 1\n",
    "    else:\n",
    "        nums[k] = nums[i]\n",
    "        i += 1\n",
    "        k += 1\n",
    "\n",
    "\n",
    "nums[k] = nums[-1]\n",
    "k += 1\n",
    "\n",
    "print(nums[:k])"
   ]
  },
  {
   "cell_type": "code",
   "execution_count": null,
   "metadata": {},
   "outputs": [],
   "source": [
    "# p 67\n"
   ]
  },
  {
   "cell_type": "code",
   "execution_count": 63,
   "metadata": {},
   "outputs": [
    {
     "name": "stdout",
     "output_type": "stream",
     "text": [
      "1101011\n"
     ]
    }
   ],
   "source": [
    "a = \"1101010\"\n",
    "b = \"1\"\n",
    "\n",
    "def binarytodec(s):\n",
    "    sum = 0\n",
    "    s = s[::-1]\n",
    "    power = 0\n",
    "    for num in s:\n",
    "        sum += (int(num)* (2 ** power))\n",
    "        power += 1\n",
    "    return sum\n",
    "\n",
    "def dectobin(s):\n",
    "    num = s\n",
    "    sum = \"\"\n",
    "\n",
    "    while s != 0:\n",
    "        c = s % 2\n",
    "        s = s // 2\n",
    "        c = str(c)\n",
    "        sum += c\n",
    "\n",
    "    sum = sum[::-1]\n",
    "\n",
    "    return sum\n",
    "\n",
    "dec_sum = binarytodec(a) + binarytodec(b)\n",
    "\n",
    "bin_sum = dectobin(dec_sum)\n",
    "\n",
    "print (bin_sum)"
   ]
  },
  {
   "cell_type": "code",
   "execution_count": 75,
   "metadata": {},
   "outputs": [
    {
     "name": "stdout",
     "output_type": "stream",
     "text": [
      "100\n"
     ]
    }
   ],
   "source": [
    "a = \"11\"\n",
    "b = \"1\"\n",
    "\n",
    "a = int(a,2)\n",
    "b = int(b,2)\n",
    "\n",
    "print(f\"{(a+b):b}\")\n"
   ]
  },
  {
   "cell_type": "code",
   "execution_count": null,
   "metadata": {},
   "outputs": [],
   "source": [
    "#70 climbing stairs problem"
   ]
  },
  {
   "cell_type": "code",
   "execution_count": 45,
   "metadata": {},
   "outputs": [
    {
     "name": "stdout",
     "output_type": "stream",
     "text": [
      "5\n"
     ]
    }
   ],
   "source": [
    "s = \"aaabbced\"\n",
    "count = {}\n",
    "size = 0\n",
    "\n",
    "for char in s:\n",
    "    count[char] = count.get(char, 0) + 1\n",
    "\n",
    "if len(s) == max(count.values()):\n",
    "    print(len(s))\n",
    "\n",
    "for values in count.values():\n",
    "    if (values % 2 == 0):\n",
    "        size += values\n",
    "\n",
    "odd_val = [value for value in count.values() if value % 2 == 1]\n",
    "odd_val = max(odd_val, default=0)\n",
    "size += odd_val\n",
    "\n",
    "print(size)"
   ]
  },
  {
   "cell_type": "code",
   "execution_count": 66,
   "metadata": {},
   "outputs": [
    {
     "name": "stdout",
     "output_type": "stream",
     "text": [
      "5\n"
     ]
    }
   ],
   "source": [
    "s = \"aaabbbc\"\n",
    "count = {}\n",
    "size = 0\n",
    "\n",
    "for char in s:\n",
    "    count[char] = count.get(char, 0) + 1\n",
    "\n",
    "for values in count.values():\n",
    "    if values % 2 == 0:\n",
    "        size += values\n",
    "    else:\n",
    "        size += values - 1\n",
    "\n",
    "if size < len(s):\n",
    "    size += 1\n",
    "\n",
    "print(size)\n",
    "# print(len(s))\n",
    "      # Output: 7"
   ]
  },
  {
   "cell_type": "code",
   "execution_count": 63,
   "metadata": {},
   "outputs": [
    {
     "name": "stdout",
     "output_type": "stream",
     "text": [
      "aaa\n"
     ]
    }
   ],
   "source": [
    "s = \"aaabbbc\"\n",
    "res = \"\"\n",
    "res_len = 0\n",
    "# j = len(s) - 1\n",
    "for i in range(len(s)):\n",
    "    # odd length\n",
    "    l, r = i, i\n",
    "    while l >= 0 and r < len(s) and s[l] == s[r]:\n",
    "        if (r - l + 1) > res_len:\n",
    "            res = s[l:r+1]\n",
    "            res_len = r - l + 1\n",
    "\n",
    "        l -= 1\n",
    "        r += 1\n",
    "\n",
    "    # even length\n",
    "    l, r = i, i + 1\n",
    "    while l >= 0 and r < len(s) and s[l] == s[r]:\n",
    "        if (r - l + 1) > res_len:\n",
    "            res = s[l:r+1]\n",
    "            res_len = r - l + 1\n",
    "\n",
    "        l -= 1\n",
    "        r += 1\n",
    "\n",
    "print(res)\n",
    "\n",
    "\n",
    "\n"
   ]
  },
  {
   "cell_type": "code",
   "execution_count": null,
   "metadata": {},
   "outputs": [],
   "source": [
    "# end of 70"
   ]
  },
  {
   "cell_type": "code",
   "execution_count": 82,
   "metadata": {},
   "outputs": [
    {
     "name": "stdout",
     "output_type": "stream",
     "text": [
      "[1, 2, 4, 5]\n"
     ]
    }
   ],
   "source": [
    "nums = [2,1,4,5]\n",
    "squared_nums = sorted(nums, key= lambda x: x)\n",
    "print(squared_nums)"
   ]
  },
  {
   "cell_type": "code",
   "execution_count": 87,
   "metadata": {},
   "outputs": [
    {
     "name": "stdout",
     "output_type": "stream",
     "text": [
      "['1', '2', '4']\n"
     ]
    }
   ],
   "source": [
    "digits = [1,2,3]\n",
    "s = \"\"\n",
    "for num in digits:\n",
    "    s += str(num)\n",
    "s = str(int(s) + 1)\n",
    "s = [*s]\n",
    "\n",
    "print (s)"
   ]
  },
  {
   "cell_type": "code",
   "execution_count": 100,
   "metadata": {},
   "outputs": [
    {
     "name": "stdout",
     "output_type": "stream",
     "text": [
      "['1', '2', '3']\n",
      "{'1': 1, '2': 2, '3': 3}\n"
     ]
    }
   ],
   "source": [
    "digits = [1,2,3]\n",
    "# mapping = dict(map(str, digits))\n",
    "print(mapping)\n",
    "\n",
    "# mapping\n",
    "digits = [1,2,3]\n",
    "mapping = dict(map(lambda x: (str(x), x), digits))\n",
    "print(mapping)  # Output: {'1': 1, '2': 2, '3': 3}\n"
   ]
  },
  {
   "cell_type": "code",
   "execution_count": null,
   "metadata": {},
   "outputs": [],
   "source": [
    "# 169 majority element\n"
   ]
  },
  {
   "cell_type": "code",
   "execution_count": 78,
   "metadata": {},
   "outputs": [
    {
     "name": "stdout",
     "output_type": "stream",
     "text": [
      "(2, 4)\n"
     ]
    }
   ],
   "source": [
    "nums = [2,2,1,1,1,2,2]\n",
    "count = {}\n",
    "for majority in nums:\n",
    "    count[majority] = count.get(majority, 0) + 1\n",
    "\n",
    "maximum = max(count.items(), key = lambda x: x[1]/2)\n",
    "\n",
    "print (maximum)"
   ]
  },
  {
   "cell_type": "code",
   "execution_count": 88,
   "metadata": {},
   "outputs": [
    {
     "name": "stdout",
     "output_type": "stream",
     "text": [
      "7\n",
      "3\n",
      "2\n"
     ]
    }
   ],
   "source": [
    "nums.sort()\n",
    "x = len(nums)\n",
    "print(x)\n",
    "x = n // 2\n",
    "print(x)\n",
    "majority = nums[n // 2]\n",
    "print(majority)\n",
    "\n",
    "# y = sorted(nums)\n",
    "# print(y)\n",
    "# print(x)\n"
   ]
  },
  {
   "cell_type": "code",
   "execution_count": null,
   "metadata": {},
   "outputs": [],
   "source": [
    "n=len(nums)\n",
    "print (nums[n//2])"
   ]
  },
  {
   "cell_type": "code",
   "execution_count": null,
   "metadata": {},
   "outputs": [],
   "source": [
    "# p 33"
   ]
  },
  {
   "cell_type": "code",
   "execution_count": null,
   "metadata": {},
   "outputs": [],
   "source": [
    "nums = [4,5,6,0,1,2]\n",
    "k = 3\n",
    "target = 2\n",
    "left = 0\n",
    "right = len(nums) - 1\n",
    "while left <= right:\n",
    "\n",
    "    mid_val = ((left + right) // 2)\n",
    "\n",
    "    if nums[mid_val] == target:\n",
    "        return mid_val\n",
    "\n",
    "    # left-sorted portion\n",
    "    if nums[left] <= nums[mid_val]:\n",
    "        if target > nums[mid_val] or target < nums[left]:\n",
    "            left = mid_val + 1\n",
    "        else:\n",
    "            right = mid_val - 1\n",
    "    # right-sorted portion\n",
    "    else:\n",
    "        if target < nums[mid_val] or target > nums[right]:\n",
    "            right = mid_val - 1\n",
    "        else:\n",
    "            left = mid_val - 1\n",
    "\n",
    "    return -1"
   ]
  },
  {
   "cell_type": "code",
   "execution_count": null,
   "metadata": {},
   "outputs": [],
   "source": [
    "# final solution\n",
    "l = 0\n",
    "r = len(nums) - 1\n",
    "\n",
    "while l <= r:\n",
    "    mid = (l + r) // 2\n",
    "\n",
    "    if nums[mid] == target:\n",
    "        return mid\n",
    "\n",
    "    # left sorted portion\n",
    "    elif nums[mid] >= nums[l]:\n",
    "        if nums[l] <= target <= nums[mid]:\n",
    "            r = mid - 1\n",
    "        else:\n",
    "            l = mid + 1\n",
    "\n",
    "    # right sorted portion\n",
    "    else:\n",
    "        if nums[mid] <= target <= nums[r]:\n",
    "            l = mid + 1\n",
    "        else:\n",
    "            r = mid - 1\n",
    "\n",
    "return -1"
   ]
  },
  {
   "cell_type": "code",
   "execution_count": 1,
   "metadata": {},
   "outputs": [],
   "source": [
    "# p 33 - end"
   ]
  },
  {
   "cell_type": "code",
   "execution_count": 5,
   "metadata": {},
   "outputs": [
    {
     "ename": "RecursionError",
     "evalue": "maximum recursion depth exceeded",
     "output_type": "error",
     "traceback": [
      "\u001b[0;31m---------------------------------------------------------------------------\u001b[0m",
      "\u001b[0;31mRecursionError\u001b[0m                            Traceback (most recent call last)",
      "Cell \u001b[0;32mIn[5], line 7\u001b[0m\n\u001b[1;32m      3\u001b[0m         \u001b[38;5;28;01mreturn\u001b[39;00m \u001b[38;5;241m0\u001b[39m\n\u001b[1;32m      4\u001b[0m     fibonacci((n\u001b[38;5;241m-\u001b[39m\u001b[38;5;241m1\u001b[39m) \u001b[38;5;241m+\u001b[39m (n))\n\u001b[0;32m----> 7\u001b[0m \u001b[43mfibonacci\u001b[49m\u001b[43m(\u001b[49m\u001b[38;5;241;43m2\u001b[39;49m\u001b[43m)\u001b[49m\n",
      "Cell \u001b[0;32mIn[5], line 4\u001b[0m, in \u001b[0;36mfibonacci\u001b[0;34m(n)\u001b[0m\n\u001b[1;32m      2\u001b[0m \u001b[38;5;28;01mif\u001b[39;00m n \u001b[38;5;241m<\u001b[39m \u001b[38;5;241m1\u001b[39m:\n\u001b[1;32m      3\u001b[0m     \u001b[38;5;28;01mreturn\u001b[39;00m \u001b[38;5;241m0\u001b[39m\n\u001b[0;32m----> 4\u001b[0m \u001b[43mfibonacci\u001b[49m\u001b[43m(\u001b[49m\u001b[43m(\u001b[49m\u001b[43mn\u001b[49m\u001b[38;5;241;43m-\u001b[39;49m\u001b[38;5;241;43m1\u001b[39;49m\u001b[43m)\u001b[49m\u001b[43m \u001b[49m\u001b[38;5;241;43m+\u001b[39;49m\u001b[43m \u001b[49m\u001b[43m(\u001b[49m\u001b[43mn\u001b[49m\u001b[43m)\u001b[49m\u001b[43m)\u001b[49m\n",
      "Cell \u001b[0;32mIn[5], line 4\u001b[0m, in \u001b[0;36mfibonacci\u001b[0;34m(n)\u001b[0m\n\u001b[1;32m      2\u001b[0m \u001b[38;5;28;01mif\u001b[39;00m n \u001b[38;5;241m<\u001b[39m \u001b[38;5;241m1\u001b[39m:\n\u001b[1;32m      3\u001b[0m     \u001b[38;5;28;01mreturn\u001b[39;00m \u001b[38;5;241m0\u001b[39m\n\u001b[0;32m----> 4\u001b[0m \u001b[43mfibonacci\u001b[49m\u001b[43m(\u001b[49m\u001b[43m(\u001b[49m\u001b[43mn\u001b[49m\u001b[38;5;241;43m-\u001b[39;49m\u001b[38;5;241;43m1\u001b[39;49m\u001b[43m)\u001b[49m\u001b[43m \u001b[49m\u001b[38;5;241;43m+\u001b[39;49m\u001b[43m \u001b[49m\u001b[43m(\u001b[49m\u001b[43mn\u001b[49m\u001b[43m)\u001b[49m\u001b[43m)\u001b[49m\n",
      "    \u001b[0;31m[... skipping similar frames: fibonacci at line 4 (2974 times)]\u001b[0m\n",
      "Cell \u001b[0;32mIn[5], line 4\u001b[0m, in \u001b[0;36mfibonacci\u001b[0;34m(n)\u001b[0m\n\u001b[1;32m      2\u001b[0m \u001b[38;5;28;01mif\u001b[39;00m n \u001b[38;5;241m<\u001b[39m \u001b[38;5;241m1\u001b[39m:\n\u001b[1;32m      3\u001b[0m     \u001b[38;5;28;01mreturn\u001b[39;00m \u001b[38;5;241m0\u001b[39m\n\u001b[0;32m----> 4\u001b[0m \u001b[43mfibonacci\u001b[49m\u001b[43m(\u001b[49m\u001b[43m(\u001b[49m\u001b[43mn\u001b[49m\u001b[38;5;241;43m-\u001b[39;49m\u001b[38;5;241;43m1\u001b[39;49m\u001b[43m)\u001b[49m\u001b[43m \u001b[49m\u001b[38;5;241;43m+\u001b[39;49m\u001b[43m \u001b[49m\u001b[43m(\u001b[49m\u001b[43mn\u001b[49m\u001b[43m)\u001b[49m\u001b[43m)\u001b[49m\n",
      "\u001b[0;31mRecursionError\u001b[0m: maximum recursion depth exceeded"
     ]
    }
   ],
   "source": [
    "def fibonacci(n):\n",
    "    if n < 1:\n",
    "        return 0\n",
    "    fibonacci((n-1) + (n))\n",
    "\n",
    "\n",
    "fibonacci(2)"
   ]
  },
  {
   "cell_type": "code",
   "execution_count": 8,
   "metadata": {},
   "outputs": [
    {
     "name": "stdout",
     "output_type": "stream",
     "text": [
      "4\n",
      "6\n",
      "8\n"
     ]
    }
   ],
   "source": [
    "def loop(start, end, step):\n",
    "    if start < end and step > 0:\n",
    "        loopUp(start, end, step)\n",
    "    elif start > end and step < 0:\n",
    "        loopDown(start, end, step)\n",
    "\n",
    "def loopUp(start, end, step):\n",
    "    if start >= end:\n",
    "        return\n",
    "    else:\n",
    "        print(start)\n",
    "        loopUp(start+step, end, step)\n",
    "\n",
    "def loopDown(start, end, step):\n",
    "    if start <= end:\n",
    "        return\n",
    "    else:\n",
    "        print(start)\n",
    "        loopDown(start-step, end, step)\n",
    "\n",
    "loop(4,10,2)"
   ]
  },
  {
   "cell_type": "code",
   "execution_count": null,
   "metadata": {},
   "outputs": [],
   "source": []
  },
  {
   "cell_type": "code",
   "execution_count": null,
   "metadata": {},
   "outputs": [],
   "source": []
  },
  {
   "cell_type": "code",
   "execution_count": null,
   "metadata": {},
   "outputs": [],
   "source": []
  },
  {
   "cell_type": "code",
   "execution_count": null,
   "metadata": {},
   "outputs": [],
   "source": []
  },
  {
   "cell_type": "code",
   "execution_count": null,
   "metadata": {},
   "outputs": [],
   "source": []
  }
 ],
 "metadata": {
  "kernelspec": {
   "display_name": "base",
   "language": "python",
   "name": "python3"
  },
  "language_info": {
   "codemirror_mode": {
    "name": "ipython",
    "version": 3
   },
   "file_extension": ".py",
   "mimetype": "text/x-python",
   "name": "python",
   "nbconvert_exporter": "python",
   "pygments_lexer": "ipython3",
   "version": "3.12.3"
  }
 },
 "nbformat": 4,
 "nbformat_minor": 2
}
