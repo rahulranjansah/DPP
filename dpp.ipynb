{
 "cells": [
  {
   "cell_type": "code",
   "execution_count": 2,
   "metadata": {},
   "outputs": [],
   "source": [
    "haystack = \"sadbutsad\"\n",
    "needle = \"sad\""
   ]
  },
  {
   "cell_type": "code",
   "execution_count": 8,
   "metadata": {},
   "outputs": [
    {
     "data": {
      "text/plain": [
       "0"
      ]
     },
     "execution_count": 8,
     "metadata": {},
     "output_type": "execute_result"
    }
   ],
   "source": [
    "haystack.index(\"s\")"
   ]
  },
  {
   "cell_type": "code",
   "execution_count": 9,
   "metadata": {},
   "outputs": [
    {
     "data": {
      "text/plain": [
       "'dbu'"
      ]
     },
     "execution_count": 9,
     "metadata": {},
     "output_type": "execute_result"
    }
   ],
   "source": [
    "haystack[2:5]"
   ]
  },
  {
   "cell_type": "code",
   "execution_count": 7,
   "metadata": {},
   "outputs": [
    {
     "name": "stdout",
     "output_type": "stream",
     "text": [
      "s\n",
      "0\n",
      "a\n",
      "1\n",
      "d\n",
      "2\n",
      "b\n",
      "3\n",
      "u\n",
      "4\n",
      "t\n",
      "5\n",
      "s\n",
      "6\n",
      "a\n",
      "7\n",
      "d\n",
      "8\n"
     ]
    }
   ],
   "source": [
    "for index, char in enumerate(haystack):\n",
    "    # index = haystack.index(char)\n",
    "    print(char)\n",
    "    print(index)"
   ]
  },
  {
   "cell_type": "code",
   "execution_count": 90,
   "metadata": {},
   "outputs": [
    {
     "name": "stdout",
     "output_type": "stream",
     "text": [
      "flow\n"
     ]
    }
   ],
   "source": [
    "string = [\"flower\",\"flow\", \"flight\"]\n",
    "# minimum = \"a\" * 200\n",
    "# for word in string:\n",
    "#     if len(word) < len(minimum):\n",
    "#         minimum = word\n",
    "# print(minimum)\n",
    "minimum = min(string, key=len)\n",
    "print(minimum)\n"
   ]
  },
  {
   "cell_type": "code",
   "execution_count": 106,
   "metadata": {},
   "outputs": [
    {
     "name": "stdout",
     "output_type": "stream",
     "text": [
      "fl\n"
     ]
    }
   ],
   "source": [
    "# check\n",
    "dic = {'flow': 2, 'flig': 1, 'flo': 2, 'fli': 1, 'fl': 3, 'f': 3}\n",
    "possible_prefix = []\n",
    "max_val = max(dic.values())\n",
    "\n",
    "for k, v in dic.items():\n",
    "    if v == max_val:\n",
    "        possible_prefix.append(k)\n",
    "\n",
    "final_prefix = max(possible_prefix, key=len)\n",
    "\n",
    "print(final_prefix)"
   ]
  },
  {
   "cell_type": "code",
   "execution_count": 120,
   "metadata": {},
   "outputs": [
    {
     "name": "stdout",
     "output_type": "stream",
     "text": [
      "\n"
     ]
    }
   ],
   "source": [
    "strs = [\"\"]\n",
    "all_prefix_counter = {}\n",
    "prefix = []\n",
    "minimum = min(strs, key=len)\n",
    "prefix_length = len(minimum)\n",
    "while prefix_length != 0:\n",
    "    for word in strs:\n",
    "        root = \"\"\n",
    "        root += word[:prefix_length]\n",
    "        prefix.append(root)\n",
    "        all_prefix_counter[root] = all_prefix_counter.get(root, 0) + 1\n",
    "\n",
    "    prefix_length -= 1\n",
    "\n",
    "possible_prefix = []\n",
    "if all_prefix_counter:\n",
    "    maximum = max(all_prefix_counter.values())\n",
    "if maximum == len(strs):\n",
    "    for k,v in all_prefix_counter.items():\n",
    "        if v == maximum:\n",
    "            possible_prefix.append(k)\n",
    "if possible_prefix:\n",
    "    final_prefix = max(possible_prefix, key=len)\n",
    "    print (final_prefix)\n",
    "else:\n",
    "    print(\"\")\n",
    "\n",
    "# print(final_prefix)\n",
    "# print(all_prefix_counter)\n",
    "# print(prefix)\n"
   ]
  },
  {
   "cell_type": "code",
   "execution_count": 66,
   "metadata": {},
   "outputs": [
    {
     "name": "stdout",
     "output_type": "stream",
     "text": [
      "flow\n"
     ]
    }
   ],
   "source": [
    "string = [\"flower\",\"flow\",\"flight\"]\n",
    "minimum_word = min(string, key=len)\n",
    "\n",
    "\n",
    "# string = [\"racecar\", \"dog\", \"car\"]\n",
    "count = {}\n",
    "prefix = []\n",
    "for word in string:\n",
    "    root = \"\"\n",
    "    root += word[:len(minimum_word)]\n",
    "    prefix.append(root)\n",
    "\n",
    "    count[root] = count.get(root, 0) + 1\n",
    "\n",
    "maximum = max(count.values())\n",
    "\n",
    "if maximum == len(string):\n",
    "    print (f\"{prefix[0]}\")\n",
    "else:\n",
    "    print (\"empty\")\n",
    "# if string[]"
   ]
  },
  {
   "cell_type": "code",
   "execution_count": 88,
   "metadata": {},
   "outputs": [
    {
     "name": "stdout",
     "output_type": "stream",
     "text": [
      "\n"
     ]
    }
   ],
   "source": [
    "import os\n",
    "\n",
    "string = [\"flower\",\"flow\", \"dfo\"]\n",
    "common_prefix = os.path.commonprefix(string)\n",
    "print(common_prefix)"
   ]
  },
  {
   "cell_type": "code",
   "execution_count": 114,
   "metadata": {},
   "outputs": [
    {
     "name": "stdout",
     "output_type": "stream",
     "text": [
      "False\n"
     ]
    }
   ],
   "source": [
    "my_list = []\n",
    "if my_list:\n",
    "    print(True)\n",
    "else:\n",
    "    print(False)"
   ]
  },
  {
   "cell_type": "code",
   "execution_count": 70,
   "metadata": {},
   "outputs": [
    {
     "name": "stdout",
     "output_type": "stream",
     "text": [
      "fl\n"
     ]
    }
   ],
   "source": [
    "string = [\"flower\",\"flow\", \"flight\"]\n",
    "minimum_word = min(string, key=len)\n",
    "\n",
    "# string = [\"racecar\", \"dog\", \"car\"]\n",
    "count = {}\n",
    "prefix = []\n",
    "for word in string:\n",
    "    root = \"\"\n",
    "    root += word[:2]\n",
    "    # single_root +=\n",
    "    prefix.append(root)\n",
    "\n",
    "    count[root] = count.get(root, 0) + 1\n",
    "\n",
    "maximum = max(count.values())\n",
    "\n",
    "if maximum == len(string):\n",
    "    print (f\"{prefix[0]}\")\n",
    "else:\n",
    "    print (\"empty\")\n",
    "# if string[]\n",
    "\n",
    "# print (prefix)\n",
    "# for word in string[]:\n",
    "#     count[word] = count.get(word, 0) + 1\n",
    "# print (count)"
   ]
  },
  {
   "cell_type": "code",
   "execution_count": 161,
   "metadata": {},
   "outputs": [],
   "source": [
    "string = [\"flower\",\"flow\", \"flight\"]\n",
    "string = sorted(string)\n",
    "# print(string)"
   ]
  },
  {
   "cell_type": "code",
   "execution_count": 162,
   "metadata": {},
   "outputs": [],
   "source": [
    "first = string[0]\n",
    "last = string[-1]\n",
    "ans = \"\""
   ]
  },
  {
   "cell_type": "code",
   "execution_count": 166,
   "metadata": {},
   "outputs": [
    {
     "name": "stdout",
     "output_type": "stream",
     "text": [
      "fl\n"
     ]
    }
   ],
   "source": [
    "string = [\"flower\",\"flow\", \"flight\"]\n",
    "string = sorted(string)\n",
    "\n",
    "first = string[0]\n",
    "last = string[-1]\n",
    "ans = \"\"\n",
    "\n",
    "for i in range(min(len(first), len(last))):\n",
    "\n",
    "    if (first[i] != last[i]):\n",
    "        break\n",
    "\n",
    "    else:\n",
    "        ans += first[i]\n",
    "\n",
    "print(ans)\n"
   ]
  },
  {
   "cell_type": "markdown",
   "metadata": {},
   "source": [
    "# problem 1: two sum"
   ]
  },
  {
   "cell_type": "code",
   "execution_count": 56,
   "metadata": {},
   "outputs": [
    {
     "data": {
      "text/plain": [
       "[0, 0]"
      ]
     },
     "execution_count": 56,
     "metadata": {},
     "output_type": "execute_result"
    }
   ],
   "source": [
    "\n",
    "def two_sum(nums, target):\n",
    "    i = 0\n",
    "    j = len(nums) - 1\n",
    "    nums_sort = sorted(nums)\n",
    "    pairs = {}\n",
    "    for k, num in enumerate(nums):\n",
    "        if num in pairs:\n",
    "            pairs[num].append(k)\n",
    "        else:\n",
    "            pairs[num] = [k]\n",
    "\n",
    "    while i < j:\n",
    "\n",
    "        if nums_sort[i] + nums_sort[j] == target:\n",
    "            first, second = nums_sort[i], nums_sort[j]\n",
    "            if len(pairs[first]) >= 3:\n",
    "                return pairs[first][0]\n",
    "            else:\n",
    "                return [pairs[first][0], pairs[second][0]]\n",
    "        elif nums[i] + nums[j] > target:\n",
    "            j -= 1\n",
    "\n",
    "        elif nums[i] + nums[j] < target:\n",
    "            i += 1\n",
    "\n",
    "# two_sum([2,7,11,15], 9)\n",
    "# two_sum([3,2,4], 6)\n",
    "two_sum([3,3], 6)\n",
    "# two_sum([0, 2, 4, 5], 5)\n",
    "# assert two_sum([2,7,11,15], 9) == [0, 1], \"Test case 1 failed\"\n",
    "# assert two_sum([3,2,4], 6) == [1, 2], \"Test case 2 failed\"\n",
    "# assert two_sum([3,3], 6) == [0, 1], \"Test case 3 failed\"\n",
    "# assert two_sum([0, 2, 4, 5], 5) == [0, 3], \"Test case 4 failed\"\n"
   ]
  },
  {
   "cell_type": "code",
   "execution_count": 15,
   "metadata": {},
   "outputs": [
    {
     "name": "stdout",
     "output_type": "stream",
     "text": [
      "{1: [0, 1], 2: [2]}\n"
     ]
    }
   ],
   "source": [
    "nums = [1,1,2]\n",
    "pairs = {}\n",
    "for k, num in enumerate(nums):\n",
    "    if num in pairs:\n",
    "        pairs[num].append(k)\n",
    "    else:\n",
    "        pairs[num] = [k]\n",
    "print(pairs)"
   ]
  },
  {
   "cell_type": "code",
   "execution_count": 61,
   "metadata": {},
   "outputs": [
    {
     "data": {
      "text/plain": [
       "[0, 0]"
      ]
     },
     "execution_count": 61,
     "metadata": {},
     "output_type": "execute_result"
    }
   ],
   "source": [
    "def twoSum(nums, target):\n",
    "    nums_with_indices = [(num, i) for i, num in enumerate(nums)]\n",
    "\n",
    "    nums_with_indices.sort(key=lambda x: x[0])\n",
    "\n",
    "    left, right = 0, len(nums) - 1\n",
    "\n",
    "    while left < right:\n",
    "        current_sum = nums_with_indices[left][0] + nums_with_indices[right][0]\n",
    "        if current_sum == target:\n",
    "            return [nums_with_indices[left][1], nums_with_indices[right][1]]\n",
    "        elif current_sum < target:\n",
    "            left += 1\n",
    "        else:\n",
    "            right -= 1\n",
    "\n",
    "    return []\n",
    "\n",
    "def findIndex(nums, target):\n",
    "    for i, num in enumerate(nums):\n",
    "        if num == target:\n",
    "            return i\n",
    "\n",
    "    return -1\n",
    "\n",
    "\n",
    "\n",
    "# two_sum([2,7,11,15], 9)\n",
    "# two_sum([3,2,4], 6)\n",
    "two_sum([3,3], 6)\n",
    "# two_sum([0, 2, 4, 5], 5)\n",
    "# assert two_sum([2,7,11,15], 9) == [0, 1], \"Test case 1 failed\"\n",
    "# assert two_sum([3,2,4], 6) == [1, 2], \"Test case 2 failed\"\n",
    "# assert two_sum([3,3], 6) == [0, 1], \"Test case 3 failed\"\n",
    "# assert two_sum([0, 2, 4, 5], 5) == [0, 3], \"Test case 4 failed\""
   ]
  },
  {
   "cell_type": "code",
   "execution_count": null,
   "metadata": {},
   "outputs": [],
   "source": []
  },
  {
   "cell_type": "code",
   "execution_count": null,
   "metadata": {},
   "outputs": [],
   "source": []
  },
  {
   "cell_type": "code",
   "execution_count": null,
   "metadata": {},
   "outputs": [],
   "source": []
  },
  {
   "cell_type": "code",
   "execution_count": null,
   "metadata": {},
   "outputs": [],
   "source": []
  },
  {
   "cell_type": "code",
   "execution_count": null,
   "metadata": {},
   "outputs": [],
   "source": []
  },
  {
   "cell_type": "code",
   "execution_count": null,
   "metadata": {},
   "outputs": [],
   "source": []
  },
  {
   "cell_type": "code",
   "execution_count": null,
   "metadata": {},
   "outputs": [],
   "source": []
  },
  {
   "cell_type": "code",
   "execution_count": null,
   "metadata": {},
   "outputs": [],
   "source": []
  },
  {
   "cell_type": "code",
   "execution_count": null,
   "metadata": {},
   "outputs": [],
   "source": []
  },
  {
   "cell_type": "code",
   "execution_count": null,
   "metadata": {},
   "outputs": [],
   "source": []
  },
  {
   "cell_type": "code",
   "execution_count": null,
   "metadata": {},
   "outputs": [],
   "source": []
  },
  {
   "cell_type": "code",
   "execution_count": null,
   "metadata": {},
   "outputs": [],
   "source": []
  },
  {
   "cell_type": "code",
   "execution_count": null,
   "metadata": {},
   "outputs": [],
   "source": []
  },
  {
   "cell_type": "code",
   "execution_count": null,
   "metadata": {},
   "outputs": [],
   "source": []
  },
  {
   "cell_type": "code",
   "execution_count": null,
   "metadata": {},
   "outputs": [],
   "source": []
  },
  {
   "cell_type": "code",
   "execution_count": null,
   "metadata": {},
   "outputs": [],
   "source": []
  },
  {
   "cell_type": "code",
   "execution_count": null,
   "metadata": {},
   "outputs": [],
   "source": []
  },
  {
   "cell_type": "code",
   "execution_count": null,
   "metadata": {},
   "outputs": [],
   "source": []
  },
  {
   "cell_type": "code",
   "execution_count": null,
   "metadata": {},
   "outputs": [],
   "source": []
  },
  {
   "cell_type": "code",
   "execution_count": 20,
   "metadata": {},
   "outputs": [
    {
     "name": "stdout",
     "output_type": "stream",
     "text": [
      "Help on built-in function get:\n",
      "\n",
      "get(key, default=None, /) method of builtins.dict instance\n",
      "    Return the value for key if key is in the dictionary, else default.\n",
      "\n"
     ]
    }
   ],
   "source": [
    "help({}.get)"
   ]
  },
  {
   "cell_type": "code",
   "execution_count": null,
   "metadata": {},
   "outputs": [],
   "source": []
  },
  {
   "cell_type": "code",
   "execution_count": null,
   "metadata": {},
   "outputs": [],
   "source": []
  },
  {
   "cell_type": "code",
   "execution_count": null,
   "metadata": {},
   "outputs": [],
   "source": []
  },
  {
   "cell_type": "code",
   "execution_count": null,
   "metadata": {},
   "outputs": [],
   "source": []
  },
  {
   "cell_type": "code",
   "execution_count": null,
   "metadata": {},
   "outputs": [],
   "source": []
  },
  {
   "cell_type": "code",
   "execution_count": null,
   "metadata": {},
   "outputs": [],
   "source": []
  },
  {
   "cell_type": "code",
   "execution_count": null,
   "metadata": {},
   "outputs": [],
   "source": []
  },
  {
   "cell_type": "code",
   "execution_count": null,
   "metadata": {},
   "outputs": [],
   "source": []
  },
  {
   "cell_type": "code",
   "execution_count": null,
   "metadata": {},
   "outputs": [],
   "source": []
  },
  {
   "cell_type": "code",
   "execution_count": null,
   "metadata": {},
   "outputs": [],
   "source": []
  },
  {
   "cell_type": "code",
   "execution_count": null,
   "metadata": {},
   "outputs": [],
   "source": []
  },
  {
   "cell_type": "code",
   "execution_count": null,
   "metadata": {},
   "outputs": [],
   "source": []
  },
  {
   "cell_type": "code",
   "execution_count": null,
   "metadata": {},
   "outputs": [],
   "source": []
  },
  {
   "cell_type": "code",
   "execution_count": null,
   "metadata": {},
   "outputs": [],
   "source": []
  },
  {
   "cell_type": "code",
   "execution_count": null,
   "metadata": {},
   "outputs": [],
   "source": []
  },
  {
   "cell_type": "code",
   "execution_count": null,
   "metadata": {},
   "outputs": [],
   "source": []
  }
 ],
 "metadata": {
  "kernelspec": {
   "display_name": "base",
   "language": "python",
   "name": "python3"
  },
  "language_info": {
   "codemirror_mode": {
    "name": "ipython",
    "version": 3
   },
   "file_extension": ".py",
   "mimetype": "text/x-python",
   "name": "python",
   "nbconvert_exporter": "python",
   "pygments_lexer": "ipython3",
   "version": "3.12.3"
  }
 },
 "nbformat": 4,
 "nbformat_minor": 2
}
